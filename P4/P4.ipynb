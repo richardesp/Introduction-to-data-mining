{
 "cells": [
  {
   "cell_type": "code",
   "execution_count": 1,
   "metadata": {
    "collapsed": true
   },
   "outputs": [],
   "source": [
    "from scipy.io import arff\n",
    "import pandas as pd\n",
    "from imblearn.metrics import geometric_mean_score\n",
    "import numpy as np\n",
    "import matplotlib.pyplot as plt\n",
    "from sklearn import tree, svm, neighbors\n",
    "from sklearn.model_selection import StratifiedKFold, KFold\n",
    "from sklearn.model_selection import GridSearchCV, StratifiedShuffleSplit\n",
    "from sklearn.metrics import f1_score\n",
    "\n",
    "data = arff.loadarff('vehicle.arff')\n",
    "df_vehicle = pd.DataFrame(data[0])\n",
    "\n",
    "# Drop the last column\n",
    "df_vehicle_clust = df_vehicle.iloc[:, :-2]\n",
    "\n",
    "data = arff.loadarff('vowel.arff')\n",
    "df_vowel = pd.DataFrame(data[0])\n",
    "\n",
    "# Drop the last column\n",
    "df_vowel_clust = df_vowel.iloc[:, :-2]\n",
    "\n",
    "data = arff.loadarff('iris.arff')\n",
    "df_iris = pd.DataFrame(data[0])\n",
    "\n",
    "# Drop the last column\n",
    "df_iris_clust = df_iris.iloc[:, :-2]\n",
    "\n",
    "data = arff.loadarff('diabetes.arff')\n",
    "df_diabe = pd.DataFrame(data[0])\n",
    "\n",
    "# Drop the last column\n",
    "df_diabe_clust = df_diabe.iloc[:, :-2]\n",
    "\n",
    "data = arff.loadarff('ionosphere.arff')\n",
    "df_iono = pd.DataFrame(data[0])\n",
    "\n",
    "# Drop the last column\n",
    "df_iono_clust = df_iono.iloc[:, :-2]"
   ]
  },
  {
   "cell_type": "code",
   "execution_count": null,
   "outputs": [],
   "source": [
    "# Seleccione el algoritmo de clustering k-means.\n",
    "\n",
    "from sklearn.cluster import KMeans"
   ],
   "metadata": {
    "collapsed": false
   }
  },
  {
   "cell_type": "code",
   "execution_count": null,
   "outputs": [],
   "source": [
    "# Selecciones los algoritmos de clustering jerárquicos single link, complete link y average link.\n",
    "\n",
    "from sklearn.cluster import AgglomerativeClustering"
   ],
   "metadata": {
    "collapsed": false
   }
  },
  {
   "cell_type": "code",
   "execution_count": 10,
   "outputs": [
    {
     "name": "stdout",
     "output_type": "stream",
     "text": [
      "[[4.33922676 0.14019986 3.54472744 5.45813613 2.69564983]\n",
      " [4.38925456 0.43595413 3.55130388 5.53680865 2.61146089]\n",
      " [4.56240677 0.40994634 3.73208064 5.71893784 2.79544773]\n",
      " [4.42266888 0.51696808 3.58276481 5.59519883 2.62162698]\n",
      " [4.38558244 0.19301813 3.59530301 5.51010435 2.74738567]\n",
      " [4.02547444 0.66577474 3.28846187 5.10551173 2.5645522 ]\n",
      " [4.52523787 0.41140734 3.70638838 5.68781593 2.78469532]\n",
      " [4.27252202 0.04069398 3.46515726 5.40751791 2.58776506]\n",
      " [4.60591407 0.79978497 3.7528631  5.78932207 2.75821101]\n",
      " [4.29689811 0.33712906 3.46403479 5.44713227 2.53340246]\n",
      " [4.17718672 0.48585595 3.4173712  5.26082218 2.64955242]\n",
      " [4.25962961 0.24749949 3.4453807  5.41490997 2.54325146]\n",
      " [4.42844342 0.47037857 3.58756856 5.58401737 2.63653712]\n",
      " [4.91550834 0.89758342 4.06797565 6.09395192 3.08287658]\n",
      " [4.42794158 1.01924286 3.72463023 5.43886477 3.06243824]\n",
      " [4.26900977 1.20301953 3.60795161 5.2741113  3.01252851]\n",
      " [4.40100999 0.64378257 3.65947527 5.46866071 2.91604664]\n",
      " [4.33922676 0.14019986 3.54472744 5.45813613 2.69564983]\n",
      " [3.92796243 0.82659301 3.20235735 4.9765701  2.52034283]\n",
      " [4.28770853 0.39503924 3.52098208 5.39780048 2.72119974]\n",
      " [3.95094925 0.45962593 3.16273147 5.05383518 2.35094194]\n",
      " [4.27148166 0.29942612 3.49500967 5.38620924 2.67860561]\n",
      " [4.90509939 0.6428499  4.10116289 6.04824355 3.20638862]\n",
      " [4.04323853 0.28009998 3.23068334 5.17988899 2.35196258]\n",
      " [3.9901267  0.48255155 3.17605334 5.15667044 2.27449511]\n",
      " [4.16626665 0.43960892 3.3292614  5.31330876 2.39685794]\n",
      " [4.18011164 0.13731715 3.37236866 5.31895196 2.49498056]\n",
      " [4.21215173 0.21367265 3.42224477 5.32505869 2.5890786 ]\n",
      " [4.2970274  0.2050756  3.49914011 5.40936688 2.65045807]\n",
      " [4.29094654 0.39956977 3.4590595  5.45859414 2.51788165]\n",
      " [4.24591307 0.4025618  3.40939606 5.40798021 2.46538597]\n",
      " [4.14152414 0.3960505  3.35436421 5.23653034 2.53971022]\n",
      " [4.31689189 0.70996901 3.58679419 5.40057867 2.8536517 ]\n",
      " [4.34958491 0.92717636 3.64761464 5.39131246 2.97491647]\n",
      " [4.29689811 0.33712906 3.46403479 5.44713227 2.53340246]\n",
      " [4.54092502 0.34242663 3.72104874 5.66932536 2.81980992]\n",
      " [4.31599094 0.52693074 3.5445707  5.38899341 2.75893603]\n",
      " [4.29689811 0.33712906 3.46403479 5.44713227 2.53340246]\n",
      " [4.69195529 0.75422543 3.84456085 5.87122219 2.86170019]\n",
      " [4.2366129  0.10225458 3.43342772 5.36248543 2.57000545]\n",
      " [4.46716415 0.18345572 3.66857274 5.5916232  2.80530355]\n",
      " [4.70708686 1.23808562 3.83486684 5.87632964 2.81206828]\n",
      " [4.6938494  0.66457204 3.85812034 5.87037052 2.89643367]\n",
      " [4.18953723 0.15892136 3.39044136 5.32505869 2.52881949]\n",
      " [3.92173431 0.58724441 3.15904052 5.04541871 2.37455849]\n",
      " [4.42844342 0.47037857 3.58756856 5.58401737 2.63653712]\n",
      " [4.19563265 0.41624032 3.42970412 5.30907242 2.63312134]\n",
      " [4.51442134 0.46524832 3.68142233 5.68165909 2.7339583 ]\n",
      " [4.20647649 0.40896944 3.4405399  5.30106121 2.65550899]\n",
      " [4.35851657 0.13437262 3.54394371 5.49238109 2.65294704]\n",
      " [0.87749644 3.80726358 0.92890816 1.67070344 1.7925758 ]\n",
      " [0.98262686 3.34784348 0.49506827 2.09791563 1.22724407]\n",
      " [0.6437736  3.93629979 0.8189311  1.51368755 1.78093459]\n",
      " [1.9624248  2.81518312 1.10784241 3.14185455 0.3138917 ]\n",
      " [0.89628864 3.52823695 0.37798197 1.98651705 1.22593964]\n",
      " [1.32245563 3.17503638 0.49842344 2.54877422 0.6537033 ]\n",
      " [0.8412953  3.48712718 0.48714968 1.99279954 1.32080581]\n",
      " [2.80911216 2.10201237 1.94009832 4.0194838  0.88279556]\n",
      " [0.86986589 3.55579189 0.47560877 1.92516233 1.32715033]\n",
      " [2.10818511 2.54700923 1.25988683 3.33410408 0.32392592]\n",
      " [2.72539498 2.48114006 1.87278264 3.90272341 0.88573585]\n",
      " [1.42789667 2.90854878 0.59868683 2.62797451 0.63160747]\n",
      " [1.78450118 2.98376541 0.97501187 2.88465769 0.64072459]\n",
      " [0.90737717 3.45497554 0.07876359 2.12161495 1.03330925]\n",
      " [2.10317221 2.27676437 1.24881425 3.2948824  0.4396908 ]\n",
      " [1.06353708 3.40453462 0.69328793 2.05213304 1.3830864 ]\n",
      " [1.36829172 3.12167519 0.60972064 2.60216256 0.72036657]\n",
      " [1.60277537 2.84507575 0.72463273 2.79754357 0.36349415]\n",
      " [1.33707807 3.48230613 0.67871065 2.39191346 0.99464969]\n",
      " [1.91949067 2.67014157 1.04274389 3.10905934 0.1361176 ]\n",
      " [0.9539392  3.46058608 0.44294887 2.17629272 1.14425871]\n",
      " [1.55313303 2.83020423 0.72463273 2.69930547 0.63160747]\n",
      " [0.83333333 3.78460777 0.41309581 1.93164438 1.27331379]\n",
      " [0.92975505 3.47137667 0.06309898 2.13453742 1.00882506]\n",
      " [1.17945373 3.20225795 0.49730757 2.28172084 1.01947437]\n",
      " [1.0572501  3.3668466  0.5807881  2.09553096 1.26274621]\n",
      " [0.73786479 3.83787128 0.66129783 1.67667826 1.58269643]\n",
      " [0.47492689 3.94305161 0.6416847  1.51863425 1.6653312 ]\n",
      " [1.12743564 3.23630283 0.27199537 2.33800128 0.82615253]\n",
      " [2.19139732 2.30131615 1.32228058 3.3565235  0.45091906]\n",
      " [2.0813991  2.59562247 1.20765307 3.26745314 0.2274379 ]\n",
      " [2.16178938 2.50600399 1.28564006 3.34458518 0.2886659 ]\n",
      " [1.77513693 2.66083746 0.90220922 2.95740596 0.30875233]\n",
      " [0.76594169 3.83719377 0.42763345 1.94839678 1.29341718]\n",
      " [1.51767366 3.08986343 0.7934337  2.74977272 0.72258425]\n",
      " [1.16856988 3.19462924 0.62055829 2.34334163 1.11019278]\n",
      " [0.76666667 3.66639551 0.61425957 1.77799044 1.51595778]\n",
      " [1.32748718 3.39771335 0.64685851 2.38143864 0.97945291]\n",
      " [1.67232373 2.73423774 0.84234021 2.89331125 0.45313133]\n",
      " [1.8944363  2.74190737 1.02555315 3.09535943 0.1361176 ]\n",
      " [1.57585955 3.08759712 0.75908083 2.79038528 0.49206504]\n",
      " [0.98149546 3.34754477 0.20705161 2.19003425 0.99464969]\n",
      " [1.71204881 2.78044169 0.83505378 2.89331125 0.30615029]\n",
      " [2.77608838 2.14961764 1.90338393 3.97570748 0.84718829]\n",
      " [1.63060997 2.89033839 0.76708926 2.8471477  0.32206832]\n",
      " [1.53297097 2.85342881 0.70441728 2.75249886 0.53115723]\n",
      " [1.53984126 2.86978327 0.68846313 2.7588494  0.46057356]\n",
      " [1.22565175 3.12039356 0.43022389 2.3824882  0.85001647]\n",
      " [2.91928454 1.79188616 2.0424885  4.1135447  1.00046389]\n",
      " [1.63503313 2.79500555 0.76563941 2.84539101 0.33723582]\n",
      " [0.65828059 4.71843788 1.36731015 1.22525508 2.3438703 ]\n",
      " [0.92616293 3.79031081 0.52976235 2.10386549 1.2313115 ]\n",
      " [0.68799225 4.9231754  1.52518973 0.56236109 2.58118732]\n",
      " [0.34960295 4.36454534 0.89354682 1.38609163 1.89212262]\n",
      " [0.35746018 4.60517709 1.14629031 1.10283725 2.1734139 ]\n",
      " [1.53550571 5.76906024 2.38131227 0.34820971 3.43268525]\n",
      " [2.00914576 3.17352422 1.30876674 3.20331859 0.85447528]\n",
      " [1.12200218 5.37751392 1.95663638 0.28504386 3.0038189 ]\n",
      " [0.66499791 4.74481359 1.2590046  1.114114   2.23842087]\n",
      " [1.04827901 5.13217848 1.89519373 0.58416607 2.94410054]\n",
      " [0.391578   3.93701105 0.63208942 1.54798256 1.66280726]\n",
      " [0.42687495 4.144111   0.64685851 1.52847964 1.65629949]\n",
      " [0.23333333 4.43649141 1.02987773 1.05415843 2.08895381]\n",
      " [1.1343133  3.71855563 0.62412902 2.2871926  1.11325109]\n",
      " [0.89256186 3.77264576 0.51270886 2.085965   1.24343395]\n",
      " [0.27688746 4.08725531 0.72769296 1.47011904 1.75878594]\n",
      " [0.10540926 4.32389362 0.87023837 1.26737919 1.9179489 ]\n",
      " [1.83363634 5.90078435 2.69352791 0.81624139 3.74701588]\n",
      " [1.88502874 6.12183437 2.68691962 0.82840208 3.7090333 ]\n",
      " [1.12842073 3.86973591 0.71147994 2.17284376 1.26274621]\n",
      " [0.42946996 4.64526167 1.2873674  0.83441596 2.34711056]\n",
      " [1.15325626 3.5413071  0.57405317 2.36246693 1.01613385]\n",
      " [1.69509095 5.92074793 2.5165195  0.56236109 3.55529577]\n",
      " [0.71569702 3.74113031 0.27403028 1.8764994  1.27331379]\n",
      " [0.36666667 4.56368886 1.2154484  0.99561539 2.26321188]\n",
      " [0.83931189 5.04345675 1.69626496 0.41382363 2.75668787]\n",
      " [0.7986099  3.59672851 0.10318986 1.99530699 1.14652867]\n",
      " [0.73484692 3.63010413 0.24400213 1.96627821 1.2225089 ]\n",
      " [0.34318767 4.40813521 0.91504908 1.32334803 1.92315574]\n",
      " [0.71336449 4.87742309 1.51715499 0.58416607 2.56953848]\n",
      " [1.07548439 5.25410849 1.86445802 0.38890873 2.90250375]\n",
      " [1.78730088 5.73456677 2.61163706 0.80389676 3.65673734]\n",
      " [0.34318767 4.40813521 0.91504908 1.32334803 1.92315574]\n",
      " [0.51854497 3.90856188 0.41039728 1.71062854 1.44503564]\n",
      " [0.67577116 4.35573828 0.91078924 1.6298006  1.7925758 ]\n",
      " [1.29529062 5.37818334 2.08422203 0.32596012 3.12565641]\n",
      " [0.46547467 4.33373465 1.05334564 1.39508064 2.03227164]\n",
      " [0.18856181 4.28178187 0.85931713 1.34024252 1.89212262]\n",
      " [0.87559504 3.50594581 0.22993558 2.10742734 1.0944076 ]\n",
      " [0.32998316 4.37954975 1.04805817 1.06829303 2.10088743]\n",
      " [0.19436506 4.48076511 1.07112782 1.04462912 2.12925527]\n",
      " [0.48189441 4.11203794 0.88417151 1.33088317 1.89961259]\n",
      " [0.92616293 3.79031081 0.52976235 2.10386549 1.2313115 ]\n",
      " [0.51747249 4.78999541 1.39546222 0.78819414 2.44894426]\n",
      " [0.36666667 4.56368886 1.2154484  0.99561539 2.26321188]\n",
      " [0.28867513 4.12335494 0.75024687 1.35138818 1.80281114]\n",
      " [0.77028133 3.8756233  0.4649771  1.8604435  1.35267439]\n",
      " [0.27284509 4.04530048 0.61696689 1.47521185 1.67729783]\n",
      " [0.51424162 4.11315645 0.88165459 1.5846924  1.82891443]\n",
      " [0.76739096 3.76755305 0.47793925 1.98399849 1.31701481]]\n",
      "(150, 5)\n"
     ]
    }
   ],
   "source": [
    "from sklearn.cluster import KMeans\n",
    "from sklearn.metrics import pairwise_distances\n",
    "\n",
    "# Assume that X is the data\n",
    "X = df_iris_clust.values\n",
    "\n",
    "# Create a KMeans model with 5 clusters\n",
    "model = KMeans(n_clusters=5)\n",
    "\n",
    "# Fit the model to the data\n",
    "model.fit(X)\n",
    "\n",
    "# Transform the data into the cluster space\n",
    "distances_matrix = model.transform(X)\n",
    "\n",
    "print(distances_matrix)\n",
    "print(distances_matrix.shape)"
   ],
   "metadata": {
    "collapsed": false
   }
  },
  {
   "cell_type": "code",
   "execution_count": 14,
   "outputs": [
    {
     "name": "stdout",
     "output_type": "stream",
     "text": [
      "[[0.         0.         0.         ... 8.77496439 8.77496439 9.2736185 ]\n",
      " [0.         0.         0.         ... 8.77496439 8.77496439 9.2736185 ]\n",
      " [0.         0.         0.         ... 8.77496439 8.77496439 9.2736185 ]\n",
      " ...\n",
      " [8.77496439 8.77496439 8.77496439 ... 0.         0.         7.93725393]\n",
      " [8.77496439 8.77496439 8.77496439 ... 0.         0.         7.93725393]\n",
      " [9.2736185  9.2736185  9.2736185  ... 7.93725393 7.93725393 0.        ]]\n"
     ]
    }
   ],
   "source": [
    "distances_matrix = pairwise_distances(incidence_matrix)\n",
    "print(distances_matrix)"
   ],
   "metadata": {
    "collapsed": false
   }
  },
  {
   "cell_type": "code",
   "execution_count": 11,
   "outputs": [
    {
     "name": "stdout",
     "output_type": "stream",
     "text": [
      "[[1. 1. 1. ... 0. 0. 0.]\n",
      " [1. 1. 1. ... 0. 0. 0.]\n",
      " [1. 1. 1. ... 0. 0. 0.]\n",
      " ...\n",
      " [0. 0. 0. ... 1. 1. 0.]\n",
      " [0. 0. 0. ... 1. 1. 0.]\n",
      " [0. 0. 0. ... 0. 0. 1.]]\n",
      "(150, 150)\n"
     ]
    }
   ],
   "source": [
    "import numpy as np\n",
    "from sklearn.cluster import KMeans\n",
    "\n",
    "# Assume that X is the data\n",
    "\n",
    "# Create a KMeans model with 5 clusters\n",
    "model = KMeans(n_clusters=5)\n",
    "\n",
    "# Fit the model to the data\n",
    "model.fit(X)\n",
    "\n",
    "# Obtain the cluster labels for each data point\n",
    "cluster_labels = model.labels_\n",
    "\n",
    "# Initialize an empty matrix with the same number of rows and columns as the number of data points\n",
    "incidence_matrix = np.empty((X.shape[0], X.shape[0]))\n",
    "\n",
    "# Iterate over all pairs of data points\n",
    "for i in range(X.shape[0]):\n",
    "    for j in range(X.shape[0]):\n",
    "        # If the data points belong to the same cluster, fill in the matrix with 1\n",
    "        if cluster_labels[i] == cluster_labels[j]:\n",
    "            incidence_matrix[i, j] = 1\n",
    "        # If the data points belong to different clusters, fill in the matrix with 0\n",
    "        else:\n",
    "            incidence_matrix[i, j] = 0\n",
    "\n",
    "print(incidence_matrix)\n",
    "print(incidence_matrix.shape)"
   ],
   "metadata": {
    "collapsed": false
   }
  },
  {
   "cell_type": "code",
   "execution_count": 16,
   "outputs": [
    {
     "name": "stdout",
     "output_type": "stream",
     "text": [
      "[[0.         0.53851648 0.50990195 ... 4.08044115 4.14969878 3.81837662]\n",
      " [0.53851648 0.         0.3        ... 4.12310563 4.22492603 3.83275358]\n",
      " [0.50990195 0.3        0.         ... 4.3        4.37035468 3.98998747]\n",
      " ...\n",
      " [4.08044115 4.12310563 4.3        ... 0.         0.53851648 0.60827625]\n",
      " [4.14969878 4.22492603 4.37035468 ... 0.53851648 0.         0.58309519]\n",
      " [3.81837662 3.83275358 3.98998747 ... 0.60827625 0.58309519 0.        ]]\n",
      "(150, 150)\n"
     ]
    }
   ],
   "source": [
    "import numpy as np\n",
    "from scipy.spatial.distance import cdist\n",
    "\n",
    "# Assume that X is the data\n",
    "\n",
    "# Compute the Euclidean distance matrix\n",
    "distance_matrix = cdist(X, X, metric='euclidean')\n",
    "\n",
    "# Initialize an empty matrix with the same number of rows and columns as the number of data points\n",
    "proximity_matrix = np.empty((X.shape[0], X.shape[0]))\n",
    "\n",
    "# Iterate over all pairs of data points\n",
    "for i in range(X.shape[0]):\n",
    "    for j in range(X.shape[0]):\n",
    "        # Fill in the matrix with the distance between the corresponding pairs of data points\n",
    "        proximity_matrix[i, j] = distance_matrix[i, j]\n",
    "\n",
    "print(proximity_matrix)\n",
    "print(proximity_matrix.shape)"
   ],
   "metadata": {
    "collapsed": false
   }
  },
  {
   "cell_type": "code",
   "execution_count": 22,
   "outputs": [
    {
     "name": "stdout",
     "output_type": "stream",
     "text": [
      "[[ 1.          0.99145707  0.9925972  ...  0.44804663  0.44804663\n",
      "   0.28309357]\n",
      " [ 0.99145707  1.          0.99877938 ...  0.45670455  0.45670455\n",
      "   0.27600795]\n",
      " [ 0.9925972   0.99877938  1.         ...  0.45184886  0.45184886\n",
      "   0.28409084]\n",
      " ...\n",
      " [ 0.44804663  0.45670455  0.45184886 ...  1.          1.\n",
      "  -0.26328623]\n",
      " [ 0.44804663  0.45670455  0.45184886 ...  1.          1.\n",
      "  -0.26328623]\n",
      " [ 0.28309357  0.27600795  0.28409084 ... -0.26328623 -0.26328623\n",
      "   1.        ]]\n"
     ]
    }
   ],
   "source": [
    "import numpy as np\n",
    "\n",
    "corr_matrix = np.corrcoef(proximity_matrix, incidence_matrix)\n",
    "print(corr_matrix)"
   ],
   "metadata": {
    "collapsed": false
   }
  },
  {
   "cell_type": "code",
   "execution_count": 68,
   "outputs": [
    {
     "name": "stdout",
     "output_type": "stream",
     "text": [
      "-0.015701414234118426\n"
     ]
    }
   ],
   "source": [
    "from sklearn.cluster import AgglomerativeClustering\n",
    "from sklearn.metrics import adjusted_rand_score\n",
    "\n",
    "# Assume that the incidence matrix is stored in a NumPy array called \"incidence_matrix\"\n",
    "# and that the proximity matrix is stored in a NumPy array called \"proximity_matrix\"\n",
    "\n",
    "n_clusters = 30\n",
    "\n",
    "# Use the proximity matrix to create a clustering of the data using Agglomerative Clustering\n",
    "clustering = AgglomerativeClustering(affinity='precomputed', linkage='average', n_clusters=n_clusters)\n",
    "clustering.fit(proximity_matrix)\n",
    "\n",
    "# Use the incidence matrix to create a reference clustering of the data\n",
    "reference_clustering = AgglomerativeClustering(affinity='precomputed', linkage='average', n_clusters=n_clusters)\n",
    "reference_clustering.fit(incidence_matrix)\n",
    "\n",
    "# Calculate the adjusted Rand index between the two clusterings\n",
    "ari = adjusted_rand_score(clustering.labels_, reference_clustering.labels_)\n",
    "\n",
    "print(ari)"
   ],
   "metadata": {
    "collapsed": false
   }
  },
  {
   "cell_type": "code",
   "execution_count": 91,
   "outputs": [
    {
     "data": {
      "text/plain": "<Figure size 640x480 with 1 Axes>",
      "image/png": "[encoded data removed]"
     },
     "metadata": {},
     "output_type": "display_data"
    }
   ],
   "source": [
    "import seaborn as sns\n",
    "from sklearn.datasets import make_blobs\n",
    "import matplotlib.pyplot as plt\n",
    "from sklearn.preprocessing import StandardScaler\n",
    "\n",
    "centers = 3\n",
    "X_train, true_labels = make_blobs(n_samples=100, centers=centers, random_state=10000)\n",
    "X_train = StandardScaler().fit_transform(X_train)\n",
    "sns.scatterplot(x=[X[0] for X in X_train],\n",
    "                y=[X[1] for X in X_train],\n",
    "                hue=true_labels,\n",
    "                palette=\"deep\",\n",
    "                legend=None\n",
    "                )\n",
    "plt.xlabel(\"x\")\n",
    "plt.ylabel(\"y\")\n",
    "plt.show()"
   ],
   "metadata": {
    "collapsed": false
   }
  },
  {
   "cell_type": "code",
   "execution_count": 92,
   "outputs": [
    {
     "name": "stdout",
     "output_type": "stream",
     "text": [
      "0.6804423164613378\n"
     ]
    }
   ],
   "source": [
    "import fastcluster as fc\n",
    "import numpy as np\n",
    "from scipy.cluster.hierarchy import cophenet\n",
    "\n",
    "X = X_train  # Original data (1000 observations)\n",
    "Z = fc.linkage_vector(X)         # Clustering\n",
    "\n",
    "orign_dists = fc.pdist(X)  # Matrix of original distances between observations\n",
    "cophe_dists = cophenet(Z)  # Matrix of cophenetic distances between observations\n",
    "\n",
    "# What I really want at the end of the day is\n",
    "corr_coef = np.corrcoef(orign_dists, cophe_dists)[0,1]\n",
    "print(corr_coef)"
   ],
   "metadata": {
    "collapsed": false
   }
  },
  {
   "cell_type": "code",
   "execution_count": null,
   "outputs": [],
   "source": [
    "from sklearn.metrics import silhouette_score\n",
    "\n"
   ],
   "metadata": {
    "collapsed": false
   }
  },
  {
   "cell_type": "code",
   "execution_count": null,
   "outputs": [],
   "source": [],
   "metadata": {
    "collapsed": false
   }
  }
 ],
 "metadata": {
  "kernelspec": {
   "display_name": "Python 3",
   "language": "python",
   "name": "python3"
  },
  "language_info": {
   "codemirror_mode": {
    "name": "ipython",
    "version": 2
   },
   "file_extension": ".py",
   "mimetype": "text/x-python",
   "name": "python",
   "nbconvert_exporter": "python",
   "pygments_lexer": "ipython2",
   "version": "2.7.6"
  }
 },
 "nbformat": 4,
 "nbformat_minor": 0
}
