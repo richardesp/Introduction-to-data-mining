{
 "cells": [
  {
   "cell_type": "code",
   "execution_count": null,
   "outputs": [],
   "source": [
    "!pip install scipy\n",
    "!pip install -U scikit-learn\n",
    "!pip install wittgenstein"
   ],
   "metadata": {
    "collapsed": false
   }
  },
  {
   "cell_type": "code",
   "execution_count": 1,
   "metadata": {
    "collapsed": true
   },
   "outputs": [],
   "source": [
    "#Disable warning of Ripper implementation\n",
    "import warnings\n",
    "warnings.simplefilter(action='ignore', category=FutureWarning)\n",
    "\n",
    "from scipy.io import arff\n",
    "import pandas as pd\n",
    "import matplotlib.pyplot as plt\n",
    "import numpy as np\n",
    "# import sklearn\n",
    "import wittgenstein as lw\n",
    "from sklearn.model_selection import train_test_split, GridSearchCV, StratifiedShuffleSplit\n",
    "from sklearn import tree, svm\n"
   ]
  },
  {
   "cell_type": "code",
   "execution_count": 2,
   "outputs": [],
   "source": [
    "data = arff.loadarff('ionosphere.arff')\n",
    "df_iono = pd.DataFrame(data[0])\n",
    "\n",
    "data = arff.loadarff('diabetes.arff')\n",
    "df_diabe = pd.DataFrame(data[0])\n",
    "\n",
    "data = arff.loadarff('vehicle.arff')\n",
    "df_Vehicle = pd.DataFrame(data[0])\n",
    "\n",
    "data = arff.loadarff('vowel.arff')\n",
    "df_vowel = pd.DataFrame(data[0])\n",
    "\n",
    "data = arff.loadarff('tae.arff')\n",
    "df_tae = pd.DataFrame(data[0])\n",
    "\n",
    "data = arff.loadarff('sonar.arff')\n",
    "df_sonar = pd.DataFrame(data[0])\n",
    "\n",
    "data = arff.loadarff('spambase.arff')\n",
    "df_spambase = pd.DataFrame(data[0])\n",
    "\n",
    "data = arff.loadarff('page_blocks.arff')\n",
    "df_page = pd.DataFrame(data[0])\n",
    "\n",
    "data = arff.loadarff('iris.arff')\n",
    "df_iris = pd.DataFrame(data[0])\n",
    "\n",
    "data = arff.loadarff('letter.arff')\n",
    "df_letter = pd.DataFrame(data[0])"
   ],
   "metadata": {
    "collapsed": false
   }
  },
  {
   "cell_type": "code",
   "execution_count": 3,
   "outputs": [
    {
     "data": {
      "text/plain": "   a01  a02      a03      a04      a05      a06      a07      a08      a09  \\\n0  1.0  0.0  0.99539 -0.05889  0.85243  0.02306  0.83398 -0.37708  1.00000   \n1  1.0  0.0  1.00000 -0.18829  0.93035 -0.36156 -0.10868 -0.93597  1.00000   \n2  1.0  0.0  1.00000 -0.03365  1.00000  0.00485  1.00000 -0.12062  0.88965   \n3  1.0  0.0  1.00000 -0.45161  1.00000  1.00000  0.71216 -1.00000  0.00000   \n4  1.0  0.0  1.00000 -0.02401  0.94140  0.06531  0.92106 -0.23255  0.77152   \n\n       a10  ...      a26      a27      a28      a29      a30      a31  \\\n0  0.03760  ... -0.51171  0.41078 -0.46168  0.21266 -0.34090  0.42267   \n1 -0.04549  ... -0.26569 -0.20468 -0.18401 -0.19040 -0.11593 -0.16626   \n2  0.01198  ... -0.40220  0.58984 -0.22145  0.43100 -0.17365  0.60436   \n3  0.00000  ...  0.90695  0.51613  1.00000  1.00000 -0.20099  0.25682   \n4 -0.16399  ... -0.65158  0.13290 -0.53206  0.02431 -0.62197 -0.05707   \n\n       a32      a33      a34  class  \n0 -0.54487  0.18641 -0.45300      0  \n1 -0.06288 -0.13738 -0.02447      1  \n2 -0.24180  0.56045 -0.38238      0  \n3  1.00000 -0.32382  1.00000      1  \n4 -0.59573 -0.04608 -0.65697      0  \n\n[5 rows x 35 columns]",
      "text/html": "<div>\n<style scoped>\n    .dataframe tbody tr th:only-of-type {\n        vertical-align: middle;\n    }\n\n    .dataframe tbody tr th {\n        vertical-align: top;\n    }\n\n    .dataframe thead th {\n        text-align: right;\n    }\n</style>\n<table border=\"1\" class=\"dataframe\">\n  <thead>\n    <tr style=\"text-align: right;\">\n      <th></th>\n      <th>a01</th>\n      <th>a02</th>\n      <th>a03</th>\n      <th>a04</th>\n      <th>a05</th>\n      <th>a06</th>\n      <th>a07</th>\n      <th>a08</th>\n      <th>a09</th>\n      <th>a10</th>\n      <th>...</th>\n      <th>a26</th>\n      <th>a27</th>\n      <th>a28</th>\n      <th>a29</th>\n      <th>a30</th>\n      <th>a31</th>\n      <th>a32</th>\n      <th>a33</th>\n      <th>a34</th>\n      <th>class</th>\n    </tr>\n  </thead>\n  <tbody>\n    <tr>\n      <th>0</th>\n      <td>1.0</td>\n      <td>0.0</td>\n      <td>0.99539</td>\n      <td>-0.05889</td>\n      <td>0.85243</td>\n      <td>0.02306</td>\n      <td>0.83398</td>\n      <td>-0.37708</td>\n      <td>1.00000</td>\n      <td>0.03760</td>\n      <td>...</td>\n      <td>-0.51171</td>\n      <td>0.41078</td>\n      <td>-0.46168</td>\n      <td>0.21266</td>\n      <td>-0.34090</td>\n      <td>0.42267</td>\n      <td>-0.54487</td>\n      <td>0.18641</td>\n      <td>-0.45300</td>\n      <td>0</td>\n    </tr>\n    <tr>\n      <th>1</th>\n      <td>1.0</td>\n      <td>0.0</td>\n      <td>1.00000</td>\n      <td>-0.18829</td>\n      <td>0.93035</td>\n      <td>-0.36156</td>\n      <td>-0.10868</td>\n      <td>-0.93597</td>\n      <td>1.00000</td>\n      <td>-0.04549</td>\n      <td>...</td>\n      <td>-0.26569</td>\n      <td>-0.20468</td>\n      <td>-0.18401</td>\n      <td>-0.19040</td>\n      <td>-0.11593</td>\n      <td>-0.16626</td>\n      <td>-0.06288</td>\n      <td>-0.13738</td>\n      <td>-0.02447</td>\n      <td>1</td>\n    </tr>\n    <tr>\n      <th>2</th>\n      <td>1.0</td>\n      <td>0.0</td>\n      <td>1.00000</td>\n      <td>-0.03365</td>\n      <td>1.00000</td>\n      <td>0.00485</td>\n      <td>1.00000</td>\n      <td>-0.12062</td>\n      <td>0.88965</td>\n      <td>0.01198</td>\n      <td>...</td>\n      <td>-0.40220</td>\n      <td>0.58984</td>\n      <td>-0.22145</td>\n      <td>0.43100</td>\n      <td>-0.17365</td>\n      <td>0.60436</td>\n      <td>-0.24180</td>\n      <td>0.56045</td>\n      <td>-0.38238</td>\n      <td>0</td>\n    </tr>\n    <tr>\n      <th>3</th>\n      <td>1.0</td>\n      <td>0.0</td>\n      <td>1.00000</td>\n      <td>-0.45161</td>\n      <td>1.00000</td>\n      <td>1.00000</td>\n      <td>0.71216</td>\n      <td>-1.00000</td>\n      <td>0.00000</td>\n      <td>0.00000</td>\n      <td>...</td>\n      <td>0.90695</td>\n      <td>0.51613</td>\n      <td>1.00000</td>\n      <td>1.00000</td>\n      <td>-0.20099</td>\n      <td>0.25682</td>\n      <td>1.00000</td>\n      <td>-0.32382</td>\n      <td>1.00000</td>\n      <td>1</td>\n    </tr>\n    <tr>\n      <th>4</th>\n      <td>1.0</td>\n      <td>0.0</td>\n      <td>1.00000</td>\n      <td>-0.02401</td>\n      <td>0.94140</td>\n      <td>0.06531</td>\n      <td>0.92106</td>\n      <td>-0.23255</td>\n      <td>0.77152</td>\n      <td>-0.16399</td>\n      <td>...</td>\n      <td>-0.65158</td>\n      <td>0.13290</td>\n      <td>-0.53206</td>\n      <td>0.02431</td>\n      <td>-0.62197</td>\n      <td>-0.05707</td>\n      <td>-0.59573</td>\n      <td>-0.04608</td>\n      <td>-0.65697</td>\n      <td>0</td>\n    </tr>\n  </tbody>\n</table>\n<p>5 rows × 35 columns</p>\n</div>"
     },
     "execution_count": 3,
     "metadata": {},
     "output_type": "execute_result"
    }
   ],
   "source": [
    "# Changing the last categorical class value into a numerical value\n",
    "df_iono['class'] = pd.factorize(df_iono['class'])[0]\n",
    "df_iono.head()"
   ],
   "metadata": {
    "collapsed": false
   }
  },
  {
   "cell_type": "code",
   "execution_count": 4,
   "outputs": [
    {
     "data": {
      "text/plain": "   preg   plas  pres  skin   insu  mass   pedi   age  class\n0   6.0  148.0  72.0  35.0    0.0  33.6  0.627  50.0      0\n1   1.0   85.0  66.0  29.0    0.0  26.6  0.351  31.0      1\n2   8.0  183.0  64.0   0.0    0.0  23.3  0.672  32.0      0\n3   1.0   89.0  66.0  23.0   94.0  28.1  0.167  21.0      1\n4   0.0  137.0  40.0  35.0  168.0  43.1  2.288  33.0      0",
      "text/html": "<div>\n<style scoped>\n    .dataframe tbody tr th:only-of-type {\n        vertical-align: middle;\n    }\n\n    .dataframe tbody tr th {\n        vertical-align: top;\n    }\n\n    .dataframe thead th {\n        text-align: right;\n    }\n</style>\n<table border=\"1\" class=\"dataframe\">\n  <thead>\n    <tr style=\"text-align: right;\">\n      <th></th>\n      <th>preg</th>\n      <th>plas</th>\n      <th>pres</th>\n      <th>skin</th>\n      <th>insu</th>\n      <th>mass</th>\n      <th>pedi</th>\n      <th>age</th>\n      <th>class</th>\n    </tr>\n  </thead>\n  <tbody>\n    <tr>\n      <th>0</th>\n      <td>6.0</td>\n      <td>148.0</td>\n      <td>72.0</td>\n      <td>35.0</td>\n      <td>0.0</td>\n      <td>33.6</td>\n      <td>0.627</td>\n      <td>50.0</td>\n      <td>0</td>\n    </tr>\n    <tr>\n      <th>1</th>\n      <td>1.0</td>\n      <td>85.0</td>\n      <td>66.0</td>\n      <td>29.0</td>\n      <td>0.0</td>\n      <td>26.6</td>\n      <td>0.351</td>\n      <td>31.0</td>\n      <td>1</td>\n    </tr>\n    <tr>\n      <th>2</th>\n      <td>8.0</td>\n      <td>183.0</td>\n      <td>64.0</td>\n      <td>0.0</td>\n      <td>0.0</td>\n      <td>23.3</td>\n      <td>0.672</td>\n      <td>32.0</td>\n      <td>0</td>\n    </tr>\n    <tr>\n      <th>3</th>\n      <td>1.0</td>\n      <td>89.0</td>\n      <td>66.0</td>\n      <td>23.0</td>\n      <td>94.0</td>\n      <td>28.1</td>\n      <td>0.167</td>\n      <td>21.0</td>\n      <td>1</td>\n    </tr>\n    <tr>\n      <th>4</th>\n      <td>0.0</td>\n      <td>137.0</td>\n      <td>40.0</td>\n      <td>35.0</td>\n      <td>168.0</td>\n      <td>43.1</td>\n      <td>2.288</td>\n      <td>33.0</td>\n      <td>0</td>\n    </tr>\n  </tbody>\n</table>\n</div>"
     },
     "execution_count": 4,
     "metadata": {},
     "output_type": "execute_result"
    }
   ],
   "source": [
    "# Changing the last categorical class value into a numerical value\n",
    "df_diabe['class'] = pd.factorize(df_diabe['class'])[0]\n",
    "df_diabe.head()"
   ],
   "metadata": {
    "collapsed": false
   }
  },
  {
   "cell_type": "code",
   "execution_count": 5,
   "outputs": [
    {
     "data": {
      "text/plain": "   Compactness  Circularity  Distance_circularity  Radius_ratio  \\\n0         85.0         45.0                  80.0         154.0   \n1         93.0         35.0                  78.0         162.0   \n2        108.0         49.0                 109.0         204.0   \n3         93.0         40.0                  73.0         139.0   \n4        100.0         58.0                 109.0         230.0   \n\n   Praxis_aspect_ratio  Max_length_aspect_ratio  Scatter_ratio  Elongatedness  \\\n0                 64.0                      9.0          147.0           45.0   \n1                 60.0                      8.0          150.0           45.0   \n2                 61.0                     11.0          212.0           31.0   \n3                 58.0                      6.0          136.0           49.0   \n4                 70.0                     11.0          226.0           30.0   \n\n   Praxis_rectangular  Length_rectangular  Major_variance  Minor_variance  \\\n0                19.0               148.0           169.0           324.0   \n1                19.0               125.0           172.0           331.0   \n2                24.0               159.0           229.0           665.0   \n3                18.0               138.0           166.0           275.0   \n4                25.0               182.0           234.0           752.0   \n\n   Gyration_radius  Major_skewness  Minor_skewness  Minor_kurtosis  \\\n0            174.0            71.0             1.0             4.0   \n1            137.0            67.0             2.0            33.0   \n2            215.0            71.0            16.0            11.0   \n3            137.0            73.0             0.0             0.0   \n4            207.0            72.0             0.0            13.0   \n\n   Major_kurtosis  Hollows_ratio  Class  \n0           188.0          199.0      0  \n1           191.0          198.0      1  \n2           190.0          199.0      1  \n3           187.0          188.0      0  \n4           187.0          198.0      1  ",
      "text/html": "<div>\n<style scoped>\n    .dataframe tbody tr th:only-of-type {\n        vertical-align: middle;\n    }\n\n    .dataframe tbody tr th {\n        vertical-align: top;\n    }\n\n    .dataframe thead th {\n        text-align: right;\n    }\n</style>\n<table border=\"1\" class=\"dataframe\">\n  <thead>\n    <tr style=\"text-align: right;\">\n      <th></th>\n      <th>Compactness</th>\n      <th>Circularity</th>\n      <th>Distance_circularity</th>\n      <th>Radius_ratio</th>\n      <th>Praxis_aspect_ratio</th>\n      <th>Max_length_aspect_ratio</th>\n      <th>Scatter_ratio</th>\n      <th>Elongatedness</th>\n      <th>Praxis_rectangular</th>\n      <th>Length_rectangular</th>\n      <th>Major_variance</th>\n      <th>Minor_variance</th>\n      <th>Gyration_radius</th>\n      <th>Major_skewness</th>\n      <th>Minor_skewness</th>\n      <th>Minor_kurtosis</th>\n      <th>Major_kurtosis</th>\n      <th>Hollows_ratio</th>\n      <th>Class</th>\n    </tr>\n  </thead>\n  <tbody>\n    <tr>\n      <th>0</th>\n      <td>85.0</td>\n      <td>45.0</td>\n      <td>80.0</td>\n      <td>154.0</td>\n      <td>64.0</td>\n      <td>9.0</td>\n      <td>147.0</td>\n      <td>45.0</td>\n      <td>19.0</td>\n      <td>148.0</td>\n      <td>169.0</td>\n      <td>324.0</td>\n      <td>174.0</td>\n      <td>71.0</td>\n      <td>1.0</td>\n      <td>4.0</td>\n      <td>188.0</td>\n      <td>199.0</td>\n      <td>0</td>\n    </tr>\n    <tr>\n      <th>1</th>\n      <td>93.0</td>\n      <td>35.0</td>\n      <td>78.0</td>\n      <td>162.0</td>\n      <td>60.0</td>\n      <td>8.0</td>\n      <td>150.0</td>\n      <td>45.0</td>\n      <td>19.0</td>\n      <td>125.0</td>\n      <td>172.0</td>\n      <td>331.0</td>\n      <td>137.0</td>\n      <td>67.0</td>\n      <td>2.0</td>\n      <td>33.0</td>\n      <td>191.0</td>\n      <td>198.0</td>\n      <td>1</td>\n    </tr>\n    <tr>\n      <th>2</th>\n      <td>108.0</td>\n      <td>49.0</td>\n      <td>109.0</td>\n      <td>204.0</td>\n      <td>61.0</td>\n      <td>11.0</td>\n      <td>212.0</td>\n      <td>31.0</td>\n      <td>24.0</td>\n      <td>159.0</td>\n      <td>229.0</td>\n      <td>665.0</td>\n      <td>215.0</td>\n      <td>71.0</td>\n      <td>16.0</td>\n      <td>11.0</td>\n      <td>190.0</td>\n      <td>199.0</td>\n      <td>1</td>\n    </tr>\n    <tr>\n      <th>3</th>\n      <td>93.0</td>\n      <td>40.0</td>\n      <td>73.0</td>\n      <td>139.0</td>\n      <td>58.0</td>\n      <td>6.0</td>\n      <td>136.0</td>\n      <td>49.0</td>\n      <td>18.0</td>\n      <td>138.0</td>\n      <td>166.0</td>\n      <td>275.0</td>\n      <td>137.0</td>\n      <td>73.0</td>\n      <td>0.0</td>\n      <td>0.0</td>\n      <td>187.0</td>\n      <td>188.0</td>\n      <td>0</td>\n    </tr>\n    <tr>\n      <th>4</th>\n      <td>100.0</td>\n      <td>58.0</td>\n      <td>109.0</td>\n      <td>230.0</td>\n      <td>70.0</td>\n      <td>11.0</td>\n      <td>226.0</td>\n      <td>30.0</td>\n      <td>25.0</td>\n      <td>182.0</td>\n      <td>234.0</td>\n      <td>752.0</td>\n      <td>207.0</td>\n      <td>72.0</td>\n      <td>0.0</td>\n      <td>13.0</td>\n      <td>187.0</td>\n      <td>198.0</td>\n      <td>1</td>\n    </tr>\n  </tbody>\n</table>\n</div>"
     },
     "execution_count": 5,
     "metadata": {},
     "output_type": "execute_result"
    }
   ],
   "source": [
    "# Changing the last categorical class value into a numerical value\n",
    "df_Vehicle['Class'] = pd.factorize(df_Vehicle['Class'])[0]\n",
    "df_Vehicle.head()"
   ],
   "metadata": {
    "collapsed": false
   }
  },
  {
   "cell_type": "code",
   "execution_count": 6,
   "outputs": [
    {
     "data": {
      "text/plain": "    TT  SpeakerNumber  Sex     F0     F1     F2     F3     F4     F5     F6  \\\n0  0.0            0.0  0.0 -3.639  0.418 -0.670  1.779 -0.168  1.627 -0.388   \n1  0.0            0.0  0.0 -3.327  0.496 -0.694  1.365 -0.265  1.933 -0.363   \n2  0.0            0.0  0.0 -2.120  0.894 -1.576  0.147 -0.707  1.559 -0.579   \n3  0.0            0.0  0.0 -2.287  1.809 -1.498  1.012 -1.053  1.060 -0.567   \n4  0.0            0.0  0.0 -2.598  1.938 -0.846  1.062 -1.633  0.764  0.394   \n\n      F7     F8     F9  Class  \n0  0.529 -0.874 -0.814      0  \n1  0.510 -0.621 -0.488      1  \n2  0.676 -0.809 -0.049      1  \n3  0.235 -0.091 -0.795      1  \n4 -0.150  0.277 -0.396      1  ",
      "text/html": "<div>\n<style scoped>\n    .dataframe tbody tr th:only-of-type {\n        vertical-align: middle;\n    }\n\n    .dataframe tbody tr th {\n        vertical-align: top;\n    }\n\n    .dataframe thead th {\n        text-align: right;\n    }\n</style>\n<table border=\"1\" class=\"dataframe\">\n  <thead>\n    <tr style=\"text-align: right;\">\n      <th></th>\n      <th>TT</th>\n      <th>SpeakerNumber</th>\n      <th>Sex</th>\n      <th>F0</th>\n      <th>F1</th>\n      <th>F2</th>\n      <th>F3</th>\n      <th>F4</th>\n      <th>F5</th>\n      <th>F6</th>\n      <th>F7</th>\n      <th>F8</th>\n      <th>F9</th>\n      <th>Class</th>\n    </tr>\n  </thead>\n  <tbody>\n    <tr>\n      <th>0</th>\n      <td>0.0</td>\n      <td>0.0</td>\n      <td>0.0</td>\n      <td>-3.639</td>\n      <td>0.418</td>\n      <td>-0.670</td>\n      <td>1.779</td>\n      <td>-0.168</td>\n      <td>1.627</td>\n      <td>-0.388</td>\n      <td>0.529</td>\n      <td>-0.874</td>\n      <td>-0.814</td>\n      <td>0</td>\n    </tr>\n    <tr>\n      <th>1</th>\n      <td>0.0</td>\n      <td>0.0</td>\n      <td>0.0</td>\n      <td>-3.327</td>\n      <td>0.496</td>\n      <td>-0.694</td>\n      <td>1.365</td>\n      <td>-0.265</td>\n      <td>1.933</td>\n      <td>-0.363</td>\n      <td>0.510</td>\n      <td>-0.621</td>\n      <td>-0.488</td>\n      <td>1</td>\n    </tr>\n    <tr>\n      <th>2</th>\n      <td>0.0</td>\n      <td>0.0</td>\n      <td>0.0</td>\n      <td>-2.120</td>\n      <td>0.894</td>\n      <td>-1.576</td>\n      <td>0.147</td>\n      <td>-0.707</td>\n      <td>1.559</td>\n      <td>-0.579</td>\n      <td>0.676</td>\n      <td>-0.809</td>\n      <td>-0.049</td>\n      <td>1</td>\n    </tr>\n    <tr>\n      <th>3</th>\n      <td>0.0</td>\n      <td>0.0</td>\n      <td>0.0</td>\n      <td>-2.287</td>\n      <td>1.809</td>\n      <td>-1.498</td>\n      <td>1.012</td>\n      <td>-1.053</td>\n      <td>1.060</td>\n      <td>-0.567</td>\n      <td>0.235</td>\n      <td>-0.091</td>\n      <td>-0.795</td>\n      <td>1</td>\n    </tr>\n    <tr>\n      <th>4</th>\n      <td>0.0</td>\n      <td>0.0</td>\n      <td>0.0</td>\n      <td>-2.598</td>\n      <td>1.938</td>\n      <td>-0.846</td>\n      <td>1.062</td>\n      <td>-1.633</td>\n      <td>0.764</td>\n      <td>0.394</td>\n      <td>-0.150</td>\n      <td>0.277</td>\n      <td>-0.396</td>\n      <td>1</td>\n    </tr>\n  </tbody>\n</table>\n</div>"
     },
     "execution_count": 6,
     "metadata": {},
     "output_type": "execute_result"
    }
   ],
   "source": [
    "# Changing the last categorical class value into a numerical value\n",
    "df_vowel['Class'] = pd.factorize(df_vowel['Class'])[0]\n",
    "df_vowel.head()"
   ],
   "metadata": {
    "collapsed": false
   }
  },
  {
   "cell_type": "code",
   "execution_count": 7,
   "outputs": [
    {
     "data": {
      "text/plain": "  Whether_of_not_the_TA_is_a_native_English_speaker  Course_instructor  \\\n0                                              b'1'               23.0   \n1                                              b'2'               15.0   \n2                                              b'1'               23.0   \n3                                              b'1'                5.0   \n4                                              b'2'                7.0   \n\n   Course Summer_or_regular_semester  Class_size  Class_attribute  \n0     3.0                       b'1'        19.0                0  \n1     3.0                       b'1'        17.0                0  \n2     3.0                       b'2'        49.0                0  \n3     2.0                       b'2'        33.0                0  \n4    11.0                       b'2'        55.0                0  ",
      "text/html": "<div>\n<style scoped>\n    .dataframe tbody tr th:only-of-type {\n        vertical-align: middle;\n    }\n\n    .dataframe tbody tr th {\n        vertical-align: top;\n    }\n\n    .dataframe thead th {\n        text-align: right;\n    }\n</style>\n<table border=\"1\" class=\"dataframe\">\n  <thead>\n    <tr style=\"text-align: right;\">\n      <th></th>\n      <th>Whether_of_not_the_TA_is_a_native_English_speaker</th>\n      <th>Course_instructor</th>\n      <th>Course</th>\n      <th>Summer_or_regular_semester</th>\n      <th>Class_size</th>\n      <th>Class_attribute</th>\n    </tr>\n  </thead>\n  <tbody>\n    <tr>\n      <th>0</th>\n      <td>b'1'</td>\n      <td>23.0</td>\n      <td>3.0</td>\n      <td>b'1'</td>\n      <td>19.0</td>\n      <td>0</td>\n    </tr>\n    <tr>\n      <th>1</th>\n      <td>b'2'</td>\n      <td>15.0</td>\n      <td>3.0</td>\n      <td>b'1'</td>\n      <td>17.0</td>\n      <td>0</td>\n    </tr>\n    <tr>\n      <th>2</th>\n      <td>b'1'</td>\n      <td>23.0</td>\n      <td>3.0</td>\n      <td>b'2'</td>\n      <td>49.0</td>\n      <td>0</td>\n    </tr>\n    <tr>\n      <th>3</th>\n      <td>b'1'</td>\n      <td>5.0</td>\n      <td>2.0</td>\n      <td>b'2'</td>\n      <td>33.0</td>\n      <td>0</td>\n    </tr>\n    <tr>\n      <th>4</th>\n      <td>b'2'</td>\n      <td>7.0</td>\n      <td>11.0</td>\n      <td>b'2'</td>\n      <td>55.0</td>\n      <td>0</td>\n    </tr>\n  </tbody>\n</table>\n</div>"
     },
     "execution_count": 7,
     "metadata": {},
     "output_type": "execute_result"
    }
   ],
   "source": [
    "# Changing the last categorical class value into a numerical value\n",
    "df_tae['Class_attribute'] = pd.factorize(df_tae['Class_attribute'])[0]\n",
    "df_tae.head()"
   ],
   "metadata": {
    "collapsed": false
   }
  },
  {
   "cell_type": "code",
   "execution_count": 8,
   "outputs": [
    {
     "data": {
      "text/plain": "   attribute_1  attribute_2  attribute_3  attribute_4  attribute_5  \\\n0       0.0200       0.0371       0.0428       0.0207       0.0954   \n1       0.0453       0.0523       0.0843       0.0689       0.1183   \n2       0.0262       0.0582       0.1099       0.1083       0.0974   \n3       0.0100       0.0171       0.0623       0.0205       0.0205   \n4       0.0762       0.0666       0.0481       0.0394       0.0590   \n\n   attribute_6  attribute_7  attribute_8  attribute_9  attribute_10  ...  \\\n0       0.0986       0.1539       0.1601       0.3109        0.2111  ...   \n1       0.2583       0.2156       0.3481       0.3337        0.2872  ...   \n2       0.2280       0.2431       0.3771       0.5598        0.6194  ...   \n3       0.0368       0.1098       0.1276       0.0598        0.1264  ...   \n4       0.0649       0.1209       0.2467       0.3564        0.4459  ...   \n\n   attribute_52  attribute_53  attribute_54  attribute_55  attribute_56  \\\n0        0.0027        0.0065        0.0159        0.0072        0.0167   \n1        0.0084        0.0089        0.0048        0.0094        0.0191   \n2        0.0232        0.0166        0.0095        0.0180        0.0244   \n3        0.0121        0.0036        0.0150        0.0085        0.0073   \n4        0.0031        0.0054        0.0105        0.0110        0.0015   \n\n   attribute_57  attribute_58  attribute_59  attribute_60  Class  \n0        0.0180        0.0084        0.0090        0.0032      0  \n1        0.0140        0.0049        0.0052        0.0044      0  \n2        0.0316        0.0164        0.0095        0.0078      0  \n3        0.0050        0.0044        0.0040        0.0117      0  \n4        0.0072        0.0048        0.0107        0.0094      0  \n\n[5 rows x 61 columns]",
      "text/html": "<div>\n<style scoped>\n    .dataframe tbody tr th:only-of-type {\n        vertical-align: middle;\n    }\n\n    .dataframe tbody tr th {\n        vertical-align: top;\n    }\n\n    .dataframe thead th {\n        text-align: right;\n    }\n</style>\n<table border=\"1\" class=\"dataframe\">\n  <thead>\n    <tr style=\"text-align: right;\">\n      <th></th>\n      <th>attribute_1</th>\n      <th>attribute_2</th>\n      <th>attribute_3</th>\n      <th>attribute_4</th>\n      <th>attribute_5</th>\n      <th>attribute_6</th>\n      <th>attribute_7</th>\n      <th>attribute_8</th>\n      <th>attribute_9</th>\n      <th>attribute_10</th>\n      <th>...</th>\n      <th>attribute_52</th>\n      <th>attribute_53</th>\n      <th>attribute_54</th>\n      <th>attribute_55</th>\n      <th>attribute_56</th>\n      <th>attribute_57</th>\n      <th>attribute_58</th>\n      <th>attribute_59</th>\n      <th>attribute_60</th>\n      <th>Class</th>\n    </tr>\n  </thead>\n  <tbody>\n    <tr>\n      <th>0</th>\n      <td>0.0200</td>\n      <td>0.0371</td>\n      <td>0.0428</td>\n      <td>0.0207</td>\n      <td>0.0954</td>\n      <td>0.0986</td>\n      <td>0.1539</td>\n      <td>0.1601</td>\n      <td>0.3109</td>\n      <td>0.2111</td>\n      <td>...</td>\n      <td>0.0027</td>\n      <td>0.0065</td>\n      <td>0.0159</td>\n      <td>0.0072</td>\n      <td>0.0167</td>\n      <td>0.0180</td>\n      <td>0.0084</td>\n      <td>0.0090</td>\n      <td>0.0032</td>\n      <td>0</td>\n    </tr>\n    <tr>\n      <th>1</th>\n      <td>0.0453</td>\n      <td>0.0523</td>\n      <td>0.0843</td>\n      <td>0.0689</td>\n      <td>0.1183</td>\n      <td>0.2583</td>\n      <td>0.2156</td>\n      <td>0.3481</td>\n      <td>0.3337</td>\n      <td>0.2872</td>\n      <td>...</td>\n      <td>0.0084</td>\n      <td>0.0089</td>\n      <td>0.0048</td>\n      <td>0.0094</td>\n      <td>0.0191</td>\n      <td>0.0140</td>\n      <td>0.0049</td>\n      <td>0.0052</td>\n      <td>0.0044</td>\n      <td>0</td>\n    </tr>\n    <tr>\n      <th>2</th>\n      <td>0.0262</td>\n      <td>0.0582</td>\n      <td>0.1099</td>\n      <td>0.1083</td>\n      <td>0.0974</td>\n      <td>0.2280</td>\n      <td>0.2431</td>\n      <td>0.3771</td>\n      <td>0.5598</td>\n      <td>0.6194</td>\n      <td>...</td>\n      <td>0.0232</td>\n      <td>0.0166</td>\n      <td>0.0095</td>\n      <td>0.0180</td>\n      <td>0.0244</td>\n      <td>0.0316</td>\n      <td>0.0164</td>\n      <td>0.0095</td>\n      <td>0.0078</td>\n      <td>0</td>\n    </tr>\n    <tr>\n      <th>3</th>\n      <td>0.0100</td>\n      <td>0.0171</td>\n      <td>0.0623</td>\n      <td>0.0205</td>\n      <td>0.0205</td>\n      <td>0.0368</td>\n      <td>0.1098</td>\n      <td>0.1276</td>\n      <td>0.0598</td>\n      <td>0.1264</td>\n      <td>...</td>\n      <td>0.0121</td>\n      <td>0.0036</td>\n      <td>0.0150</td>\n      <td>0.0085</td>\n      <td>0.0073</td>\n      <td>0.0050</td>\n      <td>0.0044</td>\n      <td>0.0040</td>\n      <td>0.0117</td>\n      <td>0</td>\n    </tr>\n    <tr>\n      <th>4</th>\n      <td>0.0762</td>\n      <td>0.0666</td>\n      <td>0.0481</td>\n      <td>0.0394</td>\n      <td>0.0590</td>\n      <td>0.0649</td>\n      <td>0.1209</td>\n      <td>0.2467</td>\n      <td>0.3564</td>\n      <td>0.4459</td>\n      <td>...</td>\n      <td>0.0031</td>\n      <td>0.0054</td>\n      <td>0.0105</td>\n      <td>0.0110</td>\n      <td>0.0015</td>\n      <td>0.0072</td>\n      <td>0.0048</td>\n      <td>0.0107</td>\n      <td>0.0094</td>\n      <td>0</td>\n    </tr>\n  </tbody>\n</table>\n<p>5 rows × 61 columns</p>\n</div>"
     },
     "execution_count": 8,
     "metadata": {},
     "output_type": "execute_result"
    }
   ],
   "source": [
    "# Changing the last categorical class value into a numerical value\n",
    "df_sonar['Class'] = pd.factorize(df_sonar['Class'])[0]\n",
    "df_sonar.head()"
   ],
   "metadata": {
    "collapsed": false
   }
  },
  {
   "cell_type": "code",
   "execution_count": 9,
   "outputs": [
    {
     "data": {
      "text/plain": "   word_freq_make  word_freq_address  word_freq_all  word_freq_3d  \\\n0            0.00               0.64           0.64           0.0   \n1            0.21               0.28           0.50           0.0   \n2            0.06               0.00           0.71           0.0   \n3            0.00               0.00           0.00           0.0   \n4            0.00               0.00           0.00           0.0   \n\n   word_freq_our  word_freq_over  word_freq_remove  word_freq_internet  \\\n0           0.32            0.00              0.00                0.00   \n1           0.14            0.28              0.21                0.07   \n2           1.23            0.19              0.19                0.12   \n3           0.63            0.00              0.31                0.63   \n4           0.63            0.00              0.31                0.63   \n\n   word_freq_order  word_freq_mail  ...  char_freq_;  char_freq_(  \\\n0             0.00            0.00  ...         0.00        0.000   \n1             0.00            0.94  ...         0.00        0.132   \n2             0.64            0.25  ...         0.01        0.143   \n3             0.31            0.63  ...         0.00        0.137   \n4             0.31            0.63  ...         0.00        0.135   \n\n   char_freq_[  char_freq_!  char_freq_$  char_freq_#  \\\n0          0.0        0.778        0.000        0.000   \n1          0.0        0.372        0.180        0.048   \n2          0.0        0.276        0.184        0.010   \n3          0.0        0.137        0.000        0.000   \n4          0.0        0.135        0.000        0.000   \n\n   capital_run_length_average  capital_run_length_longest  \\\n0                       3.756                        61.0   \n1                       5.114                       101.0   \n2                       9.821                       485.0   \n3                       3.537                        40.0   \n4                       3.537                        40.0   \n\n   capital_run_length_total  class  \n0                     278.0      0  \n1                    1028.0      0  \n2                    2259.0      0  \n3                     191.0      0  \n4                     191.0      0  \n\n[5 rows x 58 columns]",
      "text/html": "<div>\n<style scoped>\n    .dataframe tbody tr th:only-of-type {\n        vertical-align: middle;\n    }\n\n    .dataframe tbody tr th {\n        vertical-align: top;\n    }\n\n    .dataframe thead th {\n        text-align: right;\n    }\n</style>\n<table border=\"1\" class=\"dataframe\">\n  <thead>\n    <tr style=\"text-align: right;\">\n      <th></th>\n      <th>word_freq_make</th>\n      <th>word_freq_address</th>\n      <th>word_freq_all</th>\n      <th>word_freq_3d</th>\n      <th>word_freq_our</th>\n      <th>word_freq_over</th>\n      <th>word_freq_remove</th>\n      <th>word_freq_internet</th>\n      <th>word_freq_order</th>\n      <th>word_freq_mail</th>\n      <th>...</th>\n      <th>char_freq_;</th>\n      <th>char_freq_(</th>\n      <th>char_freq_[</th>\n      <th>char_freq_!</th>\n      <th>char_freq_$</th>\n      <th>char_freq_#</th>\n      <th>capital_run_length_average</th>\n      <th>capital_run_length_longest</th>\n      <th>capital_run_length_total</th>\n      <th>class</th>\n    </tr>\n  </thead>\n  <tbody>\n    <tr>\n      <th>0</th>\n      <td>0.00</td>\n      <td>0.64</td>\n      <td>0.64</td>\n      <td>0.0</td>\n      <td>0.32</td>\n      <td>0.00</td>\n      <td>0.00</td>\n      <td>0.00</td>\n      <td>0.00</td>\n      <td>0.00</td>\n      <td>...</td>\n      <td>0.00</td>\n      <td>0.000</td>\n      <td>0.0</td>\n      <td>0.778</td>\n      <td>0.000</td>\n      <td>0.000</td>\n      <td>3.756</td>\n      <td>61.0</td>\n      <td>278.0</td>\n      <td>0</td>\n    </tr>\n    <tr>\n      <th>1</th>\n      <td>0.21</td>\n      <td>0.28</td>\n      <td>0.50</td>\n      <td>0.0</td>\n      <td>0.14</td>\n      <td>0.28</td>\n      <td>0.21</td>\n      <td>0.07</td>\n      <td>0.00</td>\n      <td>0.94</td>\n      <td>...</td>\n      <td>0.00</td>\n      <td>0.132</td>\n      <td>0.0</td>\n      <td>0.372</td>\n      <td>0.180</td>\n      <td>0.048</td>\n      <td>5.114</td>\n      <td>101.0</td>\n      <td>1028.0</td>\n      <td>0</td>\n    </tr>\n    <tr>\n      <th>2</th>\n      <td>0.06</td>\n      <td>0.00</td>\n      <td>0.71</td>\n      <td>0.0</td>\n      <td>1.23</td>\n      <td>0.19</td>\n      <td>0.19</td>\n      <td>0.12</td>\n      <td>0.64</td>\n      <td>0.25</td>\n      <td>...</td>\n      <td>0.01</td>\n      <td>0.143</td>\n      <td>0.0</td>\n      <td>0.276</td>\n      <td>0.184</td>\n      <td>0.010</td>\n      <td>9.821</td>\n      <td>485.0</td>\n      <td>2259.0</td>\n      <td>0</td>\n    </tr>\n    <tr>\n      <th>3</th>\n      <td>0.00</td>\n      <td>0.00</td>\n      <td>0.00</td>\n      <td>0.0</td>\n      <td>0.63</td>\n      <td>0.00</td>\n      <td>0.31</td>\n      <td>0.63</td>\n      <td>0.31</td>\n      <td>0.63</td>\n      <td>...</td>\n      <td>0.00</td>\n      <td>0.137</td>\n      <td>0.0</td>\n      <td>0.137</td>\n      <td>0.000</td>\n      <td>0.000</td>\n      <td>3.537</td>\n      <td>40.0</td>\n      <td>191.0</td>\n      <td>0</td>\n    </tr>\n    <tr>\n      <th>4</th>\n      <td>0.00</td>\n      <td>0.00</td>\n      <td>0.00</td>\n      <td>0.0</td>\n      <td>0.63</td>\n      <td>0.00</td>\n      <td>0.31</td>\n      <td>0.63</td>\n      <td>0.31</td>\n      <td>0.63</td>\n      <td>...</td>\n      <td>0.00</td>\n      <td>0.135</td>\n      <td>0.0</td>\n      <td>0.135</td>\n      <td>0.000</td>\n      <td>0.000</td>\n      <td>3.537</td>\n      <td>40.0</td>\n      <td>191.0</td>\n      <td>0</td>\n    </tr>\n  </tbody>\n</table>\n<p>5 rows × 58 columns</p>\n</div>"
     },
     "execution_count": 9,
     "metadata": {},
     "output_type": "execute_result"
    }
   ],
   "source": [
    "# Changing the last categorical class value into a numerical value\n",
    "df_spambase['class'] = pd.factorize(df_spambase['class'])[0]\n",
    "df_spambase.head()"
   ],
   "metadata": {
    "collapsed": false
   }
  },
  {
   "cell_type": "code",
   "execution_count": 10,
   "outputs": [
    {
     "data": {
      "text/plain": "   Height  Lenght   Area    Eccen  P_black  P_and  Mean_tr  Blackpix  \\\n0     5.0     7.0   35.0    1.400    0.400  0.657     2.33      14.0   \n1     6.0     7.0   42.0    1.167    0.429  0.881     3.60      18.0   \n2     6.0    18.0  108.0    3.000    0.287  0.741     4.43      31.0   \n3     5.0     7.0   35.0    1.400    0.371  0.743     4.33      13.0   \n4     6.0     3.0   18.0  500.000    0.500  0.944     2.25       9.0   \n\n   Blackand  Wb_trans  Class  \n0      23.0       6.0      0  \n1      37.0       5.0      0  \n2      80.0       7.0      0  \n3      26.0       3.0      0  \n4      17.0       4.0      0  ",
      "text/html": "<div>\n<style scoped>\n    .dataframe tbody tr th:only-of-type {\n        vertical-align: middle;\n    }\n\n    .dataframe tbody tr th {\n        vertical-align: top;\n    }\n\n    .dataframe thead th {\n        text-align: right;\n    }\n</style>\n<table border=\"1\" class=\"dataframe\">\n  <thead>\n    <tr style=\"text-align: right;\">\n      <th></th>\n      <th>Height</th>\n      <th>Lenght</th>\n      <th>Area</th>\n      <th>Eccen</th>\n      <th>P_black</th>\n      <th>P_and</th>\n      <th>Mean_tr</th>\n      <th>Blackpix</th>\n      <th>Blackand</th>\n      <th>Wb_trans</th>\n      <th>Class</th>\n    </tr>\n  </thead>\n  <tbody>\n    <tr>\n      <th>0</th>\n      <td>5.0</td>\n      <td>7.0</td>\n      <td>35.0</td>\n      <td>1.400</td>\n      <td>0.400</td>\n      <td>0.657</td>\n      <td>2.33</td>\n      <td>14.0</td>\n      <td>23.0</td>\n      <td>6.0</td>\n      <td>0</td>\n    </tr>\n    <tr>\n      <th>1</th>\n      <td>6.0</td>\n      <td>7.0</td>\n      <td>42.0</td>\n      <td>1.167</td>\n      <td>0.429</td>\n      <td>0.881</td>\n      <td>3.60</td>\n      <td>18.0</td>\n      <td>37.0</td>\n      <td>5.0</td>\n      <td>0</td>\n    </tr>\n    <tr>\n      <th>2</th>\n      <td>6.0</td>\n      <td>18.0</td>\n      <td>108.0</td>\n      <td>3.000</td>\n      <td>0.287</td>\n      <td>0.741</td>\n      <td>4.43</td>\n      <td>31.0</td>\n      <td>80.0</td>\n      <td>7.0</td>\n      <td>0</td>\n    </tr>\n    <tr>\n      <th>3</th>\n      <td>5.0</td>\n      <td>7.0</td>\n      <td>35.0</td>\n      <td>1.400</td>\n      <td>0.371</td>\n      <td>0.743</td>\n      <td>4.33</td>\n      <td>13.0</td>\n      <td>26.0</td>\n      <td>3.0</td>\n      <td>0</td>\n    </tr>\n    <tr>\n      <th>4</th>\n      <td>6.0</td>\n      <td>3.0</td>\n      <td>18.0</td>\n      <td>500.000</td>\n      <td>0.500</td>\n      <td>0.944</td>\n      <td>2.25</td>\n      <td>9.0</td>\n      <td>17.0</td>\n      <td>4.0</td>\n      <td>0</td>\n    </tr>\n  </tbody>\n</table>\n</div>"
     },
     "execution_count": 10,
     "metadata": {},
     "output_type": "execute_result"
    }
   ],
   "source": [
    "# Changing the last categorical class value into a numerical value\n",
    "df_page['Class'] = pd.factorize(df_page['Class'])[0]\n",
    "df_page.head()"
   ],
   "metadata": {
    "collapsed": false
   }
  },
  {
   "cell_type": "code",
   "execution_count": 11,
   "outputs": [
    {
     "data": {
      "text/plain": "   sepallength  sepalwidth  petallength  petalwidth  class\n0          5.1         3.5          1.4         0.2      0\n1          4.9         3.0          1.4         0.2      0\n2          4.7         3.2          1.3         0.2      0\n3          4.6         3.1          1.5         0.2      0\n4          5.0         3.6          1.4         0.2      0",
      "text/html": "<div>\n<style scoped>\n    .dataframe tbody tr th:only-of-type {\n        vertical-align: middle;\n    }\n\n    .dataframe tbody tr th {\n        vertical-align: top;\n    }\n\n    .dataframe thead th {\n        text-align: right;\n    }\n</style>\n<table border=\"1\" class=\"dataframe\">\n  <thead>\n    <tr style=\"text-align: right;\">\n      <th></th>\n      <th>sepallength</th>\n      <th>sepalwidth</th>\n      <th>petallength</th>\n      <th>petalwidth</th>\n      <th>class</th>\n    </tr>\n  </thead>\n  <tbody>\n    <tr>\n      <th>0</th>\n      <td>5.1</td>\n      <td>3.5</td>\n      <td>1.4</td>\n      <td>0.2</td>\n      <td>0</td>\n    </tr>\n    <tr>\n      <th>1</th>\n      <td>4.9</td>\n      <td>3.0</td>\n      <td>1.4</td>\n      <td>0.2</td>\n      <td>0</td>\n    </tr>\n    <tr>\n      <th>2</th>\n      <td>4.7</td>\n      <td>3.2</td>\n      <td>1.3</td>\n      <td>0.2</td>\n      <td>0</td>\n    </tr>\n    <tr>\n      <th>3</th>\n      <td>4.6</td>\n      <td>3.1</td>\n      <td>1.5</td>\n      <td>0.2</td>\n      <td>0</td>\n    </tr>\n    <tr>\n      <th>4</th>\n      <td>5.0</td>\n      <td>3.6</td>\n      <td>1.4</td>\n      <td>0.2</td>\n      <td>0</td>\n    </tr>\n  </tbody>\n</table>\n</div>"
     },
     "execution_count": 11,
     "metadata": {},
     "output_type": "execute_result"
    }
   ],
   "source": [
    "# Changing the last categorical class value into a numerical value\n",
    "df_iris['class'] = pd.factorize(df_iris['class'])[0]\n",
    "df_iris.head()"
   ],
   "metadata": {
    "collapsed": false
   }
  },
  {
   "cell_type": "code",
   "execution_count": 12,
   "outputs": [
    {
     "data": {
      "text/plain": "   x-box  y-box  width  high  onpix  x-bar  y-bar  x2bar  y2bar  xybar  x2ybr  \\\n0    2.0    4.0    4.0   3.0    2.0    7.0    8.0    2.0    9.0   11.0    7.0   \n1    4.0    7.0    5.0   5.0    5.0    5.0    9.0    6.0    4.0    8.0    7.0   \n2    7.0   10.0    8.0   7.0    4.0    8.0    8.0    5.0   10.0   11.0    2.0   \n3    4.0    9.0    5.0   7.0    4.0    7.0    7.0   13.0    1.0    7.0    6.0   \n4    6.0    7.0    8.0   5.0    4.0    7.0    6.0    3.0    7.0   10.0    7.0   \n\n   xy2br  x-ege  xegvy  y-ege  yegvx  class  \n0    7.0    1.0    8.0    5.0    6.0      0  \n1    9.0    2.0    9.0    7.0   10.0      1  \n2    8.0    2.0    5.0    5.0   10.0      2  \n3    8.0    3.0    8.0    0.0    8.0      3  \n4    9.0    3.0    8.0    3.0    7.0      3  ",
      "text/html": "<div>\n<style scoped>\n    .dataframe tbody tr th:only-of-type {\n        vertical-align: middle;\n    }\n\n    .dataframe tbody tr th {\n        vertical-align: top;\n    }\n\n    .dataframe thead th {\n        text-align: right;\n    }\n</style>\n<table border=\"1\" class=\"dataframe\">\n  <thead>\n    <tr style=\"text-align: right;\">\n      <th></th>\n      <th>x-box</th>\n      <th>y-box</th>\n      <th>width</th>\n      <th>high</th>\n      <th>onpix</th>\n      <th>x-bar</th>\n      <th>y-bar</th>\n      <th>x2bar</th>\n      <th>y2bar</th>\n      <th>xybar</th>\n      <th>x2ybr</th>\n      <th>xy2br</th>\n      <th>x-ege</th>\n      <th>xegvy</th>\n      <th>y-ege</th>\n      <th>yegvx</th>\n      <th>class</th>\n    </tr>\n  </thead>\n  <tbody>\n    <tr>\n      <th>0</th>\n      <td>2.0</td>\n      <td>4.0</td>\n      <td>4.0</td>\n      <td>3.0</td>\n      <td>2.0</td>\n      <td>7.0</td>\n      <td>8.0</td>\n      <td>2.0</td>\n      <td>9.0</td>\n      <td>11.0</td>\n      <td>7.0</td>\n      <td>7.0</td>\n      <td>1.0</td>\n      <td>8.0</td>\n      <td>5.0</td>\n      <td>6.0</td>\n      <td>0</td>\n    </tr>\n    <tr>\n      <th>1</th>\n      <td>4.0</td>\n      <td>7.0</td>\n      <td>5.0</td>\n      <td>5.0</td>\n      <td>5.0</td>\n      <td>5.0</td>\n      <td>9.0</td>\n      <td>6.0</td>\n      <td>4.0</td>\n      <td>8.0</td>\n      <td>7.0</td>\n      <td>9.0</td>\n      <td>2.0</td>\n      <td>9.0</td>\n      <td>7.0</td>\n      <td>10.0</td>\n      <td>1</td>\n    </tr>\n    <tr>\n      <th>2</th>\n      <td>7.0</td>\n      <td>10.0</td>\n      <td>8.0</td>\n      <td>7.0</td>\n      <td>4.0</td>\n      <td>8.0</td>\n      <td>8.0</td>\n      <td>5.0</td>\n      <td>10.0</td>\n      <td>11.0</td>\n      <td>2.0</td>\n      <td>8.0</td>\n      <td>2.0</td>\n      <td>5.0</td>\n      <td>5.0</td>\n      <td>10.0</td>\n      <td>2</td>\n    </tr>\n    <tr>\n      <th>3</th>\n      <td>4.0</td>\n      <td>9.0</td>\n      <td>5.0</td>\n      <td>7.0</td>\n      <td>4.0</td>\n      <td>7.0</td>\n      <td>7.0</td>\n      <td>13.0</td>\n      <td>1.0</td>\n      <td>7.0</td>\n      <td>6.0</td>\n      <td>8.0</td>\n      <td>3.0</td>\n      <td>8.0</td>\n      <td>0.0</td>\n      <td>8.0</td>\n      <td>3</td>\n    </tr>\n    <tr>\n      <th>4</th>\n      <td>6.0</td>\n      <td>7.0</td>\n      <td>8.0</td>\n      <td>5.0</td>\n      <td>4.0</td>\n      <td>7.0</td>\n      <td>6.0</td>\n      <td>3.0</td>\n      <td>7.0</td>\n      <td>10.0</td>\n      <td>7.0</td>\n      <td>9.0</td>\n      <td>3.0</td>\n      <td>8.0</td>\n      <td>3.0</td>\n      <td>7.0</td>\n      <td>3</td>\n    </tr>\n  </tbody>\n</table>\n</div>"
     },
     "execution_count": 12,
     "metadata": {},
     "output_type": "execute_result"
    }
   ],
   "source": [
    "# Changing the last categorical class value into a numerical value\n",
    "df_letter['class'] = pd.factorize(df_letter['class'])[0]\n",
    "df_letter.head()"
   ],
   "metadata": {
    "collapsed": false
   }
  },
  {
   "cell_type": "code",
   "execution_count": 13,
   "outputs": [],
   "source": [
    "trainIono, testIono = train_test_split(df_iono, test_size=.33)\n",
    "\n",
    "trainDiabe, testDiabe = train_test_split(df_diabe, test_size=.33)\n",
    "\n",
    "trainVehicle, testVehicle = train_test_split(df_Vehicle, test_size=.33)\n",
    "\n",
    "trainVowel, testVowel = train_test_split(df_vowel, test_size=.33)\n",
    "\n",
    "trainTae, testTae = train_test_split(df_tae, test_size=.33)\n",
    "\n",
    "trainSonar, testSonar = train_test_split(df_sonar, test_size=.33)\n",
    "\n",
    "trainSpambase, testSpambase = train_test_split(df_spambase, test_size=.33)\n",
    "\n",
    "trainPage, testPage = train_test_split(df_page, test_size=.33)\n",
    "\n",
    "trainIris, testIris = train_test_split(df_iris, test_size=.33)\n",
    "\n",
    "trainLetter, testLetter = train_test_split(df_letter, test_size=.33)"
   ],
   "metadata": {
    "collapsed": false
   }
  },
  {
   "cell_type": "markdown",
   "source": [
    "# Ripper vs Decision trees"
   ],
   "metadata": {
    "collapsed": false
   }
  },
  {
   "cell_type": "code",
   "execution_count": 16,
   "outputs": [
    {
     "name": "stdout",
     "output_type": "stream",
     "text": [
      "[[a05=<0.0] V\n",
      "[a28=>0.74 ^ a05=>0.98] V\n",
      "[a33=>0.88 ^ a08=<-0.576] V\n",
      "[a07=<0.0 ^ a21=-0.2-0.0]]\n",
      "None\n"
     ]
    }
   ],
   "source": [
    "X_trainIono = trainIono.drop('class', axis=1)\n",
    "y_trainIono = trainIono['class']\n",
    "# Create and train model\n",
    "ripper_clf = lw.RIPPER()\n",
    "ripper_clf.fit(X_trainIono, y_trainIono)\n",
    "# Print model\n",
    "print(ripper_clf.out_model())"
   ],
   "metadata": {
    "collapsed": false
   }
  },
  {
   "cell_type": "code",
   "execution_count": 17,
   "outputs": [
    {
     "data": {
      "text/plain": "[Text(0.3472222222222222, 0.95, 'x[4] <= 0.146\\ngini = 0.454\\nsamples = 235\\nvalue = [153, 82]'),\n Text(0.1111111111111111, 0.85, 'x[4] <= 0.033\\ngini = 0.038\\nsamples = 51\\nvalue = [1, 50]'),\n Text(0.05555555555555555, 0.75, 'gini = 0.0\\nsamples = 48\\nvalue = [0, 48]'),\n Text(0.16666666666666666, 0.75, 'x[16] <= 0.423\\ngini = 0.444\\nsamples = 3\\nvalue = [1, 2]'),\n Text(0.1111111111111111, 0.65, 'gini = 0.0\\nsamples = 2\\nvalue = [0, 2]'),\n Text(0.2222222222222222, 0.65, 'gini = 0.0\\nsamples = 1\\nvalue = [1, 0]'),\n Text(0.5833333333333334, 0.85, 'x[26] <= 1.0\\ngini = 0.287\\nsamples = 184\\nvalue = [152, 32]'),\n Text(0.4444444444444444, 0.75, 'x[7] <= -0.525\\ngini = 0.133\\nsamples = 153\\nvalue = [142, 11]'),\n Text(0.3333333333333333, 0.65, 'x[9] <= -0.202\\ngini = 0.32\\nsamples = 5\\nvalue = [1, 4]'),\n Text(0.2777777777777778, 0.55, 'gini = 0.0\\nsamples = 1\\nvalue = [1, 0]'),\n Text(0.3888888888888889, 0.55, 'gini = 0.0\\nsamples = 4\\nvalue = [0, 4]'),\n Text(0.5555555555555556, 0.65, 'x[33] <= -0.948\\ngini = 0.09\\nsamples = 148\\nvalue = [141, 7]'),\n Text(0.5, 0.55, 'gini = 0.0\\nsamples = 1\\nvalue = [0, 1]'),\n Text(0.6111111111111112, 0.55, 'x[9] <= -0.756\\ngini = 0.078\\nsamples = 147\\nvalue = [141, 6]'),\n Text(0.5555555555555556, 0.45, 'gini = 0.0\\nsamples = 1\\nvalue = [0, 1]'),\n Text(0.6666666666666666, 0.45, 'x[28] <= -0.862\\ngini = 0.066\\nsamples = 146\\nvalue = [141, 5]'),\n Text(0.6111111111111112, 0.35, 'gini = 0.0\\nsamples = 1\\nvalue = [0, 1]'),\n Text(0.7222222222222222, 0.35, 'x[3] <= -0.075\\ngini = 0.054\\nsamples = 145\\nvalue = [141, 4]'),\n Text(0.5555555555555556, 0.25, 'x[16] <= 0.2\\ngini = 0.211\\nsamples = 25\\nvalue = [22, 3]'),\n Text(0.5, 0.15, 'gini = 0.0\\nsamples = 2\\nvalue = [0, 2]'),\n Text(0.6111111111111112, 0.15, 'x[3] <= -0.079\\ngini = 0.083\\nsamples = 23\\nvalue = [22, 1]'),\n Text(0.5555555555555556, 0.05, 'gini = 0.0\\nsamples = 22\\nvalue = [22, 0]'),\n Text(0.6666666666666666, 0.05, 'gini = 0.0\\nsamples = 1\\nvalue = [0, 1]'),\n Text(0.8888888888888888, 0.25, 'x[2] <= 0.415\\ngini = 0.017\\nsamples = 120\\nvalue = [119, 1]'),\n Text(0.8333333333333334, 0.15, 'x[5] <= 0.121\\ngini = 0.278\\nsamples = 6\\nvalue = [5, 1]'),\n Text(0.7777777777777778, 0.05, 'gini = 0.0\\nsamples = 1\\nvalue = [0, 1]'),\n Text(0.8888888888888888, 0.05, 'gini = 0.0\\nsamples = 5\\nvalue = [5, 0]'),\n Text(0.9444444444444444, 0.15, 'gini = 0.0\\nsamples = 114\\nvalue = [114, 0]'),\n Text(0.7222222222222222, 0.75, 'x[19] <= -0.736\\ngini = 0.437\\nsamples = 31\\nvalue = [10, 21]'),\n Text(0.6666666666666666, 0.65, 'gini = 0.0\\nsamples = 10\\nvalue = [0, 10]'),\n Text(0.7777777777777778, 0.65, 'x[5] <= -0.727\\ngini = 0.499\\nsamples = 21\\nvalue = [10, 11]'),\n Text(0.7222222222222222, 0.55, 'gini = 0.0\\nsamples = 7\\nvalue = [0, 7]'),\n Text(0.8333333333333334, 0.55, 'x[31] <= 0.645\\ngini = 0.408\\nsamples = 14\\nvalue = [10, 4]'),\n Text(0.7777777777777778, 0.45, 'gini = 0.0\\nsamples = 9\\nvalue = [9, 0]'),\n Text(0.8888888888888888, 0.45, 'x[3] <= 0.061\\ngini = 0.32\\nsamples = 5\\nvalue = [1, 4]'),\n Text(0.8333333333333334, 0.35, 'gini = 0.0\\nsamples = 4\\nvalue = [0, 4]'),\n Text(0.9444444444444444, 0.35, 'gini = 0.0\\nsamples = 1\\nvalue = [1, 0]')]"
     },
     "execution_count": 17,
     "metadata": {},
     "output_type": "execute_result"
    },
    {
     "data": {
      "text/plain": "<Figure size 640x480 with 1 Axes>",
      "image/png": "[encoded data removed]"
     },
     "metadata": {},
     "output_type": "display_data"
    }
   ],
   "source": [
    "tree_cf = tree.DecisionTreeClassifier()\n",
    "tree_cf.fit(X_trainIono,y_trainIono)\n",
    "tree.plot_tree(tree_cf)"
   ],
   "metadata": {
    "collapsed": false
   }
  },
  {
   "cell_type": "code",
   "execution_count": 18,
   "outputs": [
    {
     "name": "stdout",
     "output_type": "stream",
     "text": [
      "0.896551724137931\n"
     ]
    }
   ],
   "source": [
    "# Score\n",
    "X_testIono = testIono.drop('class', axis=1)\n",
    "y_testIono = testIono['class']\n",
    "print(ripper_clf.score(X_testIono, y_testIono))"
   ],
   "metadata": {
    "collapsed": false
   }
  },
  {
   "cell_type": "code",
   "execution_count": 19,
   "outputs": [
    {
     "name": "stdout",
     "output_type": "stream",
     "text": [
      "0.853448275862069\n"
     ]
    }
   ],
   "source": [
    "print(tree_cf.score(X_testIono, y_testIono))"
   ],
   "metadata": {
    "collapsed": false
   }
  },
  {
   "cell_type": "code",
   "execution_count": 20,
   "outputs": [
    {
     "name": "stdout",
     "output_type": "stream",
     "text": [
      "[[age=<22.0] V\n",
      "[plas=<85.0] V\n",
      "[mass=<23.33] V\n",
      "[mass=23.33-25.86] V\n",
      "[mass=25.86-28.0] V\n",
      "[insu=71.0-105.0 ^ skin=34.0-40.0] V\n",
      "[insu=27.5-71.0] V\n",
      "[pres=78.0-82.0 ^ preg=<1.0] V\n",
      "[plas=101.0-108.0 ^ preg=4.0-5.0]]\n",
      "None\n"
     ]
    }
   ],
   "source": [
    "X_trainDiabe = trainDiabe.drop('class', axis=1)\n",
    "y_trainDiabe = trainDiabe['class']\n",
    "# Create and train model\n",
    "ripper_clf = lw.RIPPER()\n",
    "ripper_clf.fit(X_trainDiabe, y_trainDiabe)\n",
    "# Print model\n",
    "print(ripper_clf.out_model())"
   ],
   "metadata": {
    "collapsed": false
   }
  },
  {
   "cell_type": "code",
   "execution_count": 21,
   "outputs": [
    {
     "data": {
      "text/plain": "[Text(0.45128398791540786, 0.9705882352941176, 'x[1] <= 127.5\\ngini = 0.46\\nsamples = 514\\nvalue = [184, 330]'),\n Text(0.18504531722054382, 0.9117647058823529, 'x[7] <= 28.5\\ngini = 0.303\\nsamples = 322\\nvalue = [60, 262]'),\n Text(0.09063444108761329, 0.8529411764705882, 'x[0] <= 7.5\\ngini = 0.132\\nsamples = 183\\nvalue = [13, 170]'),\n Text(0.07854984894259819, 0.7941176470588235, 'x[5] <= 45.4\\ngini = 0.123\\nsamples = 182\\nvalue = [12, 170]'),\n Text(0.06646525679758308, 0.7352941176470589, 'x[5] <= 30.9\\ngini = 0.114\\nsamples = 181\\nvalue = [11, 170]'),\n Text(0.02416918429003021, 0.6764705882352942, 'x[6] <= 0.672\\ngini = 0.019\\nsamples = 102\\nvalue = [1, 101]'),\n Text(0.012084592145015106, 0.6176470588235294, 'gini = 0.0\\nsamples = 89\\nvalue = [0, 89]'),\n Text(0.03625377643504532, 0.6176470588235294, 'x[6] <= 0.686\\ngini = 0.142\\nsamples = 13\\nvalue = [1, 12]'),\n Text(0.02416918429003021, 0.5588235294117647, 'gini = 0.0\\nsamples = 1\\nvalue = [1, 0]'),\n Text(0.04833836858006042, 0.5588235294117647, 'gini = 0.0\\nsamples = 12\\nvalue = [0, 12]'),\n Text(0.10876132930513595, 0.6764705882352942, 'x[2] <= 51.0\\ngini = 0.221\\nsamples = 79\\nvalue = [10, 69]'),\n Text(0.08459214501510574, 0.6176470588235294, 'x[7] <= 23.0\\ngini = 0.375\\nsamples = 4\\nvalue = [3, 1]'),\n Text(0.07250755287009064, 0.5588235294117647, 'gini = 0.0\\nsamples = 1\\nvalue = [0, 1]'),\n Text(0.09667673716012085, 0.5588235294117647, 'gini = 0.0\\nsamples = 3\\nvalue = [3, 0]'),\n Text(0.13293051359516617, 0.6176470588235294, 'x[6] <= 1.121\\ngini = 0.169\\nsamples = 75\\nvalue = [7, 68]'),\n Text(0.12084592145015106, 0.5588235294117647, 'x[6] <= 0.501\\ngini = 0.149\\nsamples = 74\\nvalue = [6, 68]'),\n Text(0.0755287009063444, 0.5, 'x[2] <= 82.5\\ngini = 0.039\\nsamples = 50\\nvalue = [1, 49]'),\n Text(0.0634441087613293, 0.4411764705882353, 'gini = 0.0\\nsamples = 47\\nvalue = [0, 47]'),\n Text(0.08761329305135952, 0.4411764705882353, 'x[2] <= 86.5\\ngini = 0.444\\nsamples = 3\\nvalue = [1, 2]'),\n Text(0.0755287009063444, 0.38235294117647056, 'gini = 0.0\\nsamples = 1\\nvalue = [1, 0]'),\n Text(0.09969788519637462, 0.38235294117647056, 'gini = 0.0\\nsamples = 2\\nvalue = [0, 2]'),\n Text(0.1661631419939577, 0.5, 'x[6] <= 0.521\\ngini = 0.33\\nsamples = 24\\nvalue = [5, 19]'),\n Text(0.13595166163141995, 0.4411764705882353, 'x[2] <= 61.0\\ngini = 0.375\\nsamples = 4\\nvalue = [3, 1]'),\n Text(0.12386706948640483, 0.38235294117647056, 'gini = 0.0\\nsamples = 1\\nvalue = [0, 1]'),\n Text(0.14803625377643503, 0.38235294117647056, 'gini = 0.0\\nsamples = 3\\nvalue = [3, 0]'),\n Text(0.19637462235649547, 0.4411764705882353, 'x[7] <= 21.5\\ngini = 0.18\\nsamples = 20\\nvalue = [2, 18]'),\n Text(0.17220543806646527, 0.38235294117647056, 'x[1] <= 115.5\\ngini = 0.5\\nsamples = 2\\nvalue = [1, 1]'),\n Text(0.16012084592145015, 0.3235294117647059, 'gini = 0.0\\nsamples = 1\\nvalue = [0, 1]'),\n Text(0.18429003021148035, 0.3235294117647059, 'gini = 0.0\\nsamples = 1\\nvalue = [1, 0]'),\n Text(0.22054380664652568, 0.38235294117647056, 'x[7] <= 27.5\\ngini = 0.105\\nsamples = 18\\nvalue = [1, 17]'),\n Text(0.2084592145015106, 0.3235294117647059, 'gini = 0.0\\nsamples = 13\\nvalue = [0, 13]'),\n Text(0.2326283987915408, 0.3235294117647059, 'x[3] <= 21.5\\ngini = 0.32\\nsamples = 5\\nvalue = [1, 4]'),\n Text(0.22054380664652568, 0.2647058823529412, 'x[4] <= 122.5\\ngini = 0.5\\nsamples = 2\\nvalue = [1, 1]'),\n Text(0.2084592145015106, 0.20588235294117646, 'gini = 0.0\\nsamples = 1\\nvalue = [1, 0]'),\n Text(0.2326283987915408, 0.20588235294117646, 'gini = 0.0\\nsamples = 1\\nvalue = [0, 1]'),\n Text(0.24471299093655588, 0.2647058823529412, 'gini = 0.0\\nsamples = 3\\nvalue = [0, 3]'),\n Text(0.14501510574018128, 0.5588235294117647, 'gini = 0.0\\nsamples = 1\\nvalue = [1, 0]'),\n Text(0.09063444108761329, 0.7352941176470589, 'gini = 0.0\\nsamples = 1\\nvalue = [1, 0]'),\n Text(0.1027190332326284, 0.7941176470588235, 'gini = 0.0\\nsamples = 1\\nvalue = [1, 0]'),\n Text(0.2794561933534743, 0.8529411764705882, 'x[5] <= 26.35\\ngini = 0.448\\nsamples = 139\\nvalue = [47, 92]'),\n Text(0.2673716012084592, 0.7941176470588235, 'gini = 0.0\\nsamples = 26\\nvalue = [0, 26]'),\n Text(0.29154078549848944, 0.7941176470588235, 'x[1] <= 94.5\\ngini = 0.486\\nsamples = 113\\nvalue = [47, 66]'),\n Text(0.1903323262839879, 0.7352941176470589, 'x[6] <= 1.123\\ngini = 0.204\\nsamples = 26\\nvalue = [3, 23]'),\n Text(0.1782477341389728, 0.6764705882352942, 'x[1] <= 28.5\\ngini = 0.147\\nsamples = 25\\nvalue = [2, 23]'),\n Text(0.1661631419939577, 0.6176470588235294, 'gini = 0.0\\nsamples = 1\\nvalue = [1, 0]'),\n Text(0.1903323262839879, 0.6176470588235294, 'x[0] <= 11.0\\ngini = 0.08\\nsamples = 24\\nvalue = [1, 23]'),\n Text(0.1782477341389728, 0.5588235294117647, 'gini = 0.0\\nsamples = 22\\nvalue = [0, 22]'),\n Text(0.20241691842900303, 0.5588235294117647, 'x[3] <= 15.5\\ngini = 0.5\\nsamples = 2\\nvalue = [1, 1]'),\n Text(0.1903323262839879, 0.5, 'gini = 0.0\\nsamples = 1\\nvalue = [0, 1]'),\n Text(0.21450151057401812, 0.5, 'gini = 0.0\\nsamples = 1\\nvalue = [1, 0]'),\n Text(0.20241691842900303, 0.6764705882352942, 'gini = 0.0\\nsamples = 1\\nvalue = [1, 0]'),\n Text(0.39274924471299094, 0.7352941176470589, 'x[2] <= 85.0\\ngini = 0.5\\nsamples = 87\\nvalue = [44, 43]'),\n Text(0.31722054380664655, 0.6764705882352942, 'x[6] <= 0.179\\ngini = 0.49\\nsamples = 72\\nvalue = [41, 31]'),\n Text(0.23867069486404835, 0.6176470588235294, 'x[5] <= 27.65\\ngini = 0.375\\nsamples = 12\\nvalue = [3, 9]'),\n Text(0.22658610271903323, 0.5588235294117647, 'gini = 0.0\\nsamples = 1\\nvalue = [1, 0]'),\n Text(0.25075528700906347, 0.5588235294117647, 'x[1] <= 98.0\\ngini = 0.298\\nsamples = 11\\nvalue = [2, 9]'),\n Text(0.23867069486404835, 0.5, 'gini = 0.0\\nsamples = 1\\nvalue = [1, 0]'),\n Text(0.2628398791540785, 0.5, 'x[7] <= 51.0\\ngini = 0.18\\nsamples = 10\\nvalue = [1, 9]'),\n Text(0.25075528700906347, 0.4411764705882353, 'gini = 0.0\\nsamples = 8\\nvalue = [0, 8]'),\n Text(0.27492447129909364, 0.4411764705882353, 'x[7] <= 58.5\\ngini = 0.5\\nsamples = 2\\nvalue = [1, 1]'),\n Text(0.2628398791540785, 0.38235294117647056, 'gini = 0.0\\nsamples = 1\\nvalue = [1, 0]'),\n Text(0.28700906344410876, 0.38235294117647056, 'gini = 0.0\\nsamples = 1\\nvalue = [0, 1]'),\n Text(0.3957703927492447, 0.6176470588235294, 'x[7] <= 56.5\\ngini = 0.464\\nsamples = 60\\nvalue = [38, 22]'),\n Text(0.38368580060422963, 0.5588235294117647, 'x[0] <= 5.5\\ngini = 0.444\\nsamples = 57\\nvalue = [38, 19]'),\n Text(0.33534743202416917, 0.5, 'x[7] <= 44.5\\ngini = 0.497\\nsamples = 28\\nvalue = [15, 13]'),\n Text(0.32326283987915405, 0.4411764705882353, 'x[6] <= 0.749\\ngini = 0.491\\nsamples = 23\\nvalue = [10, 13]'),\n Text(0.311178247734139, 0.38235294117647056, 'x[6] <= 0.5\\ngini = 0.499\\nsamples = 19\\nvalue = [10, 9]'),\n Text(0.28700906344410876, 0.3235294117647059, 'x[7] <= 42.5\\ngini = 0.473\\nsamples = 13\\nvalue = [5, 8]'),\n Text(0.27492447129909364, 0.2647058823529412, 'x[5] <= 30.8\\ngini = 0.397\\nsamples = 11\\nvalue = [3, 8]'),\n Text(0.2628398791540785, 0.20588235294117646, 'gini = 0.0\\nsamples = 1\\nvalue = [1, 0]'),\n Text(0.28700906344410876, 0.20588235294117646, 'x[0] <= 0.5\\ngini = 0.32\\nsamples = 10\\nvalue = [2, 8]'),\n Text(0.27492447129909364, 0.14705882352941177, 'gini = 0.0\\nsamples = 1\\nvalue = [1, 0]'),\n Text(0.2990936555891239, 0.14705882352941177, 'x[7] <= 40.0\\ngini = 0.198\\nsamples = 9\\nvalue = [1, 8]'),\n Text(0.28700906344410876, 0.08823529411764706, 'gini = 0.0\\nsamples = 7\\nvalue = [0, 7]'),\n Text(0.311178247734139, 0.08823529411764706, 'x[4] <= 98.0\\ngini = 0.5\\nsamples = 2\\nvalue = [1, 1]'),\n Text(0.2990936555891239, 0.029411764705882353, 'gini = 0.0\\nsamples = 1\\nvalue = [1, 0]'),\n Text(0.32326283987915405, 0.029411764705882353, 'gini = 0.0\\nsamples = 1\\nvalue = [0, 1]'),\n Text(0.2990936555891239, 0.2647058823529412, 'gini = 0.0\\nsamples = 2\\nvalue = [2, 0]'),\n Text(0.33534743202416917, 0.3235294117647059, 'x[3] <= 14.5\\ngini = 0.278\\nsamples = 6\\nvalue = [5, 1]'),\n Text(0.32326283987915405, 0.2647058823529412, 'gini = 0.0\\nsamples = 1\\nvalue = [0, 1]'),\n Text(0.3474320241691843, 0.2647058823529412, 'gini = 0.0\\nsamples = 5\\nvalue = [5, 0]'),\n Text(0.33534743202416917, 0.38235294117647056, 'gini = 0.0\\nsamples = 4\\nvalue = [0, 4]'),\n Text(0.3474320241691843, 0.4411764705882353, 'gini = 0.0\\nsamples = 5\\nvalue = [5, 0]'),\n Text(0.43202416918429004, 0.5, 'x[6] <= 0.539\\ngini = 0.328\\nsamples = 29\\nvalue = [23, 6]'),\n Text(0.4199395770392749, 0.4411764705882353, 'x[6] <= 0.486\\ngini = 0.432\\nsamples = 19\\nvalue = [13, 6]'),\n Text(0.4078549848942598, 0.38235294117647056, 'x[3] <= 41.5\\ngini = 0.305\\nsamples = 16\\nvalue = [13, 3]'),\n Text(0.3957703927492447, 0.3235294117647059, 'x[4] <= 117.5\\ngini = 0.231\\nsamples = 15\\nvalue = [13, 2]'),\n Text(0.3716012084592145, 0.2647058823529412, 'x[7] <= 41.5\\ngini = 0.142\\nsamples = 13\\nvalue = [12, 1]'),\n Text(0.3595166163141994, 0.20588235294117646, 'gini = 0.0\\nsamples = 11\\nvalue = [11, 0]'),\n Text(0.38368580060422963, 0.20588235294117646, 'x[1] <= 107.0\\ngini = 0.5\\nsamples = 2\\nvalue = [1, 1]'),\n Text(0.3716012084592145, 0.14705882352941177, 'gini = 0.0\\nsamples = 1\\nvalue = [0, 1]'),\n Text(0.3957703927492447, 0.14705882352941177, 'gini = 0.0\\nsamples = 1\\nvalue = [1, 0]'),\n Text(0.4199395770392749, 0.2647058823529412, 'x[1] <= 112.5\\ngini = 0.5\\nsamples = 2\\nvalue = [1, 1]'),\n Text(0.4078549848942598, 0.20588235294117646, 'gini = 0.0\\nsamples = 1\\nvalue = [1, 0]'),\n Text(0.43202416918429004, 0.20588235294117646, 'gini = 0.0\\nsamples = 1\\nvalue = [0, 1]'),\n Text(0.4199395770392749, 0.3235294117647059, 'gini = 0.0\\nsamples = 1\\nvalue = [0, 1]'),\n Text(0.43202416918429004, 0.38235294117647056, 'gini = 0.0\\nsamples = 3\\nvalue = [0, 3]'),\n Text(0.44410876132930516, 0.4411764705882353, 'gini = 0.0\\nsamples = 10\\nvalue = [10, 0]'),\n Text(0.4078549848942598, 0.5588235294117647, 'gini = 0.0\\nsamples = 3\\nvalue = [0, 3]'),\n Text(0.46827794561933533, 0.6764705882352942, 'x[3] <= 21.0\\ngini = 0.32\\nsamples = 15\\nvalue = [3, 12]'),\n Text(0.4561933534743202, 0.6176470588235294, 'gini = 0.0\\nsamples = 9\\nvalue = [0, 9]'),\n Text(0.48036253776435045, 0.6176470588235294, 'x[0] <= 6.5\\ngini = 0.5\\nsamples = 6\\nvalue = [3, 3]'),\n Text(0.46827794561933533, 0.5588235294117647, 'x[3] <= 33.5\\ngini = 0.375\\nsamples = 4\\nvalue = [1, 3]'),\n Text(0.4561933534743202, 0.5, 'gini = 0.0\\nsamples = 1\\nvalue = [1, 0]'),\n Text(0.48036253776435045, 0.5, 'gini = 0.0\\nsamples = 3\\nvalue = [0, 3]'),\n Text(0.49244712990936557, 0.5588235294117647, 'gini = 0.0\\nsamples = 2\\nvalue = [2, 0]'),\n Text(0.7175226586102719, 0.9117647058823529, 'x[5] <= 29.1\\ngini = 0.457\\nsamples = 192\\nvalue = [124, 68]'),\n Text(0.6193353474320241, 0.8529411764705882, 'x[1] <= 160.5\\ngini = 0.405\\nsamples = 46\\nvalue = [13, 33]'),\n Text(0.5770392749244713, 0.7941176470588235, 'x[3] <= 34.0\\ngini = 0.251\\nsamples = 34\\nvalue = [5, 29]'),\n Text(0.552870090634441, 0.7352941176470589, 'x[3] <= 3.5\\ngini = 0.175\\nsamples = 31\\nvalue = [3, 28]'),\n Text(0.540785498489426, 0.6764705882352942, 'x[5] <= 28.45\\ngini = 0.337\\nsamples = 14\\nvalue = [3, 11]'),\n Text(0.5287009063444109, 0.6176470588235294, 'x[7] <= 46.5\\ngini = 0.26\\nsamples = 13\\nvalue = [2, 11]'),\n Text(0.5166163141993958, 0.5588235294117647, 'gini = 0.0\\nsamples = 7\\nvalue = [0, 7]'),\n Text(0.540785498489426, 0.5588235294117647, 'x[1] <= 147.5\\ngini = 0.444\\nsamples = 6\\nvalue = [2, 4]'),\n Text(0.5287009063444109, 0.5, 'x[1] <= 135.0\\ngini = 0.32\\nsamples = 5\\nvalue = [1, 4]'),\n Text(0.5166163141993958, 0.4411764705882353, 'x[1] <= 131.0\\ngini = 0.5\\nsamples = 2\\nvalue = [1, 1]'),\n Text(0.5045317220543807, 0.38235294117647056, 'gini = 0.0\\nsamples = 1\\nvalue = [0, 1]'),\n Text(0.5287009063444109, 0.38235294117647056, 'gini = 0.0\\nsamples = 1\\nvalue = [1, 0]'),\n Text(0.540785498489426, 0.4411764705882353, 'gini = 0.0\\nsamples = 3\\nvalue = [0, 3]'),\n Text(0.552870090634441, 0.5, 'gini = 0.0\\nsamples = 1\\nvalue = [1, 0]'),\n Text(0.552870090634441, 0.6176470588235294, 'gini = 0.0\\nsamples = 1\\nvalue = [1, 0]'),\n Text(0.5649546827794562, 0.6764705882352942, 'gini = 0.0\\nsamples = 17\\nvalue = [0, 17]'),\n Text(0.6012084592145015, 0.7352941176470589, 'x[2] <= 67.0\\ngini = 0.444\\nsamples = 3\\nvalue = [2, 1]'),\n Text(0.5891238670694864, 0.6764705882352942, 'gini = 0.0\\nsamples = 1\\nvalue = [0, 1]'),\n Text(0.6132930513595166, 0.6764705882352942, 'gini = 0.0\\nsamples = 2\\nvalue = [2, 0]'),\n Text(0.6616314199395771, 0.7941176470588235, 'x[2] <= 81.0\\ngini = 0.444\\nsamples = 12\\nvalue = [8, 4]'),\n Text(0.649546827794562, 0.7352941176470589, 'x[4] <= 275.0\\ngini = 0.32\\nsamples = 10\\nvalue = [8, 2]'),\n Text(0.6374622356495468, 0.6764705882352942, 'x[7] <= 62.5\\ngini = 0.198\\nsamples = 9\\nvalue = [8, 1]'),\n Text(0.6253776435045317, 0.6176470588235294, 'gini = 0.0\\nsamples = 8\\nvalue = [8, 0]'),\n Text(0.649546827794562, 0.6176470588235294, 'gini = 0.0\\nsamples = 1\\nvalue = [0, 1]'),\n Text(0.6616314199395771, 0.6764705882352942, 'gini = 0.0\\nsamples = 1\\nvalue = [0, 1]'),\n Text(0.6737160120845922, 0.7352941176470589, 'gini = 0.0\\nsamples = 2\\nvalue = [0, 2]'),\n Text(0.8157099697885196, 0.8529411764705882, 'x[6] <= 0.298\\ngini = 0.365\\nsamples = 146\\nvalue = [111, 35]'),\n Text(0.7099697885196374, 0.7941176470588235, 'x[6] <= 0.159\\ngini = 0.475\\nsamples = 54\\nvalue = [33, 21]'),\n Text(0.6978851963746223, 0.7352941176470589, 'gini = 0.0\\nsamples = 10\\nvalue = [10, 0]'),\n Text(0.7220543806646526, 0.7352941176470589, 'x[5] <= 35.3\\ngini = 0.499\\nsamples = 44\\nvalue = [23, 21]'),\n Text(0.6858006042296072, 0.6764705882352942, 'x[3] <= 39.0\\ngini = 0.463\\nsamples = 22\\nvalue = [8, 14]'),\n Text(0.6737160120845922, 0.6176470588235294, 'x[3] <= 19.5\\ngini = 0.42\\nsamples = 20\\nvalue = [6, 14]'),\n Text(0.649546827794562, 0.5588235294117647, 'x[7] <= 56.5\\ngini = 0.494\\nsamples = 9\\nvalue = [5, 4]'),\n Text(0.6374622356495468, 0.5, 'x[2] <= 71.0\\ngini = 0.408\\nsamples = 7\\nvalue = [5, 2]'),\n Text(0.6253776435045317, 0.4411764705882353, 'x[3] <= 15.5\\ngini = 0.444\\nsamples = 3\\nvalue = [1, 2]'),\n Text(0.6132930513595166, 0.38235294117647056, 'gini = 0.0\\nsamples = 2\\nvalue = [0, 2]'),\n Text(0.6374622356495468, 0.38235294117647056, 'gini = 0.0\\nsamples = 1\\nvalue = [1, 0]'),\n Text(0.649546827794562, 0.4411764705882353, 'gini = 0.0\\nsamples = 4\\nvalue = [4, 0]'),\n Text(0.6616314199395771, 0.5, 'gini = 0.0\\nsamples = 2\\nvalue = [0, 2]'),\n Text(0.6978851963746223, 0.5588235294117647, 'x[2] <= 98.5\\ngini = 0.165\\nsamples = 11\\nvalue = [1, 10]'),\n Text(0.6858006042296072, 0.5, 'gini = 0.0\\nsamples = 10\\nvalue = [0, 10]'),\n Text(0.7099697885196374, 0.5, 'gini = 0.0\\nsamples = 1\\nvalue = [1, 0]'),\n Text(0.6978851963746223, 0.6176470588235294, 'gini = 0.0\\nsamples = 2\\nvalue = [2, 0]'),\n Text(0.7583081570996979, 0.6764705882352942, 'x[1] <= 153.5\\ngini = 0.434\\nsamples = 22\\nvalue = [15, 7]'),\n Text(0.7341389728096677, 0.6176470588235294, 'x[2] <= 38.0\\ngini = 0.496\\nsamples = 11\\nvalue = [5, 6]'),\n Text(0.7220543806646526, 0.5588235294117647, 'gini = 0.0\\nsamples = 2\\nvalue = [2, 0]'),\n Text(0.7462235649546828, 0.5588235294117647, 'x[0] <= 3.0\\ngini = 0.444\\nsamples = 9\\nvalue = [3, 6]'),\n Text(0.7341389728096677, 0.5, 'gini = 0.0\\nsamples = 3\\nvalue = [0, 3]'),\n Text(0.7583081570996979, 0.5, 'x[2] <= 89.5\\ngini = 0.5\\nsamples = 6\\nvalue = [3, 3]'),\n Text(0.7462235649546828, 0.4411764705882353, 'x[1] <= 145.0\\ngini = 0.375\\nsamples = 4\\nvalue = [1, 3]'),\n Text(0.7341389728096677, 0.38235294117647056, 'gini = 0.0\\nsamples = 3\\nvalue = [0, 3]'),\n Text(0.7583081570996979, 0.38235294117647056, 'gini = 0.0\\nsamples = 1\\nvalue = [1, 0]'),\n Text(0.770392749244713, 0.4411764705882353, 'gini = 0.0\\nsamples = 2\\nvalue = [2, 0]'),\n Text(0.7824773413897281, 0.6176470588235294, 'x[5] <= 45.6\\ngini = 0.165\\nsamples = 11\\nvalue = [10, 1]'),\n Text(0.770392749244713, 0.5588235294117647, 'gini = 0.0\\nsamples = 9\\nvalue = [9, 0]'),\n Text(0.7945619335347432, 0.5588235294117647, 'x[3] <= 21.5\\ngini = 0.5\\nsamples = 2\\nvalue = [1, 1]'),\n Text(0.7824773413897281, 0.5, 'gini = 0.0\\nsamples = 1\\nvalue = [1, 0]'),\n Text(0.8066465256797583, 0.5, 'gini = 0.0\\nsamples = 1\\nvalue = [0, 1]'),\n Text(0.9214501510574018, 0.7941176470588235, 'x[6] <= 1.067\\ngini = 0.258\\nsamples = 92\\nvalue = [78, 14]'),\n Text(0.8912386706948641, 0.7352941176470589, 'x[4] <= 335.0\\ngini = 0.186\\nsamples = 77\\nvalue = [69, 8]'),\n Text(0.8670694864048338, 0.6764705882352942, 'x[5] <= 33.4\\ngini = 0.133\\nsamples = 70\\nvalue = [65, 5]'),\n Text(0.8549848942598187, 0.6176470588235294, 'x[3] <= 38.0\\ngini = 0.311\\nsamples = 26\\nvalue = [21, 5]'),\n Text(0.8429003021148036, 0.5588235294117647, 'x[5] <= 33.05\\ngini = 0.219\\nsamples = 24\\nvalue = [21, 3]'),\n Text(0.8308157099697885, 0.5, 'x[7] <= 21.5\\ngini = 0.159\\nsamples = 23\\nvalue = [21, 2]'),\n Text(0.8187311178247734, 0.4411764705882353, 'gini = 0.0\\nsamples = 1\\nvalue = [0, 1]'),\n Text(0.8429003021148036, 0.4411764705882353, 'x[5] <= 29.95\\ngini = 0.087\\nsamples = 22\\nvalue = [21, 1]'),\n Text(0.8308157099697885, 0.38235294117647056, 'x[1] <= 148.0\\ngini = 0.444\\nsamples = 3\\nvalue = [2, 1]'),\n Text(0.8187311178247734, 0.3235294117647059, 'gini = 0.0\\nsamples = 1\\nvalue = [0, 1]'),\n Text(0.8429003021148036, 0.3235294117647059, 'gini = 0.0\\nsamples = 2\\nvalue = [2, 0]'),\n Text(0.8549848942598187, 0.38235294117647056, 'gini = 0.0\\nsamples = 19\\nvalue = [19, 0]'),\n Text(0.8549848942598187, 0.5, 'gini = 0.0\\nsamples = 1\\nvalue = [0, 1]'),\n Text(0.8670694864048338, 0.5588235294117647, 'gini = 0.0\\nsamples = 2\\nvalue = [0, 2]'),\n Text(0.879154078549849, 0.6176470588235294, 'gini = 0.0\\nsamples = 44\\nvalue = [44, 0]'),\n Text(0.9154078549848943, 0.6764705882352942, 'x[5] <= 34.35\\ngini = 0.49\\nsamples = 7\\nvalue = [4, 3]'),\n Text(0.9033232628398792, 0.6176470588235294, 'gini = 0.0\\nsamples = 3\\nvalue = [3, 0]'),\n Text(0.9274924471299094, 0.6176470588235294, 'x[3] <= 46.5\\ngini = 0.375\\nsamples = 4\\nvalue = [1, 3]'),\n Text(0.9154078549848943, 0.5588235294117647, 'gini = 0.0\\nsamples = 3\\nvalue = [0, 3]'),\n Text(0.9395770392749244, 0.5588235294117647, 'gini = 0.0\\nsamples = 1\\nvalue = [1, 0]'),\n Text(0.9516616314199395, 0.7352941176470589, 'x[6] <= 1.178\\ngini = 0.48\\nsamples = 15\\nvalue = [9, 6]'),\n Text(0.9395770392749244, 0.6764705882352942, 'gini = 0.0\\nsamples = 3\\nvalue = [0, 3]'),\n Text(0.9637462235649547, 0.6764705882352942, 'x[6] <= 1.426\\ngini = 0.375\\nsamples = 12\\nvalue = [9, 3]'),\n Text(0.9516616314199395, 0.6176470588235294, 'gini = 0.0\\nsamples = 6\\nvalue = [6, 0]'),\n Text(0.9758308157099698, 0.6176470588235294, 'x[7] <= 28.0\\ngini = 0.5\\nsamples = 6\\nvalue = [3, 3]'),\n Text(0.9637462235649547, 0.5588235294117647, 'gini = 0.0\\nsamples = 3\\nvalue = [3, 0]'),\n Text(0.9879154078549849, 0.5588235294117647, 'gini = 0.0\\nsamples = 3\\nvalue = [0, 3]')]"
     },
     "execution_count": 21,
     "metadata": {},
     "output_type": "execute_result"
    },
    {
     "data": {
      "text/plain": "<Figure size 640x480 with 1 Axes>",
      "image/png": "[encoded data removed]"
     },
     "metadata": {},
     "output_type": "display_data"
    }
   ],
   "source": [
    "tree_cf = tree.DecisionTreeClassifier()\n",
    "tree_cf.fit(X_trainDiabe,y_trainDiabe)\n",
    "tree.plot_tree(tree_cf)"
   ],
   "metadata": {
    "collapsed": false
   }
  },
  {
   "cell_type": "code",
   "execution_count": 22,
   "outputs": [
    {
     "name": "stdout",
     "output_type": "stream",
     "text": [
      "0.6456692913385826\n"
     ]
    }
   ],
   "source": [
    "# Score\n",
    "X_testDiabe = testDiabe.drop('class', axis=1)\n",
    "y_testDiabe = testDiabe['class']\n",
    "print(ripper_clf.score(X_testDiabe, y_testDiabe))"
   ],
   "metadata": {
    "collapsed": false
   }
  },
  {
   "cell_type": "code",
   "execution_count": 23,
   "outputs": [
    {
     "name": "stdout",
     "output_type": "stream",
     "text": [
      "0.7007874015748031\n"
     ]
    }
   ],
   "source": [
    "print(tree_cf.score(X_testDiabe, y_testDiabe))"
   ],
   "metadata": {
    "collapsed": false
   }
  },
  {
   "cell_type": "code",
   "execution_count": 24,
   "outputs": [
    {
     "name": "stdout",
     "output_type": "stream",
     "text": [
      "[[Elongatedness=<31.0] V\n",
      "[Praxis_rectangular=20.0-22.0] V\n",
      "[Praxis_rectangular=22.0-24.0] V\n",
      "[Praxis_rectangular=18.0-19.0 ^ Max_length_aspect_ratio=6.0-7.0] V\n",
      "[Max_length_aspect_ratio=<6.0 ^ Praxis_rectangular=18.0-19.0] V\n",
      "[Major_variance=179.0-192.0] V\n",
      "[Length_rectangular=<129.0 ^ Minor_variance=259.5-304.0] V\n",
      "[Length_rectangular=129.0-134.0 ^ Elongatedness=39.0-43.0] V\n",
      "[Max_length_aspect_ratio=7.0-8.0 ^ Praxis_rectangular=18.0-19.0] V\n",
      "[Major_variance=192.0-209.0] V\n",
      "[Length_rectangular=134.0-140.0 ^ Minor_kurtosis=<2.0]]\n",
      "None\n"
     ]
    }
   ],
   "source": [
    "X_trainVehicle = trainVehicle.drop('Class', axis=1)\n",
    "y_trainVehicle = trainVehicle['Class']\n",
    "# Create and train model\n",
    "ripper_clf = lw.RIPPER()\n",
    "ripper_clf.fit(X_trainVehicle, y_trainVehicle)\n",
    "# Print model\n",
    "print(ripper_clf.out_model())"
   ],
   "metadata": {
    "collapsed": false
   }
  },
  {
   "cell_type": "code",
   "execution_count": 25,
   "outputs": [
    {
     "data": {
      "text/plain": "[Text(0.49320652173913043, 0.9583333333333334, 'x[7] <= 42.5\\ngini = 0.352\\nsamples = 566\\nvalue = [129, 437]'),\n Text(0.29347826086956524, 0.875, 'x[10] <= 176.5\\ngini = 0.021\\nsamples = 281\\nvalue = [3, 278]'),\n Text(0.25, 0.7916666666666666, 'x[16] <= 190.5\\ngini = 0.444\\nsamples = 9\\nvalue = [3, 6]'),\n Text(0.20652173913043478, 0.7083333333333334, 'gini = 0.0\\nsamples = 3\\nvalue = [3, 0]'),\n Text(0.29347826086956524, 0.7083333333333334, 'gini = 0.0\\nsamples = 6\\nvalue = [0, 6]'),\n Text(0.33695652173913043, 0.7916666666666666, 'gini = 0.0\\nsamples = 272\\nvalue = [0, 272]'),\n Text(0.6929347826086957, 0.875, 'x[5] <= 8.5\\ngini = 0.493\\nsamples = 285\\nvalue = [126, 159]'),\n Text(0.5163043478260869, 0.7916666666666666, 'x[6] <= 143.5\\ngini = 0.405\\nsamples = 213\\nvalue = [60, 153]'),\n Text(0.3804347826086957, 0.7083333333333334, 'x[9] <= 138.5\\ngini = 0.493\\nsamples = 104\\nvalue = [58, 46]'),\n Text(0.2391304347826087, 0.625, 'x[11] <= 214.5\\ngini = 0.457\\nsamples = 65\\nvalue = [23, 42]'),\n Text(0.13043478260869565, 0.5416666666666666, 'x[9] <= 124.5\\ngini = 0.391\\nsamples = 15\\nvalue = [11, 4]'),\n Text(0.08695652173913043, 0.4583333333333333, 'x[15] <= 10.5\\ngini = 0.32\\nsamples = 5\\nvalue = [1, 4]'),\n Text(0.043478260869565216, 0.375, 'gini = 0.0\\nsamples = 1\\nvalue = [1, 0]'),\n Text(0.13043478260869565, 0.375, 'gini = 0.0\\nsamples = 4\\nvalue = [0, 4]'),\n Text(0.17391304347826086, 0.4583333333333333, 'gini = 0.0\\nsamples = 10\\nvalue = [10, 0]'),\n Text(0.34782608695652173, 0.5416666666666666, 'x[12] <= 124.5\\ngini = 0.365\\nsamples = 50\\nvalue = [12, 38]'),\n Text(0.2608695652173913, 0.4583333333333333, 'x[9] <= 128.5\\ngini = 0.463\\nsamples = 11\\nvalue = [7, 4]'),\n Text(0.21739130434782608, 0.375, 'x[2] <= 68.0\\ngini = 0.32\\nsamples = 5\\nvalue = [1, 4]'),\n Text(0.17391304347826086, 0.2916666666666667, 'gini = 0.0\\nsamples = 4\\nvalue = [0, 4]'),\n Text(0.2608695652173913, 0.2916666666666667, 'gini = 0.0\\nsamples = 1\\nvalue = [1, 0]'),\n Text(0.30434782608695654, 0.375, 'gini = 0.0\\nsamples = 6\\nvalue = [6, 0]'),\n Text(0.43478260869565216, 0.4583333333333333, 'x[10] <= 166.5\\ngini = 0.224\\nsamples = 39\\nvalue = [5, 34]'),\n Text(0.391304347826087, 0.375, 'x[3] <= 113.0\\ngini = 0.149\\nsamples = 37\\nvalue = [3, 34]'),\n Text(0.34782608695652173, 0.2916666666666667, 'gini = 0.0\\nsamples = 1\\nvalue = [1, 0]'),\n Text(0.43478260869565216, 0.2916666666666667, 'x[4] <= 52.5\\ngini = 0.105\\nsamples = 36\\nvalue = [2, 34]'),\n Text(0.391304347826087, 0.20833333333333334, 'gini = 0.0\\nsamples = 1\\nvalue = [1, 0]'),\n Text(0.4782608695652174, 0.20833333333333334, 'x[7] <= 54.5\\ngini = 0.056\\nsamples = 35\\nvalue = [1, 34]'),\n Text(0.43478260869565216, 0.125, 'gini = 0.0\\nsamples = 31\\nvalue = [0, 31]'),\n Text(0.5217391304347826, 0.125, 'x[6] <= 122.5\\ngini = 0.375\\nsamples = 4\\nvalue = [1, 3]'),\n Text(0.4782608695652174, 0.041666666666666664, 'gini = 0.0\\nsamples = 3\\nvalue = [0, 3]'),\n Text(0.5652173913043478, 0.041666666666666664, 'gini = 0.0\\nsamples = 1\\nvalue = [1, 0]'),\n Text(0.4782608695652174, 0.375, 'gini = 0.0\\nsamples = 2\\nvalue = [2, 0]'),\n Text(0.5217391304347826, 0.625, 'x[6] <= 140.5\\ngini = 0.184\\nsamples = 39\\nvalue = [35, 4]'),\n Text(0.4782608695652174, 0.5416666666666666, 'gini = 0.0\\nsamples = 32\\nvalue = [32, 0]'),\n Text(0.5652173913043478, 0.5416666666666666, 'x[9] <= 145.0\\ngini = 0.49\\nsamples = 7\\nvalue = [3, 4]'),\n Text(0.5217391304347826, 0.4583333333333333, 'gini = 0.0\\nsamples = 4\\nvalue = [0, 4]'),\n Text(0.6086956521739131, 0.4583333333333333, 'gini = 0.0\\nsamples = 3\\nvalue = [3, 0]'),\n Text(0.6521739130434783, 0.7083333333333334, 'x[2] <= 79.0\\ngini = 0.036\\nsamples = 109\\nvalue = [2, 107]'),\n Text(0.6086956521739131, 0.625, 'gini = 0.0\\nsamples = 100\\nvalue = [0, 100]'),\n Text(0.6956521739130435, 0.625, 'x[10] <= 171.5\\ngini = 0.346\\nsamples = 9\\nvalue = [2, 7]'),\n Text(0.6521739130434783, 0.5416666666666666, 'gini = 0.0\\nsamples = 2\\nvalue = [2, 0]'),\n Text(0.7391304347826086, 0.5416666666666666, 'gini = 0.0\\nsamples = 7\\nvalue = [0, 7]'),\n Text(0.8695652173913043, 0.7916666666666666, 'x[16] <= 181.5\\ngini = 0.153\\nsamples = 72\\nvalue = [66, 6]'),\n Text(0.8260869565217391, 0.7083333333333334, 'gini = 0.0\\nsamples = 3\\nvalue = [0, 3]'),\n Text(0.9130434782608695, 0.7083333333333334, 'x[15] <= 23.5\\ngini = 0.083\\nsamples = 69\\nvalue = [66, 3]'),\n Text(0.8695652173913043, 0.625, 'x[17] <= 191.5\\ngini = 0.029\\nsamples = 67\\nvalue = [66, 1]'),\n Text(0.8260869565217391, 0.5416666666666666, 'x[5] <= 16.0\\ngini = 0.32\\nsamples = 5\\nvalue = [4, 1]'),\n Text(0.782608695652174, 0.4583333333333333, 'gini = 0.0\\nsamples = 4\\nvalue = [4, 0]'),\n Text(0.8695652173913043, 0.4583333333333333, 'gini = 0.0\\nsamples = 1\\nvalue = [0, 1]'),\n Text(0.9130434782608695, 0.5416666666666666, 'gini = 0.0\\nsamples = 62\\nvalue = [62, 0]'),\n Text(0.9565217391304348, 0.625, 'gini = 0.0\\nsamples = 2\\nvalue = [0, 2]')]"
     },
     "execution_count": 25,
     "metadata": {},
     "output_type": "execute_result"
    },
    {
     "data": {
      "text/plain": "<Figure size 640x480 with 1 Axes>",
      "image/png": "[encoded data removed]"
     },
     "metadata": {},
     "output_type": "display_data"
    }
   ],
   "source": [
    "tree_cf = tree.DecisionTreeClassifier()\n",
    "tree_cf.fit(X_trainVehicle,y_trainVehicle)\n",
    "tree.plot_tree(tree_cf)"
   ],
   "metadata": {
    "collapsed": false
   }
  },
  {
   "cell_type": "code",
   "execution_count": 26,
   "outputs": [
    {
     "name": "stdout",
     "output_type": "stream",
     "text": [
      "0.9\n"
     ]
    }
   ],
   "source": [
    "# Score\n",
    "X_testVehicle = testVehicle.drop('Class', axis=1)\n",
    "y_testVehicle = testVehicle['Class']\n",
    "print(ripper_clf.score(X_testVehicle, y_testVehicle))"
   ],
   "metadata": {
    "collapsed": false
   }
  },
  {
   "cell_type": "code",
   "execution_count": 27,
   "outputs": [
    {
     "name": "stdout",
     "output_type": "stream",
     "text": [
      "0.9357142857142857\n"
     ]
    }
   ],
   "source": [
    "print(tree_cf.score(X_testVehicle, y_testVehicle))"
   ],
   "metadata": {
    "collapsed": false
   }
  },
  {
   "cell_type": "code",
   "execution_count": 28,
   "outputs": [
    {
     "name": "stdout",
     "output_type": "stream",
     "text": [
      "[[F6=-0.094-0.02] V\n",
      "[F1=>3.39] V\n",
      "[F1=2.54-2.91] V\n",
      "[F1=1.59-1.87] V\n",
      "[F1=2.91-3.39] V\n",
      "[F1=2.17-2.54] V\n",
      "[F1=1.27-1.59] V\n",
      "[F1=0.88-1.27] V\n",
      "[F1=1.87-2.17] V\n",
      "[F9=-0.3--0.14] V\n",
      "[F3=-0.39--0.15] V\n",
      "[F2=-1.12--0.9]]\n",
      "None\n"
     ]
    }
   ],
   "source": [
    "X_trainVowel = trainVowel.drop('Class', axis=1)\n",
    "y_trainVowel = trainVowel['Class']\n",
    "# Create and train model\n",
    "ripper_clf = lw.RIPPER()\n",
    "ripper_clf.fit(X_trainVowel, y_trainVowel)\n",
    "# Print model\n",
    "print(ripper_clf.out_model())"
   ],
   "metadata": {
    "collapsed": false
   }
  },
  {
   "cell_type": "code",
   "execution_count": 29,
   "outputs": [
    {
     "data": {
      "text/plain": "[Text(0.5125, 0.9166666666666666, 'x[4] <= 0.344\\ngini = 0.163\\nsamples = 661\\nvalue = [59, 602]'),\n Text(0.25, 0.75, 'x[6] <= 0.9\\ngini = 0.414\\nsamples = 65\\nvalue = [46, 19]'),\n Text(0.1, 0.5833333333333334, 'x[5] <= -1.329\\ngini = 0.423\\nsamples = 23\\nvalue = [7, 16]'),\n Text(0.05, 0.4166666666666667, 'gini = 0.0\\nsamples = 5\\nvalue = [5, 0]'),\n Text(0.15, 0.4166666666666667, 'x[9] <= 0.683\\ngini = 0.198\\nsamples = 18\\nvalue = [2, 16]'),\n Text(0.1, 0.25, 'gini = 0.0\\nsamples = 16\\nvalue = [0, 16]'),\n Text(0.2, 0.25, 'gini = 0.0\\nsamples = 2\\nvalue = [2, 0]'),\n Text(0.4, 0.5833333333333334, 'x[8] <= 0.519\\ngini = 0.133\\nsamples = 42\\nvalue = [39, 3]'),\n Text(0.35, 0.4166666666666667, 'x[9] <= -0.848\\ngini = 0.375\\nsamples = 4\\nvalue = [1, 3]'),\n Text(0.3, 0.25, 'gini = 0.0\\nsamples = 1\\nvalue = [1, 0]'),\n Text(0.4, 0.25, 'gini = 0.0\\nsamples = 3\\nvalue = [0, 3]'),\n Text(0.45, 0.4166666666666667, 'gini = 0.0\\nsamples = 38\\nvalue = [38, 0]'),\n Text(0.775, 0.75, 'x[5] <= 1.087\\ngini = 0.043\\nsamples = 596\\nvalue = [13, 583]'),\n Text(0.65, 0.5833333333333334, 'x[4] <= 0.425\\ngini = 0.01\\nsamples = 585\\nvalue = [3, 582]'),\n Text(0.55, 0.4166666666666667, 'x[12] <= -0.62\\ngini = 0.375\\nsamples = 8\\nvalue = [2, 6]'),\n Text(0.5, 0.25, 'gini = 0.0\\nsamples = 2\\nvalue = [2, 0]'),\n Text(0.6, 0.25, 'gini = 0.0\\nsamples = 6\\nvalue = [0, 6]'),\n Text(0.75, 0.4166666666666667, 'x[9] <= -1.113\\ngini = 0.003\\nsamples = 577\\nvalue = [1, 576]'),\n Text(0.7, 0.25, 'x[9] <= -1.122\\ngini = 0.133\\nsamples = 14\\nvalue = [1, 13]'),\n Text(0.65, 0.08333333333333333, 'gini = 0.0\\nsamples = 13\\nvalue = [0, 13]'),\n Text(0.75, 0.08333333333333333, 'gini = 0.0\\nsamples = 1\\nvalue = [1, 0]'),\n Text(0.8, 0.25, 'gini = 0.0\\nsamples = 563\\nvalue = [0, 563]'),\n Text(0.9, 0.5833333333333334, 'x[7] <= -0.912\\ngini = 0.165\\nsamples = 11\\nvalue = [10, 1]'),\n Text(0.85, 0.4166666666666667, 'gini = 0.0\\nsamples = 1\\nvalue = [0, 1]'),\n Text(0.95, 0.4166666666666667, 'gini = 0.0\\nsamples = 10\\nvalue = [10, 0]')]"
     },
     "execution_count": 29,
     "metadata": {},
     "output_type": "execute_result"
    },
    {
     "data": {
      "text/plain": "<Figure size 640x480 with 1 Axes>",
      "image/png": "[encoded data removed]"
     },
     "metadata": {},
     "output_type": "display_data"
    }
   ],
   "source": [
    "tree_cf = tree.DecisionTreeClassifier()\n",
    "tree_cf.fit(X_trainVowel,y_trainVowel)\n",
    "tree.plot_tree(tree_cf)"
   ],
   "metadata": {
    "collapsed": false
   }
  },
  {
   "cell_type": "code",
   "execution_count": 30,
   "outputs": [
    {
     "name": "stdout",
     "output_type": "stream",
     "text": [
      "0.9113149847094801\n"
     ]
    }
   ],
   "source": [
    "# Score\n",
    "X_testVowel = testVowel.drop('Class', axis=1)\n",
    "y_testVowel = testVowel['Class']\n",
    "print(ripper_clf.score(X_testVowel, y_testVowel))"
   ],
   "metadata": {
    "collapsed": false
   }
  },
  {
   "cell_type": "code",
   "execution_count": 31,
   "outputs": [
    {
     "name": "stdout",
     "output_type": "stream",
     "text": [
      "0.9847094801223242\n"
     ]
    }
   ],
   "source": [
    "print(tree_cf.score(X_testVowel, y_testVowel))"
   ],
   "metadata": {
    "collapsed": false
   }
  },
  {
   "cell_type": "markdown",
   "source": [
    "# Decision trees vs SVM"
   ],
   "metadata": {
    "collapsed": false
   }
  },
  {
   "cell_type": "code",
   "execution_count": 14,
   "outputs": [],
   "source": [
    "X_trainTae = trainTae.drop('Class_attribute', axis=1)\n",
    "y_trainTae = trainTae['Class_attribute']\n",
    "\n",
    "X_testTae = testTae.drop('Class_attribute', axis=1)\n",
    "y_testTae = testTae['Class_attribute']"
   ],
   "metadata": {
    "collapsed": false
   }
  },
  {
   "cell_type": "code",
   "execution_count": 15,
   "outputs": [],
   "source": [
    "X_trainSonar = trainSonar.drop('Class', axis=1)\n",
    "y_trainSonar = trainSonar['Class']\n",
    "\n",
    "X_testSonar = testSonar.drop('Class', axis=1)\n",
    "y_testSonar = testSonar['Class']"
   ],
   "metadata": {
    "collapsed": false
   }
  },
  {
   "cell_type": "code",
   "execution_count": 16,
   "outputs": [],
   "source": [
    "X_trainSpambase = trainSpambase.drop('class', axis=1)\n",
    "y_trainSpambase = trainSpambase['class']\n",
    "\n",
    "X_testSpambase = testSpambase.drop('class', axis=1)\n",
    "y_testSpambase = testSpambase['class']"
   ],
   "metadata": {
    "collapsed": false
   }
  },
  {
   "cell_type": "code",
   "execution_count": 17,
   "outputs": [],
   "source": [
    "X_trainPage = trainPage.drop('Class', axis=1)\n",
    "y_trainPage = trainPage['Class']\n",
    "\n",
    "X_testPage = testPage.drop('Class', axis=1)\n",
    "y_testPage = testPage['Class']"
   ],
   "metadata": {
    "collapsed": false
   }
  },
  {
   "cell_type": "code",
   "execution_count": 18,
   "outputs": [],
   "source": [
    "X_trainIris = trainIris.drop('class', axis=1)\n",
    "y_trainIris = trainIris['class']\n",
    "\n",
    "X_testIris = testIris.drop('class', axis=1)\n",
    "y_testIris = testIris['class']"
   ],
   "metadata": {
    "collapsed": false
   }
  },
  {
   "cell_type": "code",
   "execution_count": 19,
   "outputs": [],
   "source": [
    "X_trainLetter = trainLetter.drop('class', axis=1)\n",
    "y_trainLetter = trainLetter['class']\n",
    "\n",
    "X_testLetter = testLetter.drop('class', axis=1)\n",
    "y_testLetter = testLetter['class']"
   ],
   "metadata": {
    "collapsed": false
   }
  },
  {
   "cell_type": "code",
   "execution_count": 38,
   "outputs": [],
   "source": [
    "clf_svm = svm.SVC(kernel='linear', C=1)\n",
    "clf_tree = tree.DecisionTreeClassifier()"
   ],
   "metadata": {
    "collapsed": false
   }
  },
  {
   "cell_type": "code",
   "execution_count": 39,
   "outputs": [
    {
     "name": "stdout",
     "output_type": "stream",
     "text": [
      "0.853448275862069\n"
     ]
    }
   ],
   "source": [
    "clf_svm.fit(X_trainIono, y_trainIono)\n",
    "print(clf_svm.score(X_testIono, y_testIono))"
   ],
   "metadata": {
    "collapsed": false
   }
  },
  {
   "cell_type": "code",
   "execution_count": 40,
   "outputs": [
    {
     "name": "stdout",
     "output_type": "stream",
     "text": [
      "0.8879310344827587\n"
     ]
    }
   ],
   "source": [
    "clf_tree.fit(X_trainIono, y_trainIono)\n",
    "print(clf_tree.score(X_testIono, y_testIono))"
   ],
   "metadata": {
    "collapsed": false
   }
  },
  {
   "cell_type": "code",
   "execution_count": 41,
   "outputs": [
    {
     "name": "stdout",
     "output_type": "stream",
     "text": [
      "0.7637795275590551\n"
     ]
    }
   ],
   "source": [
    "clf_svm.fit(X_trainDiabe, y_trainDiabe)\n",
    "print(clf_svm.score(X_testDiabe, y_testDiabe))"
   ],
   "metadata": {
    "collapsed": false
   }
  },
  {
   "cell_type": "code",
   "execution_count": 42,
   "outputs": [
    {
     "name": "stdout",
     "output_type": "stream",
     "text": [
      "0.6653543307086615\n"
     ]
    }
   ],
   "source": [
    "clf_tree.fit(X_trainDiabe, y_trainDiabe)\n",
    "print(clf_tree.score(X_testDiabe, y_testDiabe))"
   ],
   "metadata": {
    "collapsed": false
   }
  },
  {
   "cell_type": "code",
   "execution_count": 43,
   "outputs": [
    {
     "name": "stdout",
     "output_type": "stream",
     "text": [
      "0.9694189602446484\n"
     ]
    }
   ],
   "source": [
    "clf_svm.fit(X_trainVowel, y_trainVowel)\n",
    "print(clf_svm.score(X_testVowel, y_testVowel))"
   ],
   "metadata": {
    "collapsed": false
   }
  },
  {
   "cell_type": "code",
   "execution_count": 44,
   "outputs": [
    {
     "name": "stdout",
     "output_type": "stream",
     "text": [
      "0.9785932721712538\n"
     ]
    }
   ],
   "source": [
    "clf_tree.fit(X_trainVowel, y_trainVowel)\n",
    "print(clf_tree.score(X_testVowel, y_testVowel))"
   ],
   "metadata": {
    "collapsed": false
   }
  },
  {
   "cell_type": "code",
   "execution_count": 45,
   "outputs": [
    {
     "name": "stdout",
     "output_type": "stream",
     "text": [
      "0.9642857142857143\n"
     ]
    }
   ],
   "source": [
    "clf_svm.fit(X_trainVehicle, y_trainVehicle)\n",
    "print(clf_svm.score(X_testVehicle, y_testVehicle))"
   ],
   "metadata": {
    "collapsed": false
   }
  },
  {
   "cell_type": "code",
   "execution_count": 46,
   "outputs": [
    {
     "name": "stdout",
     "output_type": "stream",
     "text": [
      "0.9392857142857143\n"
     ]
    }
   ],
   "source": [
    "clf_tree.fit(X_trainVehicle, y_trainVehicle)\n",
    "print(clf_tree.score(X_testVehicle, y_testVehicle))"
   ],
   "metadata": {
    "collapsed": false
   }
  },
  {
   "cell_type": "code",
   "execution_count": 47,
   "outputs": [
    {
     "name": "stdout",
     "output_type": "stream",
     "text": [
      "0.44\n"
     ]
    }
   ],
   "source": [
    "clf_svm.fit(X_trainTae, y_trainTae)\n",
    "print(clf_svm.score(X_testTae, y_testTae))"
   ],
   "metadata": {
    "collapsed": false
   }
  },
  {
   "cell_type": "code",
   "execution_count": 48,
   "outputs": [
    {
     "name": "stdout",
     "output_type": "stream",
     "text": [
      "0.66\n"
     ]
    }
   ],
   "source": [
    "clf_tree.fit(X_trainTae, y_trainTae)\n",
    "print(clf_tree.score(X_testTae, y_testTae))"
   ],
   "metadata": {
    "collapsed": false
   }
  },
  {
   "cell_type": "code",
   "execution_count": 49,
   "outputs": [
    {
     "name": "stdout",
     "output_type": "stream",
     "text": [
      "0.7536231884057971\n"
     ]
    }
   ],
   "source": [
    "clf_svm.fit(X_trainSonar, y_trainSonar)\n",
    "print(clf_svm.score(X_testSonar, y_testSonar))"
   ],
   "metadata": {
    "collapsed": false
   }
  },
  {
   "cell_type": "code",
   "execution_count": 50,
   "outputs": [
    {
     "name": "stdout",
     "output_type": "stream",
     "text": [
      "0.6376811594202898\n"
     ]
    }
   ],
   "source": [
    "clf_tree.fit(X_trainSonar, y_trainSonar)\n",
    "print(clf_tree.score(X_testSonar, y_testSonar))"
   ],
   "metadata": {
    "collapsed": false
   }
  },
  {
   "cell_type": "code",
   "execution_count": 51,
   "outputs": [
    {
     "name": "stdout",
     "output_type": "stream",
     "text": [
      "0.9144173798551679\n"
     ]
    }
   ],
   "source": [
    "clf_svm.fit(X_trainSpambase, y_trainSpambase)\n",
    "print(clf_svm.score(X_testSpambase, y_testSpambase))"
   ],
   "metadata": {
    "collapsed": false
   }
  },
  {
   "cell_type": "code",
   "execution_count": 52,
   "outputs": [
    {
     "name": "stdout",
     "output_type": "stream",
     "text": [
      "0.9190256747860435\n"
     ]
    }
   ],
   "source": [
    "clf_tree.fit(X_trainSpambase, y_trainSpambase)\n",
    "print(clf_tree.score(X_testSpambase, y_testSpambase))"
   ],
   "metadata": {
    "collapsed": false
   }
  },
  {
   "cell_type": "code",
   "execution_count": 53,
   "outputs": [
    {
     "name": "stdout",
     "output_type": "stream",
     "text": [
      "0.9302325581395349\n"
     ]
    }
   ],
   "source": [
    "clf_svm.fit(X_trainPage, y_trainPage)\n",
    "print(clf_svm.score(X_testPage, y_testPage))"
   ],
   "metadata": {
    "collapsed": false
   }
  },
  {
   "cell_type": "code",
   "execution_count": 54,
   "outputs": [
    {
     "name": "stdout",
     "output_type": "stream",
     "text": [
      "0.9590254706533776\n"
     ]
    }
   ],
   "source": [
    "clf_tree.fit(X_trainPage, y_trainPage)\n",
    "print(clf_tree.score(X_testPage, y_testPage))"
   ],
   "metadata": {
    "collapsed": false
   }
  },
  {
   "cell_type": "code",
   "execution_count": 55,
   "outputs": [
    {
     "name": "stdout",
     "output_type": "stream",
     "text": [
      "1.0\n"
     ]
    }
   ],
   "source": [
    "clf_svm.fit(X_trainIris, y_trainIris)\n",
    "print(clf_svm.score(X_testIris, y_testIris))"
   ],
   "metadata": {
    "collapsed": false
   }
  },
  {
   "cell_type": "code",
   "execution_count": 56,
   "outputs": [
    {
     "name": "stdout",
     "output_type": "stream",
     "text": [
      "0.94\n"
     ]
    }
   ],
   "source": [
    "clf_tree.fit(X_trainIris, y_trainIris)\n",
    "print(clf_tree.score(X_testIris, y_testIris))"
   ],
   "metadata": {
    "collapsed": false
   }
  },
  {
   "cell_type": "code",
   "execution_count": 57,
   "outputs": [
    {
     "name": "stdout",
     "output_type": "stream",
     "text": [
      "0.8546969696969697\n"
     ]
    }
   ],
   "source": [
    "clf_svm.fit(X_trainLetter, y_trainLetter)\n",
    "print(clf_svm.score(X_testLetter, y_testLetter))"
   ],
   "metadata": {
    "collapsed": false
   }
  },
  {
   "cell_type": "code",
   "execution_count": 58,
   "outputs": [
    {
     "name": "stdout",
     "output_type": "stream",
     "text": [
      "0.8656060606060606\n"
     ]
    }
   ],
   "source": [
    "clf_tree.fit(X_trainLetter, y_trainLetter)\n",
    "print(clf_tree.score(X_testLetter, y_testLetter))"
   ],
   "metadata": {
    "collapsed": false
   }
  },
  {
   "cell_type": "markdown",
   "source": [
    "## Crossvalidation"
   ],
   "metadata": {
    "collapsed": false
   }
  },
  {
   "cell_type": "code",
   "execution_count": 20,
   "outputs": [],
   "source": [
    "# Set the parameters by cross-validation\n",
    "parameters = [\n",
    " {\"kernel\": [\"rbf\"], \"gamma\": [0.01, 0.1, 1.0], \"C\": [1, 10, 100, 1000]},\n",
    " {\"kernel\": [\"linear\"], \"C\": [1, 10, 100, 1000]},\n",
    "]"
   ],
   "metadata": {
    "collapsed": false
   }
  },
  {
   "cell_type": "code",
   "execution_count": 21,
   "outputs": [],
   "source": [
    "sss = StratifiedShuffleSplit(n_splits=5, test_size=0.25, random_state=0)\n",
    "\n",
    "# Train the SVM model\n",
    "svm_model = svm.SVC()\n",
    "optimal = GridSearchCV(estimator=svm_model, cv=sss, param_grid=parameters, n_jobs=-1)"
   ],
   "metadata": {
    "collapsed": false
   }
  },
  {
   "cell_type": "code",
   "execution_count": 61,
   "outputs": [
    {
     "name": "stdout",
     "output_type": "stream",
     "text": [
      "The best accuracy was obtained with the following SVM:\n",
      "Best params -> {'C': 1, 'gamma': 0.1, 'kernel': 'rbf'}\n",
      "Best score -> 0.952542372881356\n"
     ]
    }
   ],
   "source": [
    "optimal.fit(X_trainIono, y_trainIono)\n",
    "print(f\"The best accuracy was obtained with the following SVM:\")\n",
    "print(f'Best params -> {optimal.best_params_}')\n",
    "print(f'Best score -> {optimal.best_score_}')\n",
    "\n",
    "print(f\"If we use the test dataset we obtain the following score:\")\n",
    "print(f\"score = {optimal.score(X_testIono, y_testIono)}\")"
   ],
   "metadata": {
    "collapsed": false
   }
  },
  {
   "cell_type": "code",
   "execution_count": 62,
   "outputs": [
    {
     "name": "stdout",
     "output_type": "stream",
     "text": [
      "The best accuracy was obtained with the following SVM:\n",
      "Best params -> {'C': 100, 'kernel': 'linear'}\n",
      "Best score -> 0.7565891472868217\n"
     ]
    }
   ],
   "source": [
    "optimal.fit(X_trainDiabe, y_trainDiabe)\n",
    "print(f\"The best accuracy was obtained with the following SVM:\")\n",
    "print(f'Best params -> {optimal.best_params_}')\n",
    "print(f'Best score -> {optimal.best_score_}')\n",
    "\n",
    "print(f\"If we use the test dataset we obtain the following score:\")\n",
    "print(f\"score = {optimal.score(X_testDiabe, y_testDiabe)}\")"
   ],
   "metadata": {
    "collapsed": false
   }
  },
  {
   "cell_type": "code",
   "execution_count": 63,
   "outputs": [
    {
     "name": "stdout",
     "output_type": "stream",
     "text": [
      "The best accuracy was obtained with the following SVM:\n",
      "Best params -> {'C': 1, 'kernel': 'linear'}\n",
      "Best score -> 0.952112676056338\n"
     ]
    }
   ],
   "source": [
    "optimal.fit(X_trainVehicle, y_trainVehicle)\n",
    "print(f\"The best accuracy was obtained with the following SVM:\")\n",
    "print(f'Best params -> {optimal.best_params_}')\n",
    "print(f'Best score -> {optimal.best_score_}')\n",
    "\n",
    "print(f\"If we use the test dataset we obtain the following score:\")\n",
    "print(f\"score = {optimal.score(X_testVehicle, y_testVehicle)}\")"
   ],
   "metadata": {
    "collapsed": false
   }
  },
  {
   "cell_type": "code",
   "execution_count": 64,
   "outputs": [
    {
     "name": "stdout",
     "output_type": "stream",
     "text": [
      "The best accuracy was obtained with the following SVM:\n",
      "Best params -> {'C': 100, 'gamma': 0.01, 'kernel': 'rbf'}\n",
      "Best score -> 0.9987951807228915\n"
     ]
    }
   ],
   "source": [
    "optimal.fit(X_trainVowel, y_trainVowel)\n",
    "print(f\"The best accuracy was obtained with the following SVM:\")\n",
    "print(f'Best params -> {optimal.best_params_}')\n",
    "print(f'Best score -> {optimal.best_score_}')\n",
    "\n",
    "print(f\"If we use the test dataset we obtain the following score:\")\n",
    "print(f\"score = {optimal.score(X_testVowel, y_testVowel)}\")"
   ],
   "metadata": {
    "collapsed": false
   }
  },
  {
   "cell_type": "code",
   "execution_count": 65,
   "outputs": [
    {
     "name": "stdout",
     "output_type": "stream",
     "text": [
      "The best accuracy was obtained with the following SVM:\n",
      "Best params -> {'C': 1, 'gamma': 1.0, 'kernel': 'rbf'}\n",
      "Best score -> 0.49230769230769234\n"
     ]
    }
   ],
   "source": [
    "optimal.fit(X_trainTae, y_trainTae)\n",
    "print(f\"The best accuracy was obtained with the following SVM:\")\n",
    "print(f'Best params -> {optimal.best_params_}')\n",
    "print(f'Best score -> {optimal.best_score_}')\n",
    "\n",
    "print(f\"If we use the test dataset we obtain the following score:\")\n",
    "print(f\"score = {optimal.score(X_testTae, y_testTae)}\")"
   ],
   "metadata": {
    "collapsed": false
   }
  },
  {
   "cell_type": "code",
   "execution_count": 66,
   "outputs": [
    {
     "name": "stdout",
     "output_type": "stream",
     "text": [
      "The best accuracy was obtained with the following SVM:\n",
      "Best params -> {'C': 10, 'gamma': 1.0, 'kernel': 'rbf'}\n",
      "Best score -> 0.8857142857142856\n"
     ]
    }
   ],
   "source": [
    "optimal.fit(X_trainSonar, y_trainSonar)\n",
    "print(f\"The best accuracy was obtained with the following SVM:\")\n",
    "print(f'Best params -> {optimal.best_params_}')\n",
    "print(f'Best score -> {optimal.best_score_}')\n",
    "\n",
    "print(f\"If we use the test dataset we obtain the following score:\")\n",
    "print(f\"score = {optimal.score(X_testSonar, y_testSonar)}\")"
   ],
   "metadata": {
    "collapsed": false
   }
  },
  {
   "cell_type": "code",
   "execution_count": null,
   "outputs": [],
   "source": [
    "optimal.fit(X_trainSpambase, y_trainSpambase)\n",
    "print(f\"The best accuracy was obtained with the following SVM:\")\n",
    "print(f'Best params -> {optimal.best_params_}')\n",
    "print(f'Best score -> {optimal.best_score_}')\n",
    "\n",
    "print(f\"If we use the test dataset we obtain the following score:\")\n",
    "print(f\"score = {optimal.score(X_testSpambase, y_testSpambase)}\")"
   ],
   "metadata": {
    "collapsed": false,
    "pycharm": {
     "is_executing": true
    }
   }
  },
  {
   "cell_type": "code",
   "execution_count": 22,
   "outputs": [
    {
     "name": "stdout",
     "output_type": "stream",
     "text": [
      "The best accuracy was obtained with the following SVM:\n",
      "Best params -> {'C': 1, 'kernel': 'linear'}\n",
      "Best score -> 0.9452562704471102\n",
      "If we use the test dataset we obtain the following score:\n",
      "score = 0.9462901439645626\n"
     ]
    }
   ],
   "source": [
    "optimal.fit(X_trainPage, y_trainPage)\n",
    "print(f\"The best accuracy was obtained with the following SVM:\")\n",
    "print(f'Best params -> {optimal.best_params_}')\n",
    "print(f'Best score -> {optimal.best_score_}')\n",
    "\n",
    "print(f\"If we use the test dataset we obtain the following score:\")\n",
    "print(f\"score = {optimal.score(X_testPage, y_testPage)}\")"
   ],
   "metadata": {
    "collapsed": false
   }
  },
  {
   "cell_type": "code",
   "execution_count": 23,
   "outputs": [
    {
     "name": "stdout",
     "output_type": "stream",
     "text": [
      "The best accuracy was obtained with the following SVM:\n",
      "Best params -> {'C': 1, 'gamma': 0.1, 'kernel': 'rbf'}\n",
      "Best score -> 0.976\n",
      "If we use the test dataset we obtain the following score:\n",
      "score = 0.98\n"
     ]
    }
   ],
   "source": [
    "optimal.fit(X_trainIris, y_trainIris)\n",
    "print(f\"The best accuracy was obtained with the following SVM:\")\n",
    "print(f'Best params -> {optimal.best_params_}')\n",
    "print(f'Best score -> {optimal.best_score_}')\n",
    "\n",
    "print(f\"If we use the test dataset we obtain the following score:\")\n",
    "print(f\"score = {optimal.score(X_testIris, y_testIris)}\")"
   ],
   "metadata": {
    "collapsed": false
   }
  },
  {
   "cell_type": "code",
   "execution_count": 24,
   "outputs": [
    {
     "name": "stdout",
     "output_type": "stream",
     "text": [
      "The best accuracy was obtained with the following SVM:\n",
      "Best params -> {'C': 10, 'gamma': 0.1, 'kernel': 'rbf'}\n",
      "Best score -> 0.962686567164179\n",
      "If we use the test dataset we obtain the following score:\n",
      "score = 0.9722727272727273\n"
     ]
    }
   ],
   "source": [
    "optimal.fit(X_trainLetter, y_trainLetter)\n",
    "print(f\"The best accuracy was obtained with the following SVM:\")\n",
    "print(f'Best params -> {optimal.best_params_}')\n",
    "print(f'Best score -> {optimal.best_score_}')\n",
    "\n",
    "print(f\"If we use the test dataset we obtain the following score:\")\n",
    "print(f\"score = {optimal.score(X_testLetter, y_testLetter)}\")"
   ],
   "metadata": {
    "collapsed": false
   }
  }
 ],
 "metadata": {
  "kernelspec": {
   "display_name": "Python 3",
   "language": "python",
   "name": "python3"
  },
  "language_info": {
   "codemirror_mode": {
    "name": "ipython",
    "version": 2
   },
   "file_extension": ".py",
   "mimetype": "text/x-python",
   "name": "python",
   "nbconvert_exporter": "python",
   "pygments_lexer": "ipython2",
   "version": "2.7.6"
  }
 },
 "nbformat": 4,
 "nbformat_minor": 0
}
