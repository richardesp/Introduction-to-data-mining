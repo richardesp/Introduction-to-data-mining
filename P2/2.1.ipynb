{
 "cells": [
  {
   "cell_type": "code",
   "execution_count": 1,
   "outputs": [],
   "source": [
    "import warnings\n",
    "warnings.simplefilter(action='ignore', category=FutureWarning)"
   ],
   "metadata": {
    "collapsed": false
   }
  },
  {
   "cell_type": "code",
   "execution_count": 2,
   "outputs": [
    {
     "name": "stdout",
     "output_type": "stream",
     "text": [
      "Requirement already satisfied: scipy in /home/ricardo/PycharmProjects/Local_IMD/venv/lib/python3.9/site-packages (1.9.3)\r\n",
      "Requirement already satisfied: numpy<1.26.0,>=1.18.5 in /home/ricardo/PycharmProjects/Local_IMD/venv/lib/python3.9/site-packages (from scipy) (1.23.5)\r\n",
      "Requirement already satisfied: scikit-learn in /home/ricardo/PycharmProjects/Local_IMD/venv/lib/python3.9/site-packages (1.2.0)\r\n",
      "Requirement already satisfied: numpy>=1.17.3 in /home/ricardo/PycharmProjects/Local_IMD/venv/lib/python3.9/site-packages (from scikit-learn) (1.23.5)\r\n",
      "Requirement already satisfied: threadpoolctl>=2.0.0 in /home/ricardo/PycharmProjects/Local_IMD/venv/lib/python3.9/site-packages (from scikit-learn) (3.1.0)\r\n",
      "Requirement already satisfied: scipy>=1.3.2 in /home/ricardo/PycharmProjects/Local_IMD/venv/lib/python3.9/site-packages (from scikit-learn) (1.9.3)\r\n",
      "Requirement already satisfied: joblib>=1.1.1 in /home/ricardo/PycharmProjects/Local_IMD/venv/lib/python3.9/site-packages (from scikit-learn) (1.2.0)\r\n",
      "Requirement already satisfied: wittgenstein in /home/ricardo/PycharmProjects/Local_IMD/venv/lib/python3.9/site-packages (0.3.2)\r\n",
      "Requirement already satisfied: pandas in /home/ricardo/PycharmProjects/Local_IMD/venv/lib/python3.9/site-packages (from wittgenstein) (1.5.2)\r\n",
      "Requirement already satisfied: numpy in /home/ricardo/PycharmProjects/Local_IMD/venv/lib/python3.9/site-packages (from wittgenstein) (1.23.5)\r\n",
      "Requirement already satisfied: python-dateutil>=2.8.1 in /home/ricardo/PycharmProjects/Local_IMD/venv/lib/python3.9/site-packages (from pandas->wittgenstein) (2.8.2)\r\n",
      "Requirement already satisfied: pytz>=2020.1 in /home/ricardo/PycharmProjects/Local_IMD/venv/lib/python3.9/site-packages (from pandas->wittgenstein) (2022.6)\r\n",
      "Requirement already satisfied: six>=1.5 in /home/ricardo/PycharmProjects/Local_IMD/venv/lib/python3.9/site-packages (from python-dateutil>=2.8.1->pandas->wittgenstein) (1.16.0)\r\n",
      "Requirement already satisfied: sklearn-evaluation in /home/ricardo/PycharmProjects/Local_IMD/venv/lib/python3.9/site-packages (0.8.3)\r\n",
      "Requirement already satisfied: decorator in /home/ricardo/PycharmProjects/Local_IMD/venv/lib/python3.9/site-packages (from sklearn-evaluation) (5.1.1)\r\n",
      "Requirement already satisfied: tabulate in /home/ricardo/PycharmProjects/Local_IMD/venv/lib/python3.9/site-packages (from sklearn-evaluation) (0.9.0)\r\n",
      "Requirement already satisfied: ipython in /home/ricardo/PycharmProjects/Local_IMD/venv/lib/python3.9/site-packages (from sklearn-evaluation) (8.7.0)\r\n",
      "Requirement already satisfied: mistune in /home/ricardo/PycharmProjects/Local_IMD/venv/lib/python3.9/site-packages (from sklearn-evaluation) (2.0.4)\r\n",
      "Requirement already satisfied: jinja2 in /home/ricardo/PycharmProjects/Local_IMD/venv/lib/python3.9/site-packages (from sklearn-evaluation) (3.1.2)\r\n",
      "Requirement already satisfied: black in /home/ricardo/PycharmProjects/Local_IMD/venv/lib/python3.9/site-packages (from sklearn-evaluation) (22.12.0)\r\n",
      "Requirement already satisfied: pandas in /home/ricardo/PycharmProjects/Local_IMD/venv/lib/python3.9/site-packages (from sklearn-evaluation) (1.5.2)\r\n",
      "Requirement already satisfied: ploomber-core>=0.0.4 in /home/ricardo/PycharmProjects/Local_IMD/venv/lib/python3.9/site-packages (from sklearn-evaluation) (0.0.10)\r\n",
      "Requirement already satisfied: scikit-learn in /home/ricardo/PycharmProjects/Local_IMD/venv/lib/python3.9/site-packages (from sklearn-evaluation) (1.2.0)\r\n",
      "Requirement already satisfied: matplotlib in /home/ricardo/PycharmProjects/Local_IMD/venv/lib/python3.9/site-packages (from sklearn-evaluation) (3.6.2)\r\n",
      "Requirement already satisfied: parso in /home/ricardo/PycharmProjects/Local_IMD/venv/lib/python3.9/site-packages (from sklearn-evaluation) (0.8.3)\r\n",
      "Requirement already satisfied: nbformat in /home/ricardo/PycharmProjects/Local_IMD/venv/lib/python3.9/site-packages (from sklearn-evaluation) (5.7.0)\r\n",
      "Requirement already satisfied: click in /home/ricardo/PycharmProjects/Local_IMD/venv/lib/python3.9/site-packages (from ploomber-core>=0.0.4->sklearn-evaluation) (8.1.3)\r\n",
      "Requirement already satisfied: pyyaml in /home/ricardo/PycharmProjects/Local_IMD/venv/lib/python3.9/site-packages (from ploomber-core>=0.0.4->sklearn-evaluation) (6.0)\r\n",
      "Requirement already satisfied: posthog in /home/ricardo/PycharmProjects/Local_IMD/venv/lib/python3.9/site-packages (from ploomber-core>=0.0.4->sklearn-evaluation) (2.2.0)\r\n",
      "Requirement already satisfied: platformdirs>=2 in /home/ricardo/PycharmProjects/Local_IMD/venv/lib/python3.9/site-packages (from black->sklearn-evaluation) (2.6.0)\r\n",
      "Requirement already satisfied: typing-extensions>=3.10.0.0 in /home/ricardo/PycharmProjects/Local_IMD/venv/lib/python3.9/site-packages (from black->sklearn-evaluation) (4.4.0)\r\n",
      "Requirement already satisfied: tomli>=1.1.0 in /home/ricardo/PycharmProjects/Local_IMD/venv/lib/python3.9/site-packages (from black->sklearn-evaluation) (2.0.1)\r\n",
      "Requirement already satisfied: mypy-extensions>=0.4.3 in /home/ricardo/PycharmProjects/Local_IMD/venv/lib/python3.9/site-packages (from black->sklearn-evaluation) (0.4.3)\r\n",
      "Requirement already satisfied: pathspec>=0.9.0 in /home/ricardo/PycharmProjects/Local_IMD/venv/lib/python3.9/site-packages (from black->sklearn-evaluation) (0.10.3)\r\n",
      "Requirement already satisfied: jedi>=0.16 in /home/ricardo/PycharmProjects/Local_IMD/venv/lib/python3.9/site-packages (from ipython->sklearn-evaluation) (0.18.2)\r\n",
      "Requirement already satisfied: pexpect>4.3 in /home/ricardo/PycharmProjects/Local_IMD/venv/lib/python3.9/site-packages (from ipython->sklearn-evaluation) (4.8.0)\r\n",
      "Requirement already satisfied: pickleshare in /home/ricardo/PycharmProjects/Local_IMD/venv/lib/python3.9/site-packages (from ipython->sklearn-evaluation) (0.7.5)\r\n",
      "Requirement already satisfied: pygments>=2.4.0 in /home/ricardo/PycharmProjects/Local_IMD/venv/lib/python3.9/site-packages (from ipython->sklearn-evaluation) (2.13.0)\r\n",
      "Requirement already satisfied: matplotlib-inline in /home/ricardo/PycharmProjects/Local_IMD/venv/lib/python3.9/site-packages (from ipython->sklearn-evaluation) (0.1.6)\r\n",
      "Requirement already satisfied: stack-data in /home/ricardo/PycharmProjects/Local_IMD/venv/lib/python3.9/site-packages (from ipython->sklearn-evaluation) (0.6.2)\r\n",
      "Requirement already satisfied: backcall in /home/ricardo/PycharmProjects/Local_IMD/venv/lib/python3.9/site-packages (from ipython->sklearn-evaluation) (0.2.0)\r\n",
      "Requirement already satisfied: prompt-toolkit<3.1.0,>=3.0.11 in /home/ricardo/PycharmProjects/Local_IMD/venv/lib/python3.9/site-packages (from ipython->sklearn-evaluation) (3.0.36)\r\n",
      "Requirement already satisfied: traitlets>=5 in /home/ricardo/PycharmProjects/Local_IMD/venv/lib/python3.9/site-packages (from ipython->sklearn-evaluation) (5.7.1)\r\n",
      "Requirement already satisfied: MarkupSafe>=2.0 in /home/ricardo/PycharmProjects/Local_IMD/venv/lib/python3.9/site-packages (from jinja2->sklearn-evaluation) (2.1.1)\r\n",
      "Requirement already satisfied: kiwisolver>=1.0.1 in /home/ricardo/PycharmProjects/Local_IMD/venv/lib/python3.9/site-packages (from matplotlib->sklearn-evaluation) (1.4.4)\r\n",
      "Requirement already satisfied: python-dateutil>=2.7 in /home/ricardo/PycharmProjects/Local_IMD/venv/lib/python3.9/site-packages (from matplotlib->sklearn-evaluation) (2.8.2)\r\n",
      "Requirement already satisfied: fonttools>=4.22.0 in /home/ricardo/PycharmProjects/Local_IMD/venv/lib/python3.9/site-packages (from matplotlib->sklearn-evaluation) (4.38.0)\r\n",
      "Requirement already satisfied: packaging>=20.0 in /home/ricardo/PycharmProjects/Local_IMD/venv/lib/python3.9/site-packages (from matplotlib->sklearn-evaluation) (22.0)\r\n",
      "Requirement already satisfied: contourpy>=1.0.1 in /home/ricardo/PycharmProjects/Local_IMD/venv/lib/python3.9/site-packages (from matplotlib->sklearn-evaluation) (1.0.6)\r\n",
      "Requirement already satisfied: numpy>=1.19 in /home/ricardo/PycharmProjects/Local_IMD/venv/lib/python3.9/site-packages (from matplotlib->sklearn-evaluation) (1.23.5)\r\n",
      "Requirement already satisfied: pillow>=6.2.0 in /home/ricardo/PycharmProjects/Local_IMD/venv/lib/python3.9/site-packages (from matplotlib->sklearn-evaluation) (9.3.0)\r\n",
      "Requirement already satisfied: cycler>=0.10 in /home/ricardo/PycharmProjects/Local_IMD/venv/lib/python3.9/site-packages (from matplotlib->sklearn-evaluation) (0.11.0)\r\n",
      "Requirement already satisfied: pyparsing>=2.2.1 in /home/ricardo/PycharmProjects/Local_IMD/venv/lib/python3.9/site-packages (from matplotlib->sklearn-evaluation) (3.0.9)\r\n",
      "Requirement already satisfied: fastjsonschema in /home/ricardo/PycharmProjects/Local_IMD/venv/lib/python3.9/site-packages (from nbformat->sklearn-evaluation) (2.16.2)\r\n",
      "Requirement already satisfied: jupyter-core in /home/ricardo/PycharmProjects/Local_IMD/venv/lib/python3.9/site-packages (from nbformat->sklearn-evaluation) (5.1.0)\r\n",
      "Requirement already satisfied: jsonschema>=2.6 in /home/ricardo/PycharmProjects/Local_IMD/venv/lib/python3.9/site-packages (from nbformat->sklearn-evaluation) (4.17.3)\r\n",
      "Requirement already satisfied: pytz>=2020.1 in /home/ricardo/PycharmProjects/Local_IMD/venv/lib/python3.9/site-packages (from pandas->sklearn-evaluation) (2022.6)\r\n",
      "Requirement already satisfied: joblib>=1.1.1 in /home/ricardo/PycharmProjects/Local_IMD/venv/lib/python3.9/site-packages (from scikit-learn->sklearn-evaluation) (1.2.0)\r\n",
      "Requirement already satisfied: threadpoolctl>=2.0.0 in /home/ricardo/PycharmProjects/Local_IMD/venv/lib/python3.9/site-packages (from scikit-learn->sklearn-evaluation) (3.1.0)\r\n",
      "Requirement already satisfied: scipy>=1.3.2 in /home/ricardo/PycharmProjects/Local_IMD/venv/lib/python3.9/site-packages (from scikit-learn->sklearn-evaluation) (1.9.3)\r\n",
      "Requirement already satisfied: attrs>=17.4.0 in /home/ricardo/PycharmProjects/Local_IMD/venv/lib/python3.9/site-packages (from jsonschema>=2.6->nbformat->sklearn-evaluation) (22.1.0)\r\n",
      "Requirement already satisfied: pyrsistent!=0.17.0,!=0.17.1,!=0.17.2,>=0.14.0 in /home/ricardo/PycharmProjects/Local_IMD/venv/lib/python3.9/site-packages (from jsonschema>=2.6->nbformat->sklearn-evaluation) (0.19.2)\r\n",
      "Requirement already satisfied: ptyprocess>=0.5 in /home/ricardo/PycharmProjects/Local_IMD/venv/lib/python3.9/site-packages (from pexpect>4.3->ipython->sklearn-evaluation) (0.7.0)\r\n",
      "Requirement already satisfied: wcwidth in /home/ricardo/PycharmProjects/Local_IMD/venv/lib/python3.9/site-packages (from prompt-toolkit<3.1.0,>=3.0.11->ipython->sklearn-evaluation) (0.2.5)\r\n",
      "Requirement already satisfied: six>=1.5 in /home/ricardo/PycharmProjects/Local_IMD/venv/lib/python3.9/site-packages (from python-dateutil>=2.7->matplotlib->sklearn-evaluation) (1.16.0)\r\n",
      "Requirement already satisfied: requests<3.0,>=2.7 in /home/ricardo/PycharmProjects/Local_IMD/venv/lib/python3.9/site-packages (from posthog->ploomber-core>=0.0.4->sklearn-evaluation) (2.28.1)\r\n",
      "Requirement already satisfied: backoff<2.0.0,>=1.10.0 in /home/ricardo/PycharmProjects/Local_IMD/venv/lib/python3.9/site-packages (from posthog->ploomber-core>=0.0.4->sklearn-evaluation) (1.11.1)\r\n",
      "Requirement already satisfied: monotonic>=1.5 in /home/ricardo/PycharmProjects/Local_IMD/venv/lib/python3.9/site-packages (from posthog->ploomber-core>=0.0.4->sklearn-evaluation) (1.6)\r\n",
      "Requirement already satisfied: asttokens>=2.1.0 in /home/ricardo/PycharmProjects/Local_IMD/venv/lib/python3.9/site-packages (from stack-data->ipython->sklearn-evaluation) (2.2.1)\r\n",
      "Requirement already satisfied: executing>=1.2.0 in /home/ricardo/PycharmProjects/Local_IMD/venv/lib/python3.9/site-packages (from stack-data->ipython->sklearn-evaluation) (1.2.0)\r\n",
      "Requirement already satisfied: pure-eval in /home/ricardo/PycharmProjects/Local_IMD/venv/lib/python3.9/site-packages (from stack-data->ipython->sklearn-evaluation) (0.2.2)\r\n",
      "Requirement already satisfied: idna<4,>=2.5 in /home/ricardo/PycharmProjects/Local_IMD/venv/lib/python3.9/site-packages (from requests<3.0,>=2.7->posthog->ploomber-core>=0.0.4->sklearn-evaluation) (3.4)\r\n",
      "Requirement already satisfied: charset-normalizer<3,>=2 in /home/ricardo/PycharmProjects/Local_IMD/venv/lib/python3.9/site-packages (from requests<3.0,>=2.7->posthog->ploomber-core>=0.0.4->sklearn-evaluation) (2.1.1)\r\n",
      "Requirement already satisfied: urllib3<1.27,>=1.21.1 in /home/ricardo/PycharmProjects/Local_IMD/venv/lib/python3.9/site-packages (from requests<3.0,>=2.7->posthog->ploomber-core>=0.0.4->sklearn-evaluation) (1.26.13)\r\n",
      "Requirement already satisfied: certifi>=2017.4.17 in /home/ricardo/PycharmProjects/Local_IMD/venv/lib/python3.9/site-packages (from requests<3.0,>=2.7->posthog->ploomber-core>=0.0.4->sklearn-evaluation) (2022.12.7)\r\n",
      "Requirement already satisfied: seaborn in /home/ricardo/PycharmProjects/Local_IMD/venv/lib/python3.9/site-packages (0.12.1)\r\n",
      "Requirement already satisfied: pandas>=0.25 in /home/ricardo/PycharmProjects/Local_IMD/venv/lib/python3.9/site-packages (from seaborn) (1.5.2)\r\n",
      "Requirement already satisfied: numpy>=1.17 in /home/ricardo/PycharmProjects/Local_IMD/venv/lib/python3.9/site-packages (from seaborn) (1.23.5)\r\n",
      "Requirement already satisfied: matplotlib!=3.6.1,>=3.1 in /home/ricardo/PycharmProjects/Local_IMD/venv/lib/python3.9/site-packages (from seaborn) (3.6.2)\r\n",
      "Requirement already satisfied: contourpy>=1.0.1 in /home/ricardo/PycharmProjects/Local_IMD/venv/lib/python3.9/site-packages (from matplotlib!=3.6.1,>=3.1->seaborn) (1.0.6)\r\n",
      "Requirement already satisfied: python-dateutil>=2.7 in /home/ricardo/PycharmProjects/Local_IMD/venv/lib/python3.9/site-packages (from matplotlib!=3.6.1,>=3.1->seaborn) (2.8.2)\r\n",
      "Requirement already satisfied: fonttools>=4.22.0 in /home/ricardo/PycharmProjects/Local_IMD/venv/lib/python3.9/site-packages (from matplotlib!=3.6.1,>=3.1->seaborn) (4.38.0)\r\n",
      "Requirement already satisfied: pyparsing>=2.2.1 in /home/ricardo/PycharmProjects/Local_IMD/venv/lib/python3.9/site-packages (from matplotlib!=3.6.1,>=3.1->seaborn) (3.0.9)\r\n",
      "Requirement already satisfied: pillow>=6.2.0 in /home/ricardo/PycharmProjects/Local_IMD/venv/lib/python3.9/site-packages (from matplotlib!=3.6.1,>=3.1->seaborn) (9.3.0)\r\n",
      "Requirement already satisfied: cycler>=0.10 in /home/ricardo/PycharmProjects/Local_IMD/venv/lib/python3.9/site-packages (from matplotlib!=3.6.1,>=3.1->seaborn) (0.11.0)\r\n",
      "Requirement already satisfied: kiwisolver>=1.0.1 in /home/ricardo/PycharmProjects/Local_IMD/venv/lib/python3.9/site-packages (from matplotlib!=3.6.1,>=3.1->seaborn) (1.4.4)\r\n",
      "Requirement already satisfied: packaging>=20.0 in /home/ricardo/PycharmProjects/Local_IMD/venv/lib/python3.9/site-packages (from matplotlib!=3.6.1,>=3.1->seaborn) (22.0)\r\n",
      "Requirement already satisfied: pytz>=2020.1 in /home/ricardo/PycharmProjects/Local_IMD/venv/lib/python3.9/site-packages (from pandas>=0.25->seaborn) (2022.6)\r\n",
      "Requirement already satisfied: six>=1.5 in /home/ricardo/PycharmProjects/Local_IMD/venv/lib/python3.9/site-packages (from python-dateutil>=2.7->matplotlib!=3.6.1,>=3.1->seaborn) (1.16.0)\r\n",
      "Requirement already satisfied: imblearn in /home/ricardo/PycharmProjects/Local_IMD/venv/lib/python3.9/site-packages (0.0)\r\n",
      "Requirement already satisfied: imbalanced-learn in /home/ricardo/PycharmProjects/Local_IMD/venv/lib/python3.9/site-packages (from imblearn) (0.10.0)\r\n",
      "Requirement already satisfied: scikit-learn>=1.0.2 in /home/ricardo/PycharmProjects/Local_IMD/venv/lib/python3.9/site-packages (from imbalanced-learn->imblearn) (1.2.0)\r\n",
      "Requirement already satisfied: scipy>=1.3.2 in /home/ricardo/PycharmProjects/Local_IMD/venv/lib/python3.9/site-packages (from imbalanced-learn->imblearn) (1.9.3)\r\n",
      "Requirement already satisfied: threadpoolctl>=2.0.0 in /home/ricardo/PycharmProjects/Local_IMD/venv/lib/python3.9/site-packages (from imbalanced-learn->imblearn) (3.1.0)\r\n",
      "Requirement already satisfied: numpy>=1.17.3 in /home/ricardo/PycharmProjects/Local_IMD/venv/lib/python3.9/site-packages (from imbalanced-learn->imblearn) (1.23.5)\r\n",
      "Requirement already satisfied: joblib>=1.1.1 in /home/ricardo/PycharmProjects/Local_IMD/venv/lib/python3.9/site-packages (from imbalanced-learn->imblearn) (1.2.0)\r\n"
     ]
    }
   ],
   "source": [
    "import time\n",
    "!pip install scipy\n",
    "!pip install -U scikit-learn\n",
    "!pip install wittgenstein\n",
    "!pip install sklearn-evaluation\n",
    "!pip install seaborn\n",
    "!pip install imblearn"
   ],
   "metadata": {
    "collapsed": false
   }
  },
  {
   "cell_type": "code",
   "execution_count": 3,
   "outputs": [],
   "source": [
    "from scipy.io import arff\n",
    "import pandas as pd\n",
    "from imblearn.metrics import geometric_mean_score\n",
    "import numpy as np\n",
    "import matplotlib.pyplot as plt\n",
    "from sklearn import tree, svm, neighbors\n",
    "from sklearn.model_selection import StratifiedKFold, KFold\n",
    "from sklearn.model_selection import GridSearchCV, StratifiedShuffleSplit\n",
    "from sklearn.metrics import f1_score\n",
    "\n",
    "data = arff.loadarff('ionosphere.arff')\n",
    "df_iono = pd.DataFrame(data[0])\n",
    "\n",
    "data = arff.loadarff('diabetes.arff')\n",
    "df_diabe = pd.DataFrame(data[0])\n",
    "\n",
    "data = arff.loadarff('vehicle.arff')\n",
    "df_Vehicle = pd.DataFrame(data[0])\n",
    "\n",
    "data = arff.loadarff('vowel.arff')\n",
    "df_vowel = pd.DataFrame(data[0])\n",
    "\n",
    "data = arff.loadarff('tae.arff')\n",
    "df_tae = pd.DataFrame(data[0])\n",
    "\n",
    "data = arff.loadarff('sonar.arff')\n",
    "df_sonar = pd.DataFrame(data[0])\n",
    "\n",
    "data = arff.loadarff('spambase.arff')\n",
    "df_spambase = pd.DataFrame(data[0])\n",
    "\n",
    "data = arff.loadarff('page_blocks.arff')\n",
    "df_page = pd.DataFrame(data[0])\n",
    "\n",
    "data = arff.loadarff('iris.arff')\n",
    "df_iris = pd.DataFrame(data[0])\n",
    "\n",
    "data = arff.loadarff('letter.arff')\n",
    "df_letter = pd.DataFrame(data[0])\n",
    "# Changing the last categorical class value into a numerical value\n",
    "df_iono['class'] = pd.factorize(df_iono['class'])[0]\n",
    "df_iono.head()\n",
    "# Changing the last categorical class value into a numerical value\n",
    "df_diabe['class'] = pd.factorize(df_diabe['class'])[0]\n",
    "df_diabe.head()\n",
    "# Changing the last categorical class value into a numerical value\n",
    "df_Vehicle['Class'] = pd.factorize(df_Vehicle['Class'])[0]\n",
    "df_Vehicle.head()\n",
    "# Changing the last categorical class value into a numerical value\n",
    "df_vowel['Class'] = pd.factorize(df_vowel['Class'])[0]\n",
    "df_vowel.head()\n",
    "# Changing the last categorical class value into a numerical value\n",
    "df_tae['Class_attribute'] = pd.factorize(df_tae['Class_attribute'])[0]\n",
    "df_tae.head()\n",
    "# Changing the last categorical class value into a numerical value\n",
    "df_sonar['Class'] = pd.factorize(df_sonar['Class'])[0]\n",
    "df_sonar.head()\n",
    "# Changing the last categorical class value into a numerical value\n",
    "df_spambase['class'] = pd.factorize(df_spambase['class'])[0]\n",
    "df_spambase.head()\n",
    "# Changing the last categorical class value into a numerical value\n",
    "df_page['Class'] = pd.factorize(df_page['Class'])[0]\n",
    "df_page.head()\n",
    "# Changing the last categorical class value into a numerical value\n",
    "df_iris['class'] = pd.factorize(df_iris['class'])[0]\n",
    "df_iris.head()\n",
    "# Changing the last categorical class value into a numerical value\n",
    "df_letter['class'] = pd.factorize(df_letter['class'])[0]"
   ],
   "metadata": {
    "collapsed": false
   }
  },
  {
   "cell_type": "code",
   "execution_count": 4,
   "outputs": [],
   "source": [
    "from sklearn.model_selection import KFold\n",
    "from sklearn.tree import DecisionTreeClassifier\n",
    "\n",
    "def make_10_fold_decision_tree(x, y, current_table, dataset_str):\n",
    "    kf = KFold(n_splits=10)\n",
    "\n",
    "    mean_f1 = []\n",
    "    mean_of_geometric_mean = []\n",
    "\n",
    "    for i, (train_index, test_index) in enumerate(kf.split(x, y)):\n",
    "        train_x, test_x = x[train_index], x[test_index]\n",
    "        train_y, test_y = y[train_index], y[test_index]\n",
    "\n",
    "        clf = DecisionTreeClassifier(random_state=0)\n",
    "        clf.fit(train_x, train_y)\n",
    "\n",
    "        pred_y = clf.predict(test_x)\n",
    "        mean_f1.append(f1_score(test_y, pred_y, average=\"micro\"))\n",
    "        mean_of_geometric_mean.append(geometric_mean_score(test_y, pred_y, average=\"micro\"))\n",
    "\n",
    "    current_table[dataset_str][0] = np.mean(mean_f1)\n",
    "    current_table[dataset_str][1] = np.mean(mean_of_geometric_mean)"
   ],
   "metadata": {
    "collapsed": false
   }
  },
  {
   "cell_type": "code",
   "execution_count": 5,
   "outputs": [],
   "source": [
    "tree_table = {\n",
    "    \"Ionosphere\": [0, 0],\n",
    "    \"Diabetes\": [0, 0],\n",
    "    \"Vehicle\": [0, 0],\n",
    "    \"Vowel\": [0, 0],\n",
    "    \"Tae\": [0, 0],\n",
    "    \"Sonar\": [0, 0],\n",
    "    \"Spambase\": [0, 0],\n",
    "    \"Page blocks\": [0, 0],\n",
    "    \"Iris\": [0, 0],\n",
    "    \"Letter\": [0, 0]\n",
    "}"
   ],
   "metadata": {
    "collapsed": false
   }
  },
  {
   "cell_type": "code",
   "execution_count": 6,
   "outputs": [
    {
     "name": "stderr",
     "output_type": "stream",
     "text": [
      "/home/ricardo/PycharmProjects/Local_IMD/venv/lib/python3.9/site-packages/sklearn/metrics/_classification.py:1344: UndefinedMetricWarning: Specificity is ill-defined and being set to 0.0 due to no predicted samples. Use `zero_division` parameter to control this behavior.\n",
      "  _warn_prf(average, modifier, msg_start, len(result))\n",
      "/home/ricardo/PycharmProjects/Local_IMD/venv/lib/python3.9/site-packages/sklearn/metrics/_classification.py:1344: UndefinedMetricWarning: Specificity is ill-defined and being set to 0.0 due to no predicted samples. Use `zero_division` parameter to control this behavior.\n",
      "  _warn_prf(average, modifier, msg_start, len(result))\n",
      "/home/ricardo/PycharmProjects/Local_IMD/venv/lib/python3.9/site-packages/sklearn/metrics/_classification.py:1344: UndefinedMetricWarning: Specificity is ill-defined and being set to 0.0 due to no predicted samples. Use `zero_division` parameter to control this behavior.\n",
      "  _warn_prf(average, modifier, msg_start, len(result))\n"
     ]
    },
    {
     "name": "stdout",
     "output_type": "stream",
     "text": [
      "            F1-score  Geometric mean\n",
      "Ionosphere  0.880397        0.880397\n",
      "Diabetes    0.700513        0.700513\n",
      "Vehicle     0.933824        0.933824\n",
      "Vowel       0.954504        0.954504\n",
      "Tae         0.508333        0.606314\n",
      "\\begin{tabular}{lrr}\n",
      "\\toprule\n",
      "{} &  F1-score &  Geometric mean \\\\\n",
      "\\midrule\n",
      "Ionosphere  &  0.880397 &        0.880397 \\\\\n",
      "Diabetes    &  0.700513 &        0.700513 \\\\\n",
      "Vehicle     &  0.933824 &        0.933824 \\\\\n",
      "Vowel       &  0.954504 &        0.954504 \\\\\n",
      "Tae         &  0.508333 &        0.606314 \\\\\n",
      "Sonar       &  0.501667 &        0.501667 \\\\\n",
      "Spambase    &  0.865043 &        0.865043 \\\\\n",
      "Page blocks &  0.955411 &        0.955411 \\\\\n",
      "Iris        &  0.906667 &        0.608319 \\\\\n",
      "Letter      &  0.875900 &        0.933563 \\\\\n",
      "\\bottomrule\n",
      "\\end{tabular}\n",
      "\n"
     ]
    }
   ],
   "source": [
    "make_10_fold_decision_tree(df_diabe.iloc[:, 0:-2].values, df_diabe.iloc[:, -1].values, tree_table, \"Diabetes\")\n",
    "make_10_fold_decision_tree(df_iris.iloc[:, 0:-2].values, df_iris.iloc[:, -1].values, tree_table, \"Iris\")\n",
    "make_10_fold_decision_tree(df_iono.iloc[:, 0:-2].values, df_iono.iloc[:, -1].values, tree_table, \"Ionosphere\")\n",
    "make_10_fold_decision_tree(df_Vehicle.iloc[:, 0:-2].values, df_Vehicle.iloc[:, -1].values, tree_table, \"Vehicle\")\n",
    "make_10_fold_decision_tree(df_vowel.iloc[:, 0:-2].values, df_vowel.iloc[:, -1].values, tree_table, \"Vowel\")\n",
    "make_10_fold_decision_tree(df_tae.iloc[:, 0:-2].values, df_tae.iloc[:, -1].values, tree_table, \"Tae\")\n",
    "make_10_fold_decision_tree(df_sonar.iloc[:, 0:-2].values, df_sonar.iloc[:, -1].values, tree_table, \"Sonar\")\n",
    "make_10_fold_decision_tree(df_spambase.iloc[:, 0:-2].values, df_spambase.iloc[:, -1].values, tree_table, \"Spambase\")\n",
    "make_10_fold_decision_tree(df_page.iloc[:, 0:-2].values, df_page.iloc[:, -1].values, tree_table, \"Page blocks\")\n",
    "make_10_fold_decision_tree(df_letter.iloc[:, 0:-2].values, df_letter.iloc[:, -1].values, tree_table, \"Letter\")\n",
    "\n",
    "print(pd.DataFrame(tree_table).transpose().rename(columns = {0: \"F1-score\", 1: \"Geometric mean\"}).head())\n",
    "print(pd.DataFrame(tree_table).transpose().rename(columns = {0: \"F1-score\", 1: \"Geometric mean\"}).to_latex())"
   ],
   "metadata": {
    "collapsed": false
   }
  },
  {
   "cell_type": "code",
   "execution_count": 7,
   "outputs": [],
   "source": [
    "from sklearn.model_selection import KFold\n",
    "from sklearn.svm import SVC\n",
    "\n",
    "def make_10_fold_svm(x, y, current_table, dataset_str):\n",
    "    kf = KFold(n_splits=10)\n",
    "\n",
    "    mean_f1 = []\n",
    "    mean_of_geometric_mean = []\n",
    "\n",
    "    for i, (train_index, test_index) in enumerate(kf.split(x, y)):\n",
    "        train_x, test_x = x[train_index], x[test_index]\n",
    "        train_y, test_y = y[train_index], y[test_index]\n",
    "\n",
    "        clf = SVC(random_state=0)\n",
    "        clf.fit(train_x, train_y)\n",
    "\n",
    "        pred_y = clf.predict(test_x)\n",
    "        mean_f1.append(f1_score(test_y, pred_y, average=\"micro\"))\n",
    "        mean_of_geometric_mean.append(geometric_mean_score(test_y, pred_y, average=\"micro\"))\n",
    "\n",
    "    current_table[dataset_str][0] = np.mean(mean_f1)\n",
    "    current_table[dataset_str][1] = np.mean(mean_of_geometric_mean)"
   ],
   "metadata": {
    "collapsed": false
   }
  },
  {
   "cell_type": "code",
   "execution_count": 8,
   "outputs": [],
   "source": [
    "svm_table = {\n",
    "    \"Ionosphere\": [0, 0],\n",
    "    \"Diabetes\": [0, 0],\n",
    "    \"Vehicle\": [0, 0],\n",
    "    \"Vowel\": [0, 0],\n",
    "    \"Tae\": [0, 0],\n",
    "    \"Sonar\": [0, 0],\n",
    "    \"Spambase\": [0, 0],\n",
    "    \"Page blocks\": [0, 0],\n",
    "    \"Iris\": [0, 0],\n",
    "    \"Letter\": [0, 0]\n",
    "}"
   ],
   "metadata": {
    "collapsed": false
   }
  },
  {
   "cell_type": "code",
   "execution_count": 9,
   "outputs": [
    {
     "name": "stderr",
     "output_type": "stream",
     "text": [
      "/home/ricardo/PycharmProjects/Local_IMD/venv/lib/python3.9/site-packages/sklearn/metrics/_classification.py:1344: UndefinedMetricWarning: Specificity is ill-defined and being set to 0.0 due to no predicted samples. Use `zero_division` parameter to control this behavior.\n",
      "  _warn_prf(average, modifier, msg_start, len(result))\n",
      "/home/ricardo/PycharmProjects/Local_IMD/venv/lib/python3.9/site-packages/sklearn/metrics/_classification.py:1344: UndefinedMetricWarning: Specificity is ill-defined and being set to 0.0 due to no predicted samples. Use `zero_division` parameter to control this behavior.\n",
      "  _warn_prf(average, modifier, msg_start, len(result))\n",
      "/home/ricardo/PycharmProjects/Local_IMD/venv/lib/python3.9/site-packages/sklearn/metrics/_classification.py:1344: UndefinedMetricWarning: Specificity is ill-defined and being set to 0.0 due to no predicted samples. Use `zero_division` parameter to control this behavior.\n",
      "  _warn_prf(average, modifier, msg_start, len(result))\n",
      "/home/ricardo/PycharmProjects/Local_IMD/venv/lib/python3.9/site-packages/sklearn/metrics/_classification.py:1344: UndefinedMetricWarning: Specificity is ill-defined and being set to 0.0 due to no predicted samples. Use `zero_division` parameter to control this behavior.\n",
      "  _warn_prf(average, modifier, msg_start, len(result))\n"
     ]
    },
    {
     "name": "stdout",
     "output_type": "stream",
     "text": [
      "{'Ionosphere': [0.9373809523809523, 0.9373809523809523], 'Diabetes': [0.7603896103896104, 0.7603896103896105], 'Vehicle': [0.7956022408963586, 0.7956022408963586], 'Vowel': [0.9484023912595341, 0.9484023912595341], 'Tae': [0.18583333333333335, 0.29361698304352923], 'Sonar': [0.45285714285714285, 0.45285714285714285], 'Spambase': [0.7129524662831275, 0.7129524662831275], 'Page blocks': [0.9022438249776485, 0.8022438249776485], 'Iris': [0.9, 0.6016520456585], 'Letter': [0.9105000000000001, 0.9524854243963723]}\n",
      "            F1-score  Geometric mean\n",
      "Ionosphere  0.937381        0.937381\n",
      "Diabetes    0.760390        0.760390\n",
      "Vehicle     0.795602        0.795602\n",
      "Vowel       0.948402        0.948402\n",
      "Tae         0.185833        0.293617\n",
      "\\begin{tabular}{lrr}\n",
      "\\toprule\n",
      "{} &  F1-score &  Geometric mean \\\\\n",
      "\\midrule\n",
      "Ionosphere  &  0.937381 &        0.937381 \\\\\n",
      "Diabetes    &  0.760390 &        0.760390 \\\\\n",
      "Vehicle     &  0.795602 &        0.795602 \\\\\n",
      "Vowel       &  0.948402 &        0.948402 \\\\\n",
      "Tae         &  0.185833 &        0.293617 \\\\\n",
      "Sonar       &  0.452857 &        0.452857 \\\\\n",
      "Spambase    &  0.712952 &        0.712952 \\\\\n",
      "Page blocks &  0.902244 &        0.802244 \\\\\n",
      "Iris        &  0.900000 &        0.601652 \\\\\n",
      "Letter      &  0.910500 &        0.952485 \\\\\n",
      "\\bottomrule\n",
      "\\end{tabular}\n",
      "\n"
     ]
    }
   ],
   "source": [
    "make_10_fold_svm(df_diabe.iloc[:, 0:-2].values, df_diabe.iloc[:, -1].values, svm_table, \"Diabetes\")\n",
    "make_10_fold_svm(df_iris.iloc[:, 0:-2].values, df_iris.iloc[:, -1].values, svm_table, \"Iris\")\n",
    "make_10_fold_svm(df_iono.iloc[:, 0:-2].values, df_iono.iloc[:, -1].values, svm_table, \"Ionosphere\")\n",
    "make_10_fold_svm(df_Vehicle.iloc[:, 0:-2].values, df_Vehicle.iloc[:, -1].values, svm_table, \"Vehicle\")\n",
    "make_10_fold_svm(df_vowel.iloc[:, 0:-2].values, df_vowel.iloc[:, -1].values, svm_table, \"Vowel\")\n",
    "make_10_fold_svm(df_tae.iloc[:, 0:-2].values, df_tae.iloc[:, -1].values, svm_table, \"Tae\")\n",
    "make_10_fold_svm(df_sonar.iloc[:, 0:-2].values, df_sonar.iloc[:, -1].values, svm_table, \"Sonar\")\n",
    "make_10_fold_svm(df_spambase.iloc[:, 0:-2].values, df_spambase.iloc[:, -1].values, svm_table, \"Spambase\")\n",
    "make_10_fold_svm(df_page.iloc[:, 0:-2].values, df_page.iloc[:, -1].values, svm_table, \"Page blocks\")\n",
    "make_10_fold_svm(df_letter.iloc[:, 0:-2].values, df_letter.iloc[:, -1].values, svm_table, \"Letter\")\n",
    "\n",
    "print(svm_table)\n",
    "print(pd.DataFrame(svm_table).transpose().rename(columns = {0: \"F1-score\", 1: \"Geometric mean\"}).head())\n",
    "print(pd.DataFrame(svm_table).transpose().rename(columns = {0: \"F1-score\", 1: \"Geometric mean\"}).to_latex())"
   ],
   "metadata": {
    "collapsed": false
   }
  },
  {
   "cell_type": "code",
   "execution_count": 10,
   "outputs": [],
   "source": [
    "from sklearn.model_selection import KFold\n",
    "from sklearn.neighbors import KNeighborsClassifier\n",
    "\n",
    "def make_10_fold_knn(x, y, current_table, dataset_str):\n",
    "    kf = KFold(n_splits=10)\n",
    "\n",
    "    mean_f1 = []\n",
    "    mean_of_geometric_mean = []\n",
    "\n",
    "    for i, (train_index, test_index) in enumerate(kf.split(x, y)):\n",
    "        train_x, test_x = x[train_index], x[test_index]\n",
    "        train_y, test_y = y[train_index], y[test_index]\n",
    "\n",
    "        clf = KNeighborsClassifier(n_neighbors=5)\n",
    "        clf.fit(train_x, train_y)\n",
    "\n",
    "        pred_y = clf.predict(test_x)\n",
    "        mean_f1.append(f1_score(test_y, pred_y, average=\"micro\"))\n",
    "        mean_of_geometric_mean.append(geometric_mean_score(test_y, pred_y, average=\"micro\"))\n",
    "\n",
    "    current_table[dataset_str][0] = np.mean(mean_f1)\n",
    "    current_table[dataset_str][1] = np.mean(mean_of_geometric_mean)"
   ],
   "metadata": {
    "collapsed": false
   }
  },
  {
   "cell_type": "code",
   "execution_count": 11,
   "outputs": [],
   "source": [
    "knn_table = {\n",
    "    # ROW\n",
    "    \"Ionosphere\": [0, 0], # COL\n",
    "    \"Diabetes\": [0, 0],\n",
    "    \"Vehicle\": [0, 0],\n",
    "    \"Vowel\": [0, 0],\n",
    "    \"Tae\": [0, 0],\n",
    "    \"Sonar\": [0, 0],\n",
    "    \"Spambase\": [0, 0],\n",
    "    \"Page blocks\": [0, 0],\n",
    "    \"Iris\": [0, 0],\n",
    "    \"Letter\": [0, 0]\n",
    "}"
   ],
   "metadata": {
    "collapsed": false
   }
  },
  {
   "cell_type": "code",
   "execution_count": 12,
   "outputs": [
    {
     "name": "stderr",
     "output_type": "stream",
     "text": [
      "/home/ricardo/PycharmProjects/Local_IMD/venv/lib/python3.9/site-packages/sklearn/metrics/_classification.py:1344: UndefinedMetricWarning: Specificity is ill-defined and being set to 0.0 due to no predicted samples. Use `zero_division` parameter to control this behavior.\n",
      "  _warn_prf(average, modifier, msg_start, len(result))\n",
      "/home/ricardo/PycharmProjects/Local_IMD/venv/lib/python3.9/site-packages/sklearn/metrics/_classification.py:1344: UndefinedMetricWarning: Specificity is ill-defined and being set to 0.0 due to no predicted samples. Use `zero_division` parameter to control this behavior.\n",
      "  _warn_prf(average, modifier, msg_start, len(result))\n",
      "/home/ricardo/PycharmProjects/Local_IMD/venv/lib/python3.9/site-packages/sklearn/metrics/_classification.py:1344: UndefinedMetricWarning: Specificity is ill-defined and being set to 0.0 due to no predicted samples. Use `zero_division` parameter to control this behavior.\n",
      "  _warn_prf(average, modifier, msg_start, len(result))\n"
     ]
    },
    {
     "name": "stdout",
     "output_type": "stream",
     "text": [
      "            F1-score  Geometric mean\n",
      "Ionosphere  0.829286        0.829286\n",
      "Diabetes    0.709569        0.709569\n",
      "Vehicle     0.933852        0.933852\n",
      "Vowel       0.955525        0.955525\n",
      "Tae         0.449167        0.563544\n",
      "\\begin{tabular}{lrr}\n",
      "\\toprule\n",
      "{} &  F1-score &  Geometric mean \\\\\n",
      "\\midrule\n",
      "Ionosphere  &  0.829286 &        0.829286 \\\\\n",
      "Diabetes    &  0.709569 &        0.709569 \\\\\n",
      "Vehicle     &  0.933852 &        0.933852 \\\\\n",
      "Vowel       &  0.955525 &        0.955525 \\\\\n",
      "Tae         &  0.449167 &        0.563544 \\\\\n",
      "Sonar       &  0.403571 &        0.403571 \\\\\n",
      "Spambase    &  0.849614 &        0.849614 \\\\\n",
      "Page blocks &  0.953399 &        0.953399 \\\\\n",
      "Iris        &  0.906667 &        0.606667 \\\\\n",
      "Letter      &  0.945350 &        0.971226 \\\\\n",
      "\\bottomrule\n",
      "\\end{tabular}\n",
      "\n"
     ]
    }
   ],
   "source": [
    "make_10_fold_knn(df_diabe.iloc[:, 0:-2].values, df_diabe.iloc[:, -1].values, knn_table, \"Diabetes\")\n",
    "make_10_fold_knn(df_iris.iloc[:, 0:-2].values, df_iris.iloc[:, -1].values, knn_table, \"Iris\")\n",
    "make_10_fold_knn(df_iono.iloc[:, 0:-2].values, df_iono.iloc[:, -1].values, knn_table, \"Ionosphere\")\n",
    "make_10_fold_knn(df_Vehicle.iloc[:, 0:-2].values, df_Vehicle.iloc[:, -1].values, knn_table, \"Vehicle\")\n",
    "make_10_fold_knn(df_vowel.iloc[:, 0:-2].values, df_vowel.iloc[:, -1].values, knn_table, \"Vowel\")\n",
    "make_10_fold_knn(df_tae.iloc[:, 0:-2].values, df_tae.iloc[:, -1].values, knn_table, \"Tae\")\n",
    "make_10_fold_knn(df_sonar.iloc[:, 0:-2].values, df_sonar.iloc[:, -1].values, knn_table, \"Sonar\")\n",
    "make_10_fold_knn(df_spambase.iloc[:, 0:-2].values, df_spambase.iloc[:, -1].values, knn_table, \"Spambase\")\n",
    "make_10_fold_knn(df_page.iloc[:, 0:-2].values, df_page.iloc[:, -1].values, knn_table, \"Page blocks\")\n",
    "make_10_fold_knn(df_letter.iloc[:, 0:-2].values, df_letter.iloc[:, -1].values, knn_table, \"Letter\")\n",
    "\n",
    "print(pd.DataFrame(knn_table).transpose().rename(columns = {0: \"F1-score\", 1: \"Geometric mean\"}).head())\n",
    "print(pd.DataFrame(knn_table).transpose().rename(columns = {0: \"F1-score\", 1: \"Geometric mean\"}).to_latex())"
   ],
   "metadata": {
    "collapsed": false
   }
  },
  {
   "cell_type": "code",
   "execution_count": 13,
   "outputs": [
    {
     "name": "stdout",
     "output_type": "stream",
     "text": [
      "Tree VS SVM\n",
      "0.275390625\n",
      "0.193359375\n"
     ]
    }
   ],
   "source": [
    "from scipy.stats import wilcoxon\n",
    "\n",
    "df_knn = pd.DataFrame(knn_table).transpose().rename(columns = {0: \"F1-score\", 1: \"Geometric mean\"})\n",
    "df_svm = pd.DataFrame(svm_table).transpose().rename(columns = {0: \"F1-score\", 1: \"Geometric mean\"})\n",
    "df_tree = pd.DataFrame(tree_table).transpose().rename(columns = {0: \"F1-score\", 1: \"Geometric mean\"})\n",
    "\n",
    "diff_f1 = df_tree['F1-score'] - df_svm['F1-score']\n",
    "diff_gmean = df_tree['Geometric mean'] - df_svm['Geometric mean']\n",
    "\n",
    "print(\"Tree VS SVM\")\n",
    "\n",
    "# Compute the Wilcoxon test\n",
    "_, p = wilcoxon(diff_f1)\n",
    "\n",
    "print(p)\n",
    "\n",
    "# Compute the Wilcoxon test\n",
    "_, p = wilcoxon(diff_gmean)\n",
    "\n",
    "print(p)"
   ],
   "metadata": {
    "collapsed": false
   }
  },
  {
   "cell_type": "code",
   "execution_count": 14,
   "outputs": [
    {
     "name": "stdout",
     "output_type": "stream",
     "text": [
      "Tree VS KNN\n",
      "0.3742593192802244\n",
      "0.232421875\n"
     ]
    },
    {
     "name": "stderr",
     "output_type": "stream",
     "text": [
      "/home/ricardo/PycharmProjects/Local_IMD/venv/lib/python3.9/site-packages/scipy/stats/_morestats.py:3337: UserWarning: Exact p-value calculation does not work if there are zeros. Switching to normal approximation.\n",
      "  warnings.warn(\"Exact p-value calculation does not work if there are \"\n",
      "/home/ricardo/PycharmProjects/Local_IMD/venv/lib/python3.9/site-packages/scipy/stats/_morestats.py:3351: UserWarning: Sample size too small for normal approximation.\n",
      "  warnings.warn(\"Sample size too small for normal approximation.\")\n"
     ]
    }
   ],
   "source": [
    "from scipy.stats import wilcoxon\n",
    "\n",
    "df_knn = pd.DataFrame(knn_table).transpose().rename(columns = {0: \"F1-score\", 1: \"Geometric mean\"})\n",
    "df_svm = pd.DataFrame(svm_table).transpose().rename(columns = {0: \"F1-score\", 1: \"Geometric mean\"})\n",
    "df_tree = pd.DataFrame(tree_table).transpose().rename(columns = {0: \"F1-score\", 1: \"Geometric mean\"})\n",
    "\n",
    "diff_f1 = df_tree['F1-score'] - df_knn['F1-score']\n",
    "diff_gmean = df_tree['Geometric mean'] - df_knn['Geometric mean']\n",
    "\n",
    "print(\"Tree VS KNN\")\n",
    "\n",
    "# Compute the Wilcoxon test\n",
    "_, p = wilcoxon(diff_f1)\n",
    "\n",
    "print(p)\n",
    "\n",
    "# Compute the Wilcoxon test\n",
    "_, p = wilcoxon(diff_gmean)\n",
    "\n",
    "print(p)"
   ],
   "metadata": {
    "collapsed": false
   }
  },
  {
   "cell_type": "code",
   "execution_count": 15,
   "outputs": [
    {
     "name": "stdout",
     "output_type": "stream",
     "text": [
      "SVM vs KNN\n",
      "0.275390625\n",
      "0.232421875\n"
     ]
    }
   ],
   "source": [
    "from scipy.stats import wilcoxon\n",
    "\n",
    "df_knn = pd.DataFrame(knn_table).transpose().rename(columns = {0: \"F1-score\", 1: \"Geometric mean\"})\n",
    "df_svm = pd.DataFrame(svm_table).transpose().rename(columns = {0: \"F1-score\", 1: \"Geometric mean\"})\n",
    "df_tree = pd.DataFrame(tree_table).transpose().rename(columns = {0: \"F1-score\", 1: \"Geometric mean\"})\n",
    "\n",
    "diff_f1 = df_svm['F1-score'] - df_knn['F1-score']\n",
    "diff_gmean = df_svm['Geometric mean'] - df_knn['Geometric mean']\n",
    "\n",
    "print(\"SVM vs KNN\")\n",
    "\n",
    "# Compute the Wilcoxon test\n",
    "_, p = wilcoxon(diff_f1)\n",
    "\n",
    "print(p)\n",
    "\n",
    "# Compute the Wilcoxon test\n",
    "_, p = wilcoxon(diff_gmean)\n",
    "\n",
    "print(p)"
   ],
   "metadata": {
    "collapsed": false
   }
  },
  {
   "cell_type": "code",
   "execution_count": 16,
   "outputs": [
    {
     "name": "stdout",
     "output_type": "stream",
     "text": [
      "FriedmanchisquareResult(statistic=2.512820512820516, pvalue=0.28467410153159334)\n"
     ]
    }
   ],
   "source": [
    "from scipy.stats import friedmanchisquare\n",
    "\n",
    "friedman_test = friedmanchisquare(df_tree['F1-score'], df_svm['F1-score'], df_knn['F1-score'])\n",
    "\n",
    "print(friedman_test)"
   ],
   "metadata": {
    "collapsed": false
   }
  },
  {
   "cell_type": "code",
   "execution_count": 17,
   "outputs": [
    {
     "name": "stdout",
     "output_type": "stream",
     "text": [
      "             SVM  KNN  Tree\n",
      "Ionosphere   3.0  1.0   2.0\n",
      "Diabetes     3.0  2.0   1.0\n",
      "Vehicle      1.0  3.0   2.0\n",
      "Vowel        1.0  3.0   2.0\n",
      "Tae          1.0  2.0   3.0\n",
      "Sonar        2.0  1.0   3.0\n",
      "Spambase     1.0  2.0   3.0\n",
      "Page blocks  1.0  2.0   3.0\n",
      "Iris         1.0  2.5   2.5\n",
      "Letter       2.0  3.0   1.0\n",
      "\\begin{tabular}{lrrr}\n",
      "\\toprule\n",
      "{} &  SVM &  KNN &  Tree \\\\\n",
      "\\midrule\n",
      "Ionosphere  &  3.0 &  1.0 &   2.0 \\\\\n",
      "Diabetes    &  3.0 &  2.0 &   1.0 \\\\\n",
      "Vehicle     &  1.0 &  3.0 &   2.0 \\\\\n",
      "Vowel       &  1.0 &  3.0 &   2.0 \\\\\n",
      "Tae         &  1.0 &  2.0 &   3.0 \\\\\n",
      "Sonar       &  2.0 &  1.0 &   3.0 \\\\\n",
      "Spambase    &  1.0 &  2.0 &   3.0 \\\\\n",
      "Page blocks &  1.0 &  2.0 &   3.0 \\\\\n",
      "Iris        &  1.0 &  2.5 &   2.5 \\\\\n",
      "Letter      &  2.0 &  3.0 &   1.0 \\\\\n",
      "\\bottomrule\n",
      "\\end{tabular}\n",
      "\n"
     ]
    }
   ],
   "source": [
    "#print(f\"SVM ------> \\n{df_svm['F1-score'].head(n=10)}\")\n",
    "#print(f\"KNN ------> \\n{df_knn['F1-score'].head(n=10)}\")\n",
    "#print(f\"TREE ------> \\n{df_tree['F1-score'].head(n=10)}\")\n",
    "from scipy.stats import rankdata\n",
    "\n",
    "ranks = {\n",
    "    \"Ionosphere\": [0, 0, 0], # COL\n",
    "    \"Diabetes\": [0, 0, 0], # COL\n",
    "    \"Vehicle\": [0, 0, 0], # COL\n",
    "    \"Vowel\": [0, 0, 0], # COL\n",
    "    \"Tae\": [0, 0, 0], # COL\n",
    "    \"Sonar\": [0, 0, 0], # COL\n",
    "    \"Spambase\": [0, 0, 0], # COL\n",
    "    \"Page blocks\": [0, 0, 0], # COL\n",
    "    \"Iris\": [0, 0, 0], # COL\n",
    "    \"Letter\": [0, 0, 0], # COL\n",
    "}\n",
    "\n",
    "for index, (current_svm_value, current_knn_value, current_tree_value) in enumerate(zip(df_svm[\"F1-score\"].values, df_knn[\"F1-score\"].values, df_tree[\"F1-score\"].values)):\n",
    "\n",
    "    current_values = [current_svm_value, current_knn_value, current_tree_value]\n",
    "    current_ranking = rankdata(current_values)\n",
    "\n",
    "    ranks[list(ranks.keys())[index]] = current_ranking\n",
    "\n",
    "print(pd.DataFrame(ranks).transpose().rename(columns={0: \"SVM\", 1: \"KNN\", 2: \"Tree\"}).head(n=10))\n",
    "print(pd.DataFrame(ranks).transpose().rename(columns={0: \"SVM\", 1: \"KNN\", 2: \"Tree\"}).to_latex())\n",
    "\n",
    "df_ranks = pd.DataFrame(ranks).transpose().rename(columns={0: \"SVM\", 1: \"KNN\", 2: \"Tree\"})"
   ],
   "metadata": {
    "collapsed": false
   }
  },
  {
   "cell_type": "code",
   "execution_count": 18,
   "outputs": [
    {
     "name": "stdout",
     "output_type": "stream",
     "text": [
      "['Ionosphere' 'Diabetes' 'Vehicle' 'Vowel' 'Tae' 'Sonar' 'Spambase'\n",
      " 'Page blocks' 'Iris' 'Letter']\n"
     ]
    },
    {
     "data": {
      "text/plain": "<Figure size 1000x600 with 1 Axes>",
      "image/png": "[encoded data removed]"
     },
     "metadata": {},
     "output_type": "display_data"
    }
   ],
   "source": [
    "import seaborn as sns\n",
    "\n",
    "print(df_ranks.index.values)\n",
    "\n",
    "fig, ax = plt.subplots(figsize=(10, 6))\n",
    "\n",
    "ax_1 = sns.barplot(data=df_ranks, x=df_ranks.index.values, y=\"KNN\")\n",
    "ax_2 = sns.barplot(data=df_ranks, x=df_ranks.index.values, y=\"SVM\")\n",
    "ax_3 = sns.barplot(data=df_ranks, x=df_ranks.index.values, y=\"Tree\")\n",
    "plt.show()"
   ],
   "metadata": {
    "collapsed": false
   }
  },
  {
   "cell_type": "code",
   "execution_count": 19,
   "outputs": [
    {
     "data": {
      "text/plain": "<Figure size 1200x800 with 1 Axes>",
      "image/png": "[encoded data removed]"
     },
     "metadata": {},
     "output_type": "display_data"
    }
   ],
   "source": [
    "import numpy as np\n",
    "import matplotlib.pyplot as plt\n",
    "\n",
    "# set width of bar\n",
    "barWidth = 0.25\n",
    "fig = plt.subplots(figsize =(12, 8))\n",
    "\n",
    "# set height of bar\n",
    "IT = df_ranks['SVM'].values\n",
    "ECE = df_ranks['KNN'].values\n",
    "CSE = df_ranks['Tree'].values\n",
    "\n",
    "# Set position of bar on X axis\n",
    "br1 = np.arange(len(IT))\n",
    "br2 = [x + barWidth for x in br1]\n",
    "br3 = [x + barWidth for x in br2]\n",
    "\n",
    "# Make the plot\n",
    "plt.bar(br1, IT, color ='r', width = barWidth,\n",
    "\t\tedgecolor ='grey', label ='SVM')\n",
    "plt.bar(br2, ECE, color ='g', width = barWidth,\n",
    "\t\tedgecolor ='grey', label ='KNN')\n",
    "plt.bar(br3, CSE, color ='b', width = barWidth,\n",
    "\t\tedgecolor ='grey', label ='Tree')\n",
    "\n",
    "# Adding Xticks\n",
    "plt.xlabel('Datasets', fontweight ='bold', fontsize = 15)\n",
    "plt.ylabel('Ranking', fontweight ='bold', fontsize = 15)\n",
    "plt.xticks([r + barWidth for r in range(len(IT))],\n",
    "\t\tdf_ranks.index.values)\n",
    "\n",
    "plt.legend()\n",
    "plt.show()"
   ],
   "metadata": {
    "collapsed": false
   }
  },
  {
   "cell_type": "code",
   "execution_count": 20,
   "outputs": [
    {
     "name": "stdout",
     "output_type": "stream",
     "text": [
      "             SVM  KNN  Tree\n",
      "Ionosphere   3.0  1.0   2.0\n",
      "Diabetes     3.0  2.0   1.0\n",
      "Vehicle      1.0  3.0   2.0\n",
      "Vowel        1.0  3.0   2.0\n",
      "Tae          1.0  2.0   3.0\n",
      "Sonar        2.0  1.0   3.0\n",
      "Spambase     1.0  2.0   3.0\n",
      "Page blocks  1.0  2.0   3.0\n",
      "Iris         1.0  2.0   3.0\n",
      "Letter       2.0  3.0   1.0\n",
      "\\begin{tabular}{lrrr}\n",
      "\\toprule\n",
      "{} &  SVM &  KNN &  Tree \\\\\n",
      "\\midrule\n",
      "Ionosphere  &  3.0 &  1.0 &   2.0 \\\\\n",
      "Diabetes    &  3.0 &  2.0 &   1.0 \\\\\n",
      "Vehicle     &  1.0 &  3.0 &   2.0 \\\\\n",
      "Vowel       &  1.0 &  3.0 &   2.0 \\\\\n",
      "Tae         &  1.0 &  2.0 &   3.0 \\\\\n",
      "Sonar       &  2.0 &  1.0 &   3.0 \\\\\n",
      "Spambase    &  1.0 &  2.0 &   3.0 \\\\\n",
      "Page blocks &  1.0 &  2.0 &   3.0 \\\\\n",
      "Iris        &  1.0 &  2.0 &   3.0 \\\\\n",
      "Letter      &  2.0 &  3.0 &   1.0 \\\\\n",
      "\\bottomrule\n",
      "\\end{tabular}\n",
      "\n"
     ]
    }
   ],
   "source": [
    "#print(f\"SVM ------> \\n{df_svm['F1-score'].head(n=10)}\")\n",
    "#print(f\"KNN ------> \\n{df_knn['F1-score'].head(n=10)}\")\n",
    "#print(f\"TREE ------> \\n{df_tree['F1-score'].head(n=10)}\")\n",
    "from scipy.stats import rankdata\n",
    "\n",
    "ranks = {\n",
    "    \"Ionosphere\": [0, 0, 0], # COL\n",
    "    \"Diabetes\": [0, 0, 0], # COL\n",
    "    \"Vehicle\": [0, 0, 0], # COL\n",
    "    \"Vowel\": [0, 0, 0], # COL\n",
    "    \"Tae\": [0, 0, 0], # COL\n",
    "    \"Sonar\": [0, 0, 0], # COL\n",
    "    \"Spambase\": [0, 0, 0], # COL\n",
    "    \"Page blocks\": [0, 0, 0], # COL\n",
    "    \"Iris\": [0, 0, 0], # COL\n",
    "    \"Letter\": [0, 0, 0], # COL\n",
    "}\n",
    "\n",
    "for index, (current_svm_value, current_knn_value, current_tree_value) in enumerate(zip(df_svm[\"Geometric mean\"].values, df_knn[\"Geometric mean\"].values, df_tree[\"Geometric mean\"].values)):\n",
    "\n",
    "    current_values = [current_svm_value, current_knn_value, current_tree_value]\n",
    "    current_ranking = rankdata(current_values)\n",
    "\n",
    "    ranks[list(ranks.keys())[index]] = current_ranking\n",
    "\n",
    "print(pd.DataFrame(ranks).transpose().rename(columns={0: \"SVM\", 1: \"KNN\", 2: \"Tree\"}).head(n=10))\n",
    "print(pd.DataFrame(ranks).transpose().rename(columns={0: \"SVM\", 1: \"KNN\", 2: \"Tree\"}).to_latex())\n",
    "\n",
    "df_ranks = pd.DataFrame(ranks).transpose().rename(columns={0: \"SVM\", 1: \"KNN\", 2: \"Tree\"})"
   ],
   "metadata": {
    "collapsed": false
   }
  },
  {
   "cell_type": "code",
   "execution_count": 21,
   "outputs": [
    {
     "data": {
      "text/plain": "<Figure size 1200x800 with 1 Axes>",
      "image/png": "[encoded data removed]"
     },
     "metadata": {},
     "output_type": "display_data"
    }
   ],
   "source": [
    "import numpy as np\n",
    "import matplotlib.pyplot as plt\n",
    "\n",
    "# set width of bar\n",
    "barWidth = 0.25\n",
    "fig = plt.subplots(figsize =(12, 8))\n",
    "\n",
    "# set height of bar\n",
    "IT = df_ranks['SVM'].values\n",
    "ECE = df_ranks['KNN'].values\n",
    "CSE = df_ranks['Tree'].values\n",
    "\n",
    "# Set position of bar on X axis\n",
    "br1 = np.arange(len(IT))\n",
    "br2 = [x + barWidth for x in br1]\n",
    "br3 = [x + barWidth for x in br2]\n",
    "\n",
    "# Make the plot\n",
    "plt.bar(br1, IT, color ='r', width = barWidth,\n",
    "\t\tedgecolor ='grey', label ='SVM')\n",
    "plt.bar(br2, ECE, color ='g', width = barWidth,\n",
    "\t\tedgecolor ='grey', label ='KNN')\n",
    "plt.bar(br3, CSE, color ='b', width = barWidth,\n",
    "\t\tedgecolor ='grey', label ='Tree')\n",
    "\n",
    "# Adding Xticks\n",
    "plt.xlabel('Datasets', fontweight ='bold', fontsize = 15)\n",
    "plt.ylabel('Ranking', fontweight ='bold', fontsize = 15)\n",
    "plt.xticks([r + barWidth for r in range(len(IT))],\n",
    "\t\tdf_ranks.index.values)\n",
    "\n",
    "plt.legend()\n",
    "plt.show()"
   ],
   "metadata": {
    "collapsed": false
   }
  },
  {
   "cell_type": "code",
   "execution_count": 22,
   "outputs": [
    {
     "name": "stdout",
     "output_type": "stream",
     "text": [
      "                  SVM       KNN      Tree\n",
      "Ionosphere   0.937381  0.829286  0.880397\n",
      "Diabetes     0.760390  0.709569  0.700513\n",
      "Vehicle      0.795602  0.933852  0.933824\n",
      "Vowel        0.948402  0.955525  0.954504\n",
      "Tae          0.185833  0.449167  0.508333\n",
      "Sonar        0.452857  0.403571  0.501667\n",
      "Spambase     0.712952  0.849614  0.865043\n",
      "Page blocks  0.902244  0.953399  0.955411\n",
      "Iris         0.900000  0.906667  0.906667\n",
      "Letter       0.910500  0.945350  0.875900\n"
     ]
    }
   ],
   "source": [
    "df_concat_f1_score = pd.DataFrame()\n",
    "\n",
    "df_concat_f1_score['SVM'] = df_svm['F1-score']\n",
    "df_concat_f1_score['KNN'] = df_knn['F1-score']\n",
    "df_concat_f1_score['Tree'] = df_tree['F1-score']\n",
    "\n",
    "print(df_concat_f1_score.head(n=10))"
   ],
   "metadata": {
    "collapsed": false
   }
  },
  {
   "cell_type": "code",
   "execution_count": 23,
   "outputs": [
    {
     "name": "stdout",
     "output_type": "stream",
     "text": [
      "The difference in performance between the models is not statistically significant (p = 0.311)\n"
     ]
    }
   ],
   "source": [
    "from scipy.stats import chi2\n",
    "\n",
    "\n",
    "def compute_iman_davenport_statistic(performance_matrix):\n",
    "    # Compute the ranks of the model performance on each dataset\n",
    "    ranks = np.apply_along_axis(lambda x: len(x) - np.argsort(np.argsort(x)), 1, performance_matrix)\n",
    "\n",
    "    # Sum the ranks for each model across all datasets\n",
    "    rank_sums = np.sum(ranks, axis=0)\n",
    "\n",
    "    # Compute the iman Davenport statistic\n",
    "    iman_davenport_statistic = (np.max(rank_sums) - np.min(rank_sums)) / performance_matrix.shape[1]\n",
    "\n",
    "    return iman_davenport_statistic\n",
    "\n",
    "\n",
    "def compute_p_value(iman_davenport_statistic, num_models, num_datasets):\n",
    "    # Compute the degrees of freedom for the iman Davenport test\n",
    "    df = num_models - 1\n",
    "\n",
    "    # Compute the p-value using the chi-squared distribution\n",
    "    p_value = 1 - chi2.cdf(iman_davenport_statistic, df)\n",
    "\n",
    "    return p_value\n",
    "\n",
    "\n",
    "def iman_davenport_test(performance_matrix, significance_level):\n",
    "    # Compute the iman Davenport statistic and p-value\n",
    "    iman_davenport_statistic = compute_iman_davenport_statistic(performance_matrix)\n",
    "    p_value = compute_p_value(iman_davenport_statistic, performance_matrix.shape[1], performance_matrix.shape[0])\n",
    "\n",
    "    # Determine whether the difference in performance between the models is statistically significant\n",
    "    if p_value < significance_level:\n",
    "        print(f\"The difference in performance between the models is statistically significant (p = {p_value:.3f})\")\n",
    "    else:\n",
    "        print(f\"The difference in performance between the models is not statistically significant (p = {p_value:.3f})\")\n",
    "    return p_value\n",
    "\n",
    "performance_matrix = df_concat_f1_score.values\n",
    "\n",
    "# Run the iman Davenport test\n",
    "p_value = iman_davenport_test(performance_matrix, 0.05)"
   ],
   "metadata": {
    "collapsed": false
   }
  },
  {
   "cell_type": "code",
   "execution_count": 24,
   "outputs": [
    {
     "name": "stdout",
     "output_type": "stream",
     "text": [
      "FriedmanchisquareResult(statistic=2.512820512820516, pvalue=0.28467410153159334)\n"
     ]
    }
   ],
   "source": [
    "from scipy.stats import friedmanchisquare\n",
    "\n",
    "friedman_test = friedmanchisquare(df_tree['F1-score'], df_svm['F1-score'], df_knn['F1-score'])\n",
    "\n",
    "print(friedman_test)"
   ],
   "metadata": {
    "collapsed": false
   }
  },
  {
   "cell_type": "code",
   "execution_count": 25,
   "outputs": [
    {
     "name": "stdout",
     "output_type": "stream",
     "text": [
      "Requirement already satisfied: scikit-posthocs in /home/ricardo/PycharmProjects/Local_IMD/venv/lib/python3.9/site-packages (0.7.0)\r\n",
      "Requirement already satisfied: pandas>=0.20.0 in /home/ricardo/PycharmProjects/Local_IMD/venv/lib/python3.9/site-packages (from scikit-posthocs) (1.5.2)\r\n",
      "Requirement already satisfied: matplotlib in /home/ricardo/PycharmProjects/Local_IMD/venv/lib/python3.9/site-packages (from scikit-posthocs) (3.6.2)\r\n",
      "Requirement already satisfied: seaborn in /home/ricardo/PycharmProjects/Local_IMD/venv/lib/python3.9/site-packages (from scikit-posthocs) (0.12.1)\r\n",
      "Requirement already satisfied: scipy in /home/ricardo/PycharmProjects/Local_IMD/venv/lib/python3.9/site-packages (from scikit-posthocs) (1.9.3)\r\n",
      "Requirement already satisfied: statsmodels in /home/ricardo/PycharmProjects/Local_IMD/venv/lib/python3.9/site-packages (from scikit-posthocs) (0.13.5)\r\n",
      "Requirement already satisfied: numpy in /home/ricardo/PycharmProjects/Local_IMD/venv/lib/python3.9/site-packages (from scikit-posthocs) (1.23.5)\r\n",
      "Requirement already satisfied: pytz>=2020.1 in /home/ricardo/PycharmProjects/Local_IMD/venv/lib/python3.9/site-packages (from pandas>=0.20.0->scikit-posthocs) (2022.6)\r\n",
      "Requirement already satisfied: python-dateutil>=2.8.1 in /home/ricardo/PycharmProjects/Local_IMD/venv/lib/python3.9/site-packages (from pandas>=0.20.0->scikit-posthocs) (2.8.2)\r\n",
      "Requirement already satisfied: fonttools>=4.22.0 in /home/ricardo/PycharmProjects/Local_IMD/venv/lib/python3.9/site-packages (from matplotlib->scikit-posthocs) (4.38.0)\r\n",
      "Requirement already satisfied: pillow>=6.2.0 in /home/ricardo/PycharmProjects/Local_IMD/venv/lib/python3.9/site-packages (from matplotlib->scikit-posthocs) (9.3.0)\r\n",
      "Requirement already satisfied: contourpy>=1.0.1 in /home/ricardo/PycharmProjects/Local_IMD/venv/lib/python3.9/site-packages (from matplotlib->scikit-posthocs) (1.0.6)\r\n",
      "Requirement already satisfied: cycler>=0.10 in /home/ricardo/PycharmProjects/Local_IMD/venv/lib/python3.9/site-packages (from matplotlib->scikit-posthocs) (0.11.0)\r\n",
      "Requirement already satisfied: kiwisolver>=1.0.1 in /home/ricardo/PycharmProjects/Local_IMD/venv/lib/python3.9/site-packages (from matplotlib->scikit-posthocs) (1.4.4)\r\n",
      "Requirement already satisfied: pyparsing>=2.2.1 in /home/ricardo/PycharmProjects/Local_IMD/venv/lib/python3.9/site-packages (from matplotlib->scikit-posthocs) (3.0.9)\r\n",
      "Requirement already satisfied: packaging>=20.0 in /home/ricardo/PycharmProjects/Local_IMD/venv/lib/python3.9/site-packages (from matplotlib->scikit-posthocs) (22.0)\r\n",
      "Requirement already satisfied: patsy>=0.5.2 in /home/ricardo/PycharmProjects/Local_IMD/venv/lib/python3.9/site-packages (from statsmodels->scikit-posthocs) (0.5.3)\r\n",
      "Requirement already satisfied: six in /home/ricardo/PycharmProjects/Local_IMD/venv/lib/python3.9/site-packages (from patsy>=0.5.2->statsmodels->scikit-posthocs) (1.16.0)\r\n"
     ]
    }
   ],
   "source": [
    "!pip install scikit-posthocs"
   ],
   "metadata": {
    "collapsed": false
   }
  },
  {
   "cell_type": "code",
   "execution_count": 26,
   "outputs": [
    {
     "name": "stdout",
     "output_type": "stream",
     "text": [
      "[0.93738095 0.76038961 0.79560224 0.94840239 0.18583333 0.45285714\n",
      " 0.71295247 0.90224382 0.9        0.9105    ]\n",
      "[0.88039683 0.70051265 0.93382353 0.95450423 0.50833333 0.50166667\n",
      " 0.86504338 0.95541107 0.90666667 0.8759    ]\n",
      "[0.82928571 0.70956938 0.93385154 0.95552463 0.44916667 0.40357143\n",
      " 0.84961379 0.95339876 0.90666667 0.94535   ]\n"
     ]
    }
   ],
   "source": [
    "np_svm = df_concat_f1_score['SVM'].values\n",
    "print(np_svm)\n",
    "\n",
    "np_tree = df_concat_f1_score['Tree'].values\n",
    "print(np_tree)\n",
    "\n",
    "np_knn = df_concat_f1_score['KNN'].values\n",
    "print(np_knn)"
   ],
   "metadata": {
    "collapsed": false
   }
  },
  {
   "cell_type": "code",
   "execution_count": 27,
   "outputs": [],
   "source": [
    "#import scikit_posthocs as sp\n",
    "\n",
    "#sp.posthoc_ttest([np_svm, np_tree, np_knn], p_adjust=None)"
   ],
   "metadata": {
    "collapsed": false
   }
  },
  {
   "cell_type": "code",
   "execution_count": 28,
   "outputs": [],
   "source": [
    "#sp.posthoc_ttest(df_concat_f1_score.values, p_adjust='holm').to_latex()"
   ],
   "metadata": {
    "collapsed": false
   }
  },
  {
   "cell_type": "code",
   "execution_count": 29,
   "outputs": [
    {
     "name": "stdout",
     "output_type": "stream",
     "text": [
      "[[3. 1. 2.]\n",
      " [3. 2. 1.]\n",
      " [1. 3. 2.]\n",
      " [1. 3. 2.]\n",
      " [1. 2. 3.]\n",
      " [2. 1. 3.]\n",
      " [1. 2. 3.]\n",
      " [1. 2. 3.]\n",
      " [1. 2. 3.]\n",
      " [2. 3. 1.]]\n",
      "[1.6, 2.1, 2.3]\n"
     ]
    }
   ],
   "source": [
    "ranks = df_ranks.values\n",
    "\n",
    "print(ranks)\n",
    "\n",
    "avg_ranking = [np.sum(ranks[:, 0]) / ranks.shape[0], np.sum(ranks[:, 1]) / ranks.shape[0], np.sum(ranks[:, 2]) / ranks.shape[0]]\n",
    "print(avg_ranking)"
   ],
   "metadata": {
    "collapsed": false
   }
  },
  {
   "cell_type": "code",
   "execution_count": 30,
   "outputs": [],
   "source": [
    "import math\n",
    "\n",
    "def bonferroni_dunn_z(r_i, r_j, k, n):\n",
    "    z = (r_i - r_j) / math.sqrt((k*(k + 1)) / 6*n)\n",
    "\n",
    "    return z"
   ],
   "metadata": {
    "collapsed": false
   }
  },
  {
   "cell_type": "code",
   "execution_count": 31,
   "outputs": [
    {
     "data": {
      "text/plain": "                       Z\nModel pairwise          \nZ_0_1          -0.111803\nZ_0_2          -0.156525\nZ_1_2          -0.044721",
      "text/html": "<div>\n<style scoped>\n    .dataframe tbody tr th:only-of-type {\n        vertical-align: middle;\n    }\n\n    .dataframe tbody tr th {\n        vertical-align: top;\n    }\n\n    .dataframe thead th {\n        text-align: right;\n    }\n</style>\n<table border=\"1\" class=\"dataframe\">\n  <thead>\n    <tr style=\"text-align: right;\">\n      <th></th>\n      <th>Z</th>\n    </tr>\n    <tr>\n      <th>Model pairwise</th>\n      <th></th>\n    </tr>\n  </thead>\n  <tbody>\n    <tr>\n      <th>Z_0_1</th>\n      <td>-0.111803</td>\n    </tr>\n    <tr>\n      <th>Z_0_2</th>\n      <td>-0.156525</td>\n    </tr>\n    <tr>\n      <th>Z_1_2</th>\n      <td>-0.044721</td>\n    </tr>\n  </tbody>\n</table>\n</div>"
     },
     "execution_count": 31,
     "metadata": {},
     "output_type": "execute_result"
    }
   ],
   "source": [
    "z_0_1 = bonferroni_dunn_z(avg_ranking[0], avg_ranking[1], 3, 10)\n",
    "z_0_2 = bonferroni_dunn_z(avg_ranking[0], avg_ranking[2], 3, 10)\n",
    "z_1_2 = bonferroni_dunn_z(avg_ranking[1], avg_ranking[2], 3, 10)\n",
    "\n",
    "df_bonferroni_dun = pd.DataFrame()\n",
    "arr = [z_0_1, z_0_2, z_1_2]\n",
    "\n",
    "df_bonferroni_dun['Z'] = arr\n",
    "df_bonferroni_dun['Model pairwise'] = ['Z_0_1', 'Z_0_2', 'Z_1_2']\n",
    "df_bonferroni_dun = df_bonferroni_dun.set_index('Model pairwise')\n",
    "\n",
    "df_bonferroni_dun.style.hide_index()\n",
    "df_bonferroni_dun.head()"
   ],
   "metadata": {
    "collapsed": false
   }
  },
  {
   "cell_type": "code",
   "execution_count": 32,
   "outputs": [
    {
     "data": {
      "text/plain": "'\\\\begin{tabular}{lr}\\n\\\\toprule\\n{} &         Z \\\\\\\\\\nModel pairwise &           \\\\\\\\\\n\\\\midrule\\nZ\\\\_0\\\\_1          & -0.111803 \\\\\\\\\\nZ\\\\_0\\\\_2          & -0.156525 \\\\\\\\\\nZ\\\\_1\\\\_2          & -0.044721 \\\\\\\\\\n\\\\bottomrule\\n\\\\end{tabular}\\n'"
     },
     "execution_count": 32,
     "metadata": {},
     "output_type": "execute_result"
    }
   ],
   "source": [
    "df_bonferroni_dun.to_latex()"
   ],
   "metadata": {
    "collapsed": false
   }
  },
  {
   "cell_type": "code",
   "execution_count": 33,
   "outputs": [
    {
     "data": {
      "text/plain": "                       Z   p-value  Bonferroni(α/6)  Holm(α/(7 - i))\nModel pairwise                                                      \nZ_0_1          -0.111803  0.544510         0.016667         0.010000\nZ_0_2          -0.156525  0.562190         0.016667         0.012500\nZ_1_2          -0.044721  0.517835         0.016667         0.008333",
      "text/html": "<div>\n<style scoped>\n    .dataframe tbody tr th:only-of-type {\n        vertical-align: middle;\n    }\n\n    .dataframe tbody tr th {\n        vertical-align: top;\n    }\n\n    .dataframe thead th {\n        text-align: right;\n    }\n</style>\n<table border=\"1\" class=\"dataframe\">\n  <thead>\n    <tr style=\"text-align: right;\">\n      <th></th>\n      <th>Z</th>\n      <th>p-value</th>\n      <th>Bonferroni(α/6)</th>\n      <th>Holm(α/(7 - i))</th>\n    </tr>\n    <tr>\n      <th>Model pairwise</th>\n      <th></th>\n      <th></th>\n      <th></th>\n      <th></th>\n    </tr>\n  </thead>\n  <tbody>\n    <tr>\n      <th>Z_0_1</th>\n      <td>-0.111803</td>\n      <td>0.544510</td>\n      <td>0.016667</td>\n      <td>0.010000</td>\n    </tr>\n    <tr>\n      <th>Z_0_2</th>\n      <td>-0.156525</td>\n      <td>0.562190</td>\n      <td>0.016667</td>\n      <td>0.012500</td>\n    </tr>\n    <tr>\n      <th>Z_1_2</th>\n      <td>-0.044721</td>\n      <td>0.517835</td>\n      <td>0.016667</td>\n      <td>0.008333</td>\n    </tr>\n  </tbody>\n</table>\n</div>"
     },
     "execution_count": 33,
     "metadata": {},
     "output_type": "execute_result"
    }
   ],
   "source": [
    "from scipy.stats import norm\n",
    "\n",
    "df_bonferroni_dun['p-value'] = [1.0 - norm.cdf(z_0_1), 1.0 - norm.cdf(z_0_2), 1.0 - norm.cdf(z_1_2)]\n",
    "df_bonferroni_dun['Bonferroni(α/6)'] = [0.05 / 3, 0.05 / 3, 0.05 / 3]\n",
    "\n",
    "# Ranking by i\n",
    "df_bonferroni_dun['Holm(α/(7 - i))'] = [0.05 / (7 - 2), 0.05 / (7 - 3), 0.05 / (7 - 1)]\n",
    "\n",
    "df_bonferroni_dun.head()"
   ],
   "metadata": {
    "collapsed": false
   }
  },
  {
   "cell_type": "code",
   "execution_count": 34,
   "outputs": [
    {
     "data": {
      "text/plain": "'\\\\begin{tabular}{lrrrr}\\n\\\\toprule\\n{} &         Z &   p-value &  Bonferroni(α/6) &  Holm(α/(7 - i)) \\\\\\\\\\nModel pairwise &           &           &                  &                  \\\\\\\\\\n\\\\midrule\\nZ\\\\_0\\\\_1          & -0.111803 &  0.544510 &         0.016667 &         0.010000 \\\\\\\\\\nZ\\\\_0\\\\_2          & -0.156525 &  0.562190 &         0.016667 &         0.012500 \\\\\\\\\\nZ\\\\_1\\\\_2          & -0.044721 &  0.517835 &         0.016667 &         0.008333 \\\\\\\\\\n\\\\bottomrule\\n\\\\end{tabular}\\n'"
     },
     "execution_count": 34,
     "metadata": {},
     "output_type": "execute_result"
    }
   ],
   "source": [
    "df_bonferroni_dun.to_latex()"
   ],
   "metadata": {
    "collapsed": false
   }
  },
  {
   "cell_type": "code",
   "execution_count": 58,
   "outputs": [
    {
     "name": "stdout",
     "output_type": "stream",
     "text": [
      "Current dataset Diabetes (F1). Best hiper-parameters found: {'criterion': 'entropy', 'splitter': 'best'}\n",
      "Current dataset Diabetes (GM). Best hiper-parameters found: {'criterion': 'entropy', 'splitter': 'best'}\n",
      "Current dataset Iris (F1). Best hiper-parameters found: {'criterion': 'gini', 'splitter': 'best'}\n",
      "Current dataset Iris (GM). Best hiper-parameters found: {'criterion': 'entropy', 'splitter': 'random'}\n",
      "Current dataset Ionosphere (F1). Best hiper-parameters found: {'criterion': 'gini', 'splitter': 'best'}\n",
      "Current dataset Ionosphere (GM). Best hiper-parameters found: {'criterion': 'log_loss', 'splitter': 'random'}\n",
      "Current dataset Vehicle (F1). Best hiper-parameters found: {'criterion': 'log_loss', 'splitter': 'random'}\n",
      "Current dataset Vehicle (GM). Best hiper-parameters found: {'criterion': 'log_loss', 'splitter': 'random'}\n",
      "Current dataset Vowel (F1). Best hiper-parameters found: {'criterion': 'entropy', 'splitter': 'best'}\n",
      "Current dataset Vowel (GM). Best hiper-parameters found: {'criterion': 'log_loss', 'splitter': 'best'}\n",
      "Current dataset Tae (F1). Best hiper-parameters found: {'criterion': 'gini', 'splitter': 'random'}\n",
      "Current dataset Tae (GM). Best hiper-parameters found: {'criterion': 'gini', 'splitter': 'best'}\n",
      "Current dataset Sonar (F1). Best hiper-parameters found: {'criterion': 'entropy', 'splitter': 'random'}\n",
      "Current dataset Sonar (GM). Best hiper-parameters found: {'criterion': 'log_loss', 'splitter': 'random'}\n",
      "Current dataset Spambase (F1). Best hiper-parameters found: {'criterion': 'log_loss', 'splitter': 'best'}\n",
      "Current dataset Spambase (GM). Best hiper-parameters found: {'criterion': 'log_loss', 'splitter': 'best'}\n",
      "Current dataset Page blocks (F1). Best hiper-parameters found: {'criterion': 'entropy', 'splitter': 'best'}\n",
      "Current dataset Page blocks (GM). Best hiper-parameters found: {'criterion': 'entropy', 'splitter': 'best'}\n",
      "Current dataset Letter (F1). Best hiper-parameters found: {'criterion': 'log_loss', 'splitter': 'best'}\n",
      "Current dataset Letter (GM). Best hiper-parameters found: {'criterion': 'entropy', 'splitter': 'best'}\n"
     ]
    }
   ],
   "source": [
    "from sklearn.metrics import make_scorer\n",
    "\n",
    "parametersTree = {\n",
    "    'criterion':['gini', 'entropy', 'log_loss'],\n",
    "    'splitter' : ['best', 'random']\n",
    "}\n",
    "\n",
    "current_table = dict()\n",
    "\n",
    "def scoringF1Score(est, X, y):\n",
    "    return f1_score(y_pred=est.predict(X), y_true=y, average=\"micro\")\n",
    "\n",
    "def scoringGMean(est, X, y):\n",
    "  return geometric_mean_score(y_pred=est.predict(X), y_true=y, average=\"micro\")\n",
    "\n",
    "def make_10_fold_tree(x, y, current_table, dataset_str):\n",
    "\n",
    "    optimalTree_f1 = GridSearchCV(estimator=DecisionTreeClassifier(), cv=10, param_grid=parametersTree, n_jobs=2,  scoring=scoringF1Score)\n",
    "    optimalTree_gm = GridSearchCV(estimator=DecisionTreeClassifier(), cv=10, param_grid=parametersTree, n_jobs=2,  scoring=scoringGMean)\n",
    "\n",
    "    optimalTree_f1.fit(x, y)\n",
    "    optimalTree_gm.fit(x, y)\n",
    "\n",
    "    current_table[dataset_str] = [pd.DataFrame.from_dict(optimalTree_f1.cv_results_).sort_values('rank_test_score').iloc[0, :]['mean_test_score'], pd.DataFrame.from_dict(optimalTree_gm.cv_results_).sort_values('rank_test_score').iloc[0, :]['mean_test_score']]\n",
    "\n",
    "    print(f\"Current dataset {dataset_str} (F1). Best hiper-parameters found: {optimalTree_f1.best_params_}\")\n",
    "    print(f\"Current dataset {dataset_str} (GM). Best hiper-parameters found: {optimalTree_gm.best_params_}\")\n",
    "\n",
    "make_10_fold_tree(df_diabe.iloc[:, 0:-2].values, df_diabe.iloc[:, -1].values, current_table, \"Diabetes\")\n",
    "make_10_fold_tree(df_iris.iloc[:, 0:-2].values, df_iris.iloc[:, -1].values, current_table, \"Iris\")\n",
    "make_10_fold_tree(df_iono.iloc[:, 0:-2].values, df_iono.iloc[:, -1].values, current_table, \"Ionosphere\")\n",
    "make_10_fold_tree(df_Vehicle.iloc[:, 0:-2].values, df_Vehicle.iloc[:, -1].values, current_table, \"Vehicle\")\n",
    "make_10_fold_tree(df_vowel.iloc[:, 0:-2].values, df_vowel.iloc[:, -1].values, current_table, \"Vowel\")\n",
    "make_10_fold_tree(df_tae.iloc[:, 0:-2].values, df_tae.iloc[:, -1].values, current_table, \"Tae\")\n",
    "make_10_fold_tree(df_sonar.iloc[:, 0:-2].values, df_sonar.iloc[:, -1].values, current_table, \"Sonar\")\n",
    "make_10_fold_tree(df_spambase.iloc[:, 0:-2].values, df_spambase.iloc[:, -1].values, current_table, \"Spambase\")\n",
    "make_10_fold_tree(df_page.iloc[:, 0:-2].values, df_page.iloc[:, -1].values, current_table, \"Page blocks\")\n",
    "make_10_fold_tree(df_letter.iloc[:, 0:-2].values, df_letter.iloc[:, -1].values, current_table, \"Letter\")"
   ],
   "metadata": {
    "collapsed": false
   }
  },
  {
   "cell_type": "code",
   "execution_count": 60,
   "outputs": [
    {
     "data": {
      "text/plain": "             F1-score  Geometric mean\nDiabetes     0.712269        0.708339\nIris         0.953333        0.964865\nIonosphere   0.894603        0.891667\nVehicle      0.943319        0.949216\nVowel        0.975716        0.968646\nTae          0.581667        0.670002\nSonar        0.726190        0.688333\nSpambase     0.913708        0.915014\nPage blocks  0.960342        0.959246\nLetter       0.880850        0.937338",
      "text/html": "<div>\n<style scoped>\n    .dataframe tbody tr th:only-of-type {\n        vertical-align: middle;\n    }\n\n    .dataframe tbody tr th {\n        vertical-align: top;\n    }\n\n    .dataframe thead th {\n        text-align: right;\n    }\n</style>\n<table border=\"1\" class=\"dataframe\">\n  <thead>\n    <tr style=\"text-align: right;\">\n      <th></th>\n      <th>F1-score</th>\n      <th>Geometric mean</th>\n    </tr>\n  </thead>\n  <tbody>\n    <tr>\n      <th>Diabetes</th>\n      <td>0.712269</td>\n      <td>0.708339</td>\n    </tr>\n    <tr>\n      <th>Iris</th>\n      <td>0.953333</td>\n      <td>0.964865</td>\n    </tr>\n    <tr>\n      <th>Ionosphere</th>\n      <td>0.894603</td>\n      <td>0.891667</td>\n    </tr>\n    <tr>\n      <th>Vehicle</th>\n      <td>0.943319</td>\n      <td>0.949216</td>\n    </tr>\n    <tr>\n      <th>Vowel</th>\n      <td>0.975716</td>\n      <td>0.968646</td>\n    </tr>\n    <tr>\n      <th>Tae</th>\n      <td>0.581667</td>\n      <td>0.670002</td>\n    </tr>\n    <tr>\n      <th>Sonar</th>\n      <td>0.726190</td>\n      <td>0.688333</td>\n    </tr>\n    <tr>\n      <th>Spambase</th>\n      <td>0.913708</td>\n      <td>0.915014</td>\n    </tr>\n    <tr>\n      <th>Page blocks</th>\n      <td>0.960342</td>\n      <td>0.959246</td>\n    </tr>\n    <tr>\n      <th>Letter</th>\n      <td>0.880850</td>\n      <td>0.937338</td>\n    </tr>\n  </tbody>\n</table>\n</div>"
     },
     "execution_count": 60,
     "metadata": {},
     "output_type": "execute_result"
    }
   ],
   "source": [
    "grid_df = pd.DataFrame(current_table).transpose().rename(columns = {0: 'F1-score', 1: 'Geometric mean'})\n",
    "\n",
    "grid_df.head(n=10)"
   ],
   "metadata": {
    "collapsed": false
   }
  },
  {
   "cell_type": "code",
   "execution_count": 80,
   "outputs": [
    {
     "name": "stdout",
     "output_type": "stream",
     "text": [
      "F1-score\n",
      "The difference in performance between the models is statistically significant (p = 0.025)\n"
     ]
    }
   ],
   "source": [
    "df_concat_grid = pd.DataFrame()\n",
    "\n",
    "df_concat_grid['Tree vanilla'] = df_tree['F1-score']\n",
    "df_concat_grid['Tree optimized'] = grid_df['F1-score']\n",
    "\n",
    "performance_matrix = df_concat_grid.values\n",
    "\n",
    "# Run the iman Davenport test\n",
    "print(\"F1-score\")\n",
    "p_value = iman_davenport_test(performance_matrix, 0.05)"
   ],
   "metadata": {
    "collapsed": false
   }
  },
  {
   "cell_type": "code",
   "execution_count": 83,
   "outputs": [
    {
     "name": "stdout",
     "output_type": "stream",
     "text": [
      "Geometric mean\n",
      "The difference in performance between the models is statistically significant (p = 0.025)\n"
     ]
    }
   ],
   "source": [
    "df_concat_grid = pd.DataFrame()\n",
    "\n",
    "df_concat_grid['Tree vanilla'] = df_tree['Geometric mean']\n",
    "df_concat_grid['Tree optimized'] = grid_df['Geometric mean']\n",
    "\n",
    "performance_matrix = df_concat_grid.values\n",
    "\n",
    "# Run the iman Davenport test\n",
    "print(\"Geometric mean\")\n",
    "p_value = iman_davenport_test(performance_matrix, 0.05)"
   ],
   "metadata": {
    "collapsed": false
   }
  }
 ],
 "metadata": {
  "kernelspec": {
   "display_name": "Python 3",
   "language": "python",
   "name": "python3"
  },
  "language_info": {
   "codemirror_mode": {
    "name": "ipython",
    "version": 2
   },
   "file_extension": ".py",
   "mimetype": "text/x-python",
   "name": "python",
   "nbconvert_exporter": "python",
   "pygments_lexer": "ipython2",
   "version": "2.7.6"
  }
 },
 "nbformat": 4,
 "nbformat_minor": 0
}
